{
 "cells": [
  {
   "attachments": {},
   "cell_type": "markdown",
   "metadata": {},
   "source": [
    "# ASSIGNMENT 2\n",
    "- Nama          : Lisa Wahyu Ningsih\n",
    "- Kode peserta  : PYTN-KS15-007\n",
    "- Kelas\t\t    : KS-015\n",
    "- Program\t    : Python for Data Science"
   ]
  },
  {
   "attachments": {},
   "cell_type": "markdown",
   "metadata": {},
   "source": [
    "## Metode Statistik\n",
    "- Preprocessing data\n",
    "- Measure of Central Tendency\n",
    "- Measure of Spread\n",
    "- Probability Distribution\n",
    "- Confidence Intervals\n",
    "- Hypotesis Testing\n"
   ]
  },
  {
   "cell_type": "code",
   "execution_count": 1,
   "metadata": {},
   "outputs": [
    {
     "name": "stdout",
     "output_type": "stream",
     "text": [
      "       Unnamed: 0  BOROUGH   NEIGHBORHOOD  \\\n",
      "0               4        1  ALPHABET CITY   \n",
      "1               5        1  ALPHABET CITY   \n",
      "2               6        1  ALPHABET CITY   \n",
      "3               7        1  ALPHABET CITY   \n",
      "4               8        1  ALPHABET CITY   \n",
      "...           ...      ...            ...   \n",
      "84543        8409        5        WOODROW   \n",
      "84544        8410        5        WOODROW   \n",
      "84545        8411        5        WOODROW   \n",
      "84546        8412        5        WOODROW   \n",
      "84547        8413        5        WOODROW   \n",
      "\n",
      "                           BUILDING CLASS CATEGORY TAX CLASS AT PRESENT  \\\n",
      "0      07 RENTALS - WALKUP APARTMENTS                                2A   \n",
      "1      07 RENTALS - WALKUP APARTMENTS                                 2   \n",
      "2      07 RENTALS - WALKUP APARTMENTS                                 2   \n",
      "3      07 RENTALS - WALKUP APARTMENTS                                2B   \n",
      "4      07 RENTALS - WALKUP APARTMENTS                                2A   \n",
      "...                                            ...                  ...   \n",
      "84543  02 TWO FAMILY DWELLINGS                                        1   \n",
      "84544  02 TWO FAMILY DWELLINGS                                        1   \n",
      "84545  02 TWO FAMILY DWELLINGS                                        1   \n",
      "84546  22 STORE BUILDINGS                                             4   \n",
      "84547  35 INDOOR PUBLIC AND CULTURAL FACILITIES                       4   \n",
      "\n",
      "       BLOCK  LOT EASE-MENT BUILDING CLASS AT PRESENT                 ADDRESS  \\\n",
      "0        392    6                                  C2            153 AVENUE B   \n",
      "1        399   26                                  C7   234 EAST 4TH   STREET   \n",
      "2        399   39                                  C7   197 EAST 3RD   STREET   \n",
      "3        402   21                                  C4     154 EAST 7TH STREET   \n",
      "4        404   55                                  C2  301 EAST 10TH   STREET   \n",
      "...      ...  ...       ...                       ...                     ...   \n",
      "84543   7349   34                                  B9           37 QUAIL LANE   \n",
      "84544   7349   78                                  B9        32 PHEASANT LANE   \n",
      "84545   7351   60                                  B2        49 PITNEY AVENUE   \n",
      "84546   7100   28                                  K6   2730 ARTHUR KILL ROAD   \n",
      "84547   7105  679                                  P9       155 CLAY PIT ROAD   \n",
      "\n",
      "       ... RESIDENTIAL UNITS  COMMERCIAL UNITS  TOTAL UNITS  LAND SQUARE FEET  \\\n",
      "0      ...                 5                 0            5              1633   \n",
      "1      ...                28                 3           31              4616   \n",
      "2      ...                16                 1           17              2212   \n",
      "3      ...                10                 0           10              2272   \n",
      "4      ...                 6                 0            6              2369   \n",
      "...    ...               ...               ...          ...               ...   \n",
      "84543  ...                 2                 0            2              2400   \n",
      "84544  ...                 2                 0            2              2498   \n",
      "84545  ...                 2                 0            2              4000   \n",
      "84546  ...                 0                 7            7            208033   \n",
      "84547  ...                 0                 1            1             10796   \n",
      "\n",
      "       GROSS SQUARE FEET YEAR BUILT TAX CLASS AT TIME OF SALE  \\\n",
      "0                   6440       1900                         2   \n",
      "1                  18690       1900                         2   \n",
      "2                   7803       1900                         2   \n",
      "3                   6794       1913                         2   \n",
      "4                   4615       1900                         2   \n",
      "...                  ...        ...                       ...   \n",
      "84543               2575       1998                         1   \n",
      "84544               2377       1998                         1   \n",
      "84545               1496       1925                         1   \n",
      "84546              64117       2001                         4   \n",
      "84547               2400       2006                         4   \n",
      "\n",
      "       BUILDING CLASS AT TIME OF SALE  SALE PRICE            SALE DATE  \n",
      "0                                  C2     6625000  2017-07-19 00:00:00  \n",
      "1                                  C7         -    2016-12-14 00:00:00  \n",
      "2                                  C7         -    2016-12-09 00:00:00  \n",
      "3                                  C4     3936272  2016-09-23 00:00:00  \n",
      "4                                  C2     8000000  2016-11-17 00:00:00  \n",
      "...                               ...         ...                  ...  \n",
      "84543                              B9      450000  2016-11-28 00:00:00  \n",
      "84544                              B9      550000  2017-04-21 00:00:00  \n",
      "84545                              B2      460000  2017-07-05 00:00:00  \n",
      "84546                              K6    11693337  2016-12-21 00:00:00  \n",
      "84547                              P9       69300  2016-10-27 00:00:00  \n",
      "\n",
      "[84548 rows x 22 columns]\n"
     ]
    }
   ],
   "source": [
    "import numpy as np\n",
    "import pandas as pd\n",
    "import math\n",
    "import statistics\n",
    "import scipy.stats as stats\n",
    "\n",
    "import matplotlib.pyplot as plt\n",
    "from IPython.display import Math, Latex\n",
    "from IPython.core.display import Image\n",
    "\n",
    "import seaborn as sns\n",
    "sns.set(color_codes=True)\n",
    "sns.set(rc={'figure.figsize' : (7,7)})\n",
    "\n",
    "import math\n",
    "from scipy.stats import uniform, norm, gamma, poisson, binom, bernoulli, expon, pearsonr\n",
    "\n",
    "import statsmodels.api as sm\n",
    "\n",
    "import random\n",
    "import warnings\n",
    "\n",
    "plt.style.use('ggplot')\n",
    "\n",
    "df=pd.read_csv('assignment2.csv')\n",
    "print(df)"
   ]
  },
  {
   "cell_type": "code",
   "execution_count": 2,
   "metadata": {},
   "outputs": [
    {
     "name": "stdout",
     "output_type": "stream",
     "text": [
      "<class 'pandas.core.frame.DataFrame'>\n",
      "RangeIndex: 84548 entries, 0 to 84547\n",
      "Data columns (total 22 columns):\n",
      " #   Column                          Non-Null Count  Dtype \n",
      "---  ------                          --------------  ----- \n",
      " 0   Unnamed: 0                      84548 non-null  int64 \n",
      " 1   BOROUGH                         84548 non-null  int64 \n",
      " 2   NEIGHBORHOOD                    84548 non-null  object\n",
      " 3   BUILDING CLASS CATEGORY         84548 non-null  object\n",
      " 4   TAX CLASS AT PRESENT            84548 non-null  object\n",
      " 5   BLOCK                           84548 non-null  int64 \n",
      " 6   LOT                             84548 non-null  int64 \n",
      " 7   EASE-MENT                       84548 non-null  object\n",
      " 8   BUILDING CLASS AT PRESENT       84548 non-null  object\n",
      " 9   ADDRESS                         84548 non-null  object\n",
      " 10  APARTMENT NUMBER                84548 non-null  object\n",
      " 11  ZIP CODE                        84548 non-null  int64 \n",
      " 12  RESIDENTIAL UNITS               84548 non-null  int64 \n",
      " 13  COMMERCIAL UNITS                84548 non-null  int64 \n",
      " 14  TOTAL UNITS                     84548 non-null  int64 \n",
      " 15  LAND SQUARE FEET                84548 non-null  object\n",
      " 16  GROSS SQUARE FEET               84548 non-null  object\n",
      " 17  YEAR BUILT                      84548 non-null  int64 \n",
      " 18  TAX CLASS AT TIME OF SALE       84548 non-null  int64 \n",
      " 19  BUILDING CLASS AT TIME OF SALE  84548 non-null  object\n",
      " 20  SALE PRICE                      84548 non-null  object\n",
      " 21  SALE DATE                       84548 non-null  object\n",
      "dtypes: int64(10), object(12)\n",
      "memory usage: 14.2+ MB\n"
     ]
    }
   ],
   "source": [
    "df.info()"
   ]
  },
  {
   "cell_type": "code",
   "execution_count": 3,
   "metadata": {},
   "outputs": [
    {
     "data": {
      "text/html": [
       "<div>\n",
       "<style scoped>\n",
       "    .dataframe tbody tr th:only-of-type {\n",
       "        vertical-align: middle;\n",
       "    }\n",
       "\n",
       "    .dataframe tbody tr th {\n",
       "        vertical-align: top;\n",
       "    }\n",
       "\n",
       "    .dataframe thead th {\n",
       "        text-align: right;\n",
       "    }\n",
       "</style>\n",
       "<table border=\"1\" class=\"dataframe\">\n",
       "  <thead>\n",
       "    <tr style=\"text-align: right;\">\n",
       "      <th></th>\n",
       "      <th>Unnamed: 0</th>\n",
       "      <th>BOROUGH</th>\n",
       "      <th>BLOCK</th>\n",
       "      <th>LOT</th>\n",
       "      <th>ZIP CODE</th>\n",
       "      <th>RESIDENTIAL UNITS</th>\n",
       "      <th>COMMERCIAL UNITS</th>\n",
       "      <th>TOTAL UNITS</th>\n",
       "      <th>YEAR BUILT</th>\n",
       "      <th>TAX CLASS AT TIME OF SALE</th>\n",
       "    </tr>\n",
       "  </thead>\n",
       "  <tbody>\n",
       "    <tr>\n",
       "      <th>count</th>\n",
       "      <td>84548.000000</td>\n",
       "      <td>84548.000000</td>\n",
       "      <td>84548.000000</td>\n",
       "      <td>84548.000000</td>\n",
       "      <td>84548.000000</td>\n",
       "      <td>84548.000000</td>\n",
       "      <td>84548.000000</td>\n",
       "      <td>84548.000000</td>\n",
       "      <td>84548.000000</td>\n",
       "      <td>84548.000000</td>\n",
       "    </tr>\n",
       "    <tr>\n",
       "      <th>mean</th>\n",
       "      <td>10344.359878</td>\n",
       "      <td>2.998758</td>\n",
       "      <td>4237.218976</td>\n",
       "      <td>376.224015</td>\n",
       "      <td>10731.991614</td>\n",
       "      <td>2.025264</td>\n",
       "      <td>0.193559</td>\n",
       "      <td>2.249184</td>\n",
       "      <td>1789.322976</td>\n",
       "      <td>1.657485</td>\n",
       "    </tr>\n",
       "    <tr>\n",
       "      <th>std</th>\n",
       "      <td>7151.779436</td>\n",
       "      <td>1.289790</td>\n",
       "      <td>3568.263407</td>\n",
       "      <td>658.136814</td>\n",
       "      <td>1290.879147</td>\n",
       "      <td>16.721037</td>\n",
       "      <td>8.713183</td>\n",
       "      <td>18.972584</td>\n",
       "      <td>537.344993</td>\n",
       "      <td>0.819341</td>\n",
       "    </tr>\n",
       "    <tr>\n",
       "      <th>min</th>\n",
       "      <td>4.000000</td>\n",
       "      <td>1.000000</td>\n",
       "      <td>1.000000</td>\n",
       "      <td>1.000000</td>\n",
       "      <td>0.000000</td>\n",
       "      <td>0.000000</td>\n",
       "      <td>0.000000</td>\n",
       "      <td>0.000000</td>\n",
       "      <td>0.000000</td>\n",
       "      <td>1.000000</td>\n",
       "    </tr>\n",
       "    <tr>\n",
       "      <th>25%</th>\n",
       "      <td>4231.000000</td>\n",
       "      <td>2.000000</td>\n",
       "      <td>1322.750000</td>\n",
       "      <td>22.000000</td>\n",
       "      <td>10305.000000</td>\n",
       "      <td>0.000000</td>\n",
       "      <td>0.000000</td>\n",
       "      <td>1.000000</td>\n",
       "      <td>1920.000000</td>\n",
       "      <td>1.000000</td>\n",
       "    </tr>\n",
       "    <tr>\n",
       "      <th>50%</th>\n",
       "      <td>8942.000000</td>\n",
       "      <td>3.000000</td>\n",
       "      <td>3311.000000</td>\n",
       "      <td>50.000000</td>\n",
       "      <td>11209.000000</td>\n",
       "      <td>1.000000</td>\n",
       "      <td>0.000000</td>\n",
       "      <td>1.000000</td>\n",
       "      <td>1940.000000</td>\n",
       "      <td>2.000000</td>\n",
       "    </tr>\n",
       "    <tr>\n",
       "      <th>75%</th>\n",
       "      <td>15987.250000</td>\n",
       "      <td>4.000000</td>\n",
       "      <td>6281.000000</td>\n",
       "      <td>1001.000000</td>\n",
       "      <td>11357.000000</td>\n",
       "      <td>2.000000</td>\n",
       "      <td>0.000000</td>\n",
       "      <td>2.000000</td>\n",
       "      <td>1965.000000</td>\n",
       "      <td>2.000000</td>\n",
       "    </tr>\n",
       "    <tr>\n",
       "      <th>max</th>\n",
       "      <td>26739.000000</td>\n",
       "      <td>5.000000</td>\n",
       "      <td>16322.000000</td>\n",
       "      <td>9106.000000</td>\n",
       "      <td>11694.000000</td>\n",
       "      <td>1844.000000</td>\n",
       "      <td>2261.000000</td>\n",
       "      <td>2261.000000</td>\n",
       "      <td>2017.000000</td>\n",
       "      <td>4.000000</td>\n",
       "    </tr>\n",
       "  </tbody>\n",
       "</table>\n",
       "</div>"
      ],
      "text/plain": [
       "         Unnamed: 0       BOROUGH         BLOCK           LOT      ZIP CODE  \\\n",
       "count  84548.000000  84548.000000  84548.000000  84548.000000  84548.000000   \n",
       "mean   10344.359878      2.998758   4237.218976    376.224015  10731.991614   \n",
       "std     7151.779436      1.289790   3568.263407    658.136814   1290.879147   \n",
       "min        4.000000      1.000000      1.000000      1.000000      0.000000   \n",
       "25%     4231.000000      2.000000   1322.750000     22.000000  10305.000000   \n",
       "50%     8942.000000      3.000000   3311.000000     50.000000  11209.000000   \n",
       "75%    15987.250000      4.000000   6281.000000   1001.000000  11357.000000   \n",
       "max    26739.000000      5.000000  16322.000000   9106.000000  11694.000000   \n",
       "\n",
       "       RESIDENTIAL UNITS  COMMERCIAL UNITS   TOTAL UNITS    YEAR BUILT  \\\n",
       "count       84548.000000      84548.000000  84548.000000  84548.000000   \n",
       "mean            2.025264          0.193559      2.249184   1789.322976   \n",
       "std            16.721037          8.713183     18.972584    537.344993   \n",
       "min             0.000000          0.000000      0.000000      0.000000   \n",
       "25%             0.000000          0.000000      1.000000   1920.000000   \n",
       "50%             1.000000          0.000000      1.000000   1940.000000   \n",
       "75%             2.000000          0.000000      2.000000   1965.000000   \n",
       "max          1844.000000       2261.000000   2261.000000   2017.000000   \n",
       "\n",
       "       TAX CLASS AT TIME OF SALE  \n",
       "count               84548.000000  \n",
       "mean                    1.657485  \n",
       "std                     0.819341  \n",
       "min                     1.000000  \n",
       "25%                     1.000000  \n",
       "50%                     2.000000  \n",
       "75%                     2.000000  \n",
       "max                     4.000000  "
      ]
     },
     "execution_count": 3,
     "metadata": {},
     "output_type": "execute_result"
    }
   ],
   "source": [
    "df.describe()"
   ]
  },
  {
   "cell_type": "code",
   "execution_count": 4,
   "metadata": {},
   "outputs": [
    {
     "data": {
      "text/html": [
       "<div>\n",
       "<style scoped>\n",
       "    .dataframe tbody tr th:only-of-type {\n",
       "        vertical-align: middle;\n",
       "    }\n",
       "\n",
       "    .dataframe tbody tr th {\n",
       "        vertical-align: top;\n",
       "    }\n",
       "\n",
       "    .dataframe thead th {\n",
       "        text-align: right;\n",
       "    }\n",
       "</style>\n",
       "<table border=\"1\" class=\"dataframe\">\n",
       "  <thead>\n",
       "    <tr style=\"text-align: right;\">\n",
       "      <th></th>\n",
       "      <th>Unnamed: 0</th>\n",
       "      <th>BOROUGH</th>\n",
       "      <th>NEIGHBORHOOD</th>\n",
       "      <th>BUILDING CLASS CATEGORY</th>\n",
       "      <th>TAX CLASS AT PRESENT</th>\n",
       "      <th>BLOCK</th>\n",
       "      <th>LOT</th>\n",
       "      <th>EASE-MENT</th>\n",
       "      <th>BUILDING CLASS AT PRESENT</th>\n",
       "      <th>ADDRESS</th>\n",
       "      <th>...</th>\n",
       "      <th>RESIDENTIAL UNITS</th>\n",
       "      <th>COMMERCIAL UNITS</th>\n",
       "      <th>TOTAL UNITS</th>\n",
       "      <th>LAND SQUARE FEET</th>\n",
       "      <th>GROSS SQUARE FEET</th>\n",
       "      <th>YEAR BUILT</th>\n",
       "      <th>TAX CLASS AT TIME OF SALE</th>\n",
       "      <th>BUILDING CLASS AT TIME OF SALE</th>\n",
       "      <th>SALE PRICE</th>\n",
       "      <th>SALE DATE</th>\n",
       "    </tr>\n",
       "  </thead>\n",
       "  <tbody>\n",
       "    <tr>\n",
       "      <th>0</th>\n",
       "      <td>4</td>\n",
       "      <td>1</td>\n",
       "      <td>ALPHABET CITY</td>\n",
       "      <td>07 RENTALS - WALKUP APARTMENTS</td>\n",
       "      <td>2A</td>\n",
       "      <td>392</td>\n",
       "      <td>6</td>\n",
       "      <td></td>\n",
       "      <td>C2</td>\n",
       "      <td>153 AVENUE B</td>\n",
       "      <td>...</td>\n",
       "      <td>5</td>\n",
       "      <td>0</td>\n",
       "      <td>5</td>\n",
       "      <td>1633</td>\n",
       "      <td>6440</td>\n",
       "      <td>1900</td>\n",
       "      <td>2</td>\n",
       "      <td>C2</td>\n",
       "      <td>6625000</td>\n",
       "      <td>2017-07-19 00:00:00</td>\n",
       "    </tr>\n",
       "    <tr>\n",
       "      <th>1</th>\n",
       "      <td>5</td>\n",
       "      <td>1</td>\n",
       "      <td>ALPHABET CITY</td>\n",
       "      <td>07 RENTALS - WALKUP APARTMENTS</td>\n",
       "      <td>2</td>\n",
       "      <td>399</td>\n",
       "      <td>26</td>\n",
       "      <td></td>\n",
       "      <td>C7</td>\n",
       "      <td>234 EAST 4TH   STREET</td>\n",
       "      <td>...</td>\n",
       "      <td>28</td>\n",
       "      <td>3</td>\n",
       "      <td>31</td>\n",
       "      <td>4616</td>\n",
       "      <td>18690</td>\n",
       "      <td>1900</td>\n",
       "      <td>2</td>\n",
       "      <td>C7</td>\n",
       "      <td>-</td>\n",
       "      <td>2016-12-14 00:00:00</td>\n",
       "    </tr>\n",
       "    <tr>\n",
       "      <th>2</th>\n",
       "      <td>6</td>\n",
       "      <td>1</td>\n",
       "      <td>ALPHABET CITY</td>\n",
       "      <td>07 RENTALS - WALKUP APARTMENTS</td>\n",
       "      <td>2</td>\n",
       "      <td>399</td>\n",
       "      <td>39</td>\n",
       "      <td></td>\n",
       "      <td>C7</td>\n",
       "      <td>197 EAST 3RD   STREET</td>\n",
       "      <td>...</td>\n",
       "      <td>16</td>\n",
       "      <td>1</td>\n",
       "      <td>17</td>\n",
       "      <td>2212</td>\n",
       "      <td>7803</td>\n",
       "      <td>1900</td>\n",
       "      <td>2</td>\n",
       "      <td>C7</td>\n",
       "      <td>-</td>\n",
       "      <td>2016-12-09 00:00:00</td>\n",
       "    </tr>\n",
       "    <tr>\n",
       "      <th>3</th>\n",
       "      <td>7</td>\n",
       "      <td>1</td>\n",
       "      <td>ALPHABET CITY</td>\n",
       "      <td>07 RENTALS - WALKUP APARTMENTS</td>\n",
       "      <td>2B</td>\n",
       "      <td>402</td>\n",
       "      <td>21</td>\n",
       "      <td></td>\n",
       "      <td>C4</td>\n",
       "      <td>154 EAST 7TH STREET</td>\n",
       "      <td>...</td>\n",
       "      <td>10</td>\n",
       "      <td>0</td>\n",
       "      <td>10</td>\n",
       "      <td>2272</td>\n",
       "      <td>6794</td>\n",
       "      <td>1913</td>\n",
       "      <td>2</td>\n",
       "      <td>C4</td>\n",
       "      <td>3936272</td>\n",
       "      <td>2016-09-23 00:00:00</td>\n",
       "    </tr>\n",
       "    <tr>\n",
       "      <th>4</th>\n",
       "      <td>8</td>\n",
       "      <td>1</td>\n",
       "      <td>ALPHABET CITY</td>\n",
       "      <td>07 RENTALS - WALKUP APARTMENTS</td>\n",
       "      <td>2A</td>\n",
       "      <td>404</td>\n",
       "      <td>55</td>\n",
       "      <td></td>\n",
       "      <td>C2</td>\n",
       "      <td>301 EAST 10TH   STREET</td>\n",
       "      <td>...</td>\n",
       "      <td>6</td>\n",
       "      <td>0</td>\n",
       "      <td>6</td>\n",
       "      <td>2369</td>\n",
       "      <td>4615</td>\n",
       "      <td>1900</td>\n",
       "      <td>2</td>\n",
       "      <td>C2</td>\n",
       "      <td>8000000</td>\n",
       "      <td>2016-11-17 00:00:00</td>\n",
       "    </tr>\n",
       "  </tbody>\n",
       "</table>\n",
       "<p>5 rows × 22 columns</p>\n",
       "</div>"
      ],
      "text/plain": [
       "   Unnamed: 0  BOROUGH   NEIGHBORHOOD  \\\n",
       "0           4        1  ALPHABET CITY   \n",
       "1           5        1  ALPHABET CITY   \n",
       "2           6        1  ALPHABET CITY   \n",
       "3           7        1  ALPHABET CITY   \n",
       "4           8        1  ALPHABET CITY   \n",
       "\n",
       "                       BUILDING CLASS CATEGORY TAX CLASS AT PRESENT  BLOCK  \\\n",
       "0  07 RENTALS - WALKUP APARTMENTS                                2A    392   \n",
       "1  07 RENTALS - WALKUP APARTMENTS                                 2    399   \n",
       "2  07 RENTALS - WALKUP APARTMENTS                                 2    399   \n",
       "3  07 RENTALS - WALKUP APARTMENTS                                2B    402   \n",
       "4  07 RENTALS - WALKUP APARTMENTS                                2A    404   \n",
       "\n",
       "   LOT EASE-MENT BUILDING CLASS AT PRESENT                 ADDRESS  ...  \\\n",
       "0    6                                  C2            153 AVENUE B  ...   \n",
       "1   26                                  C7   234 EAST 4TH   STREET  ...   \n",
       "2   39                                  C7   197 EAST 3RD   STREET  ...   \n",
       "3   21                                  C4     154 EAST 7TH STREET  ...   \n",
       "4   55                                  C2  301 EAST 10TH   STREET  ...   \n",
       "\n",
       "  RESIDENTIAL UNITS  COMMERCIAL UNITS  TOTAL UNITS  LAND SQUARE FEET  \\\n",
       "0                 5                 0            5              1633   \n",
       "1                28                 3           31              4616   \n",
       "2                16                 1           17              2212   \n",
       "3                10                 0           10              2272   \n",
       "4                 6                 0            6              2369   \n",
       "\n",
       "   GROSS SQUARE FEET YEAR BUILT TAX CLASS AT TIME OF SALE  \\\n",
       "0               6440       1900                         2   \n",
       "1              18690       1900                         2   \n",
       "2               7803       1900                         2   \n",
       "3               6794       1913                         2   \n",
       "4               4615       1900                         2   \n",
       "\n",
       "   BUILDING CLASS AT TIME OF SALE  SALE PRICE            SALE DATE  \n",
       "0                              C2     6625000  2017-07-19 00:00:00  \n",
       "1                              C7         -    2016-12-14 00:00:00  \n",
       "2                              C7         -    2016-12-09 00:00:00  \n",
       "3                              C4     3936272  2016-09-23 00:00:00  \n",
       "4                              C2     8000000  2016-11-17 00:00:00  \n",
       "\n",
       "[5 rows x 22 columns]"
      ]
     },
     "execution_count": 4,
     "metadata": {},
     "output_type": "execute_result"
    }
   ],
   "source": [
    "df.head()"
   ]
  },
  {
   "attachments": {},
   "cell_type": "markdown",
   "metadata": {},
   "source": [
    "untuk menampilkan nilai kolom:"
   ]
  },
  {
   "cell_type": "code",
   "execution_count": 5,
   "metadata": {},
   "outputs": [
    {
     "data": {
      "text/plain": [
       "array(['Unnamed: 0', 'BOROUGH', 'NEIGHBORHOOD', 'BUILDING CLASS CATEGORY',\n",
       "       'TAX CLASS AT PRESENT', 'BLOCK', 'LOT', 'EASE-MENT',\n",
       "       'BUILDING CLASS AT PRESENT', 'ADDRESS', 'APARTMENT NUMBER',\n",
       "       'ZIP CODE', 'RESIDENTIAL UNITS', 'COMMERCIAL UNITS', 'TOTAL UNITS',\n",
       "       'LAND SQUARE FEET', 'GROSS SQUARE FEET', 'YEAR BUILT',\n",
       "       'TAX CLASS AT TIME OF SALE', 'BUILDING CLASS AT TIME OF SALE',\n",
       "       'SALE PRICE', 'SALE DATE'], dtype=object)"
      ]
     },
     "execution_count": 5,
     "metadata": {},
     "output_type": "execute_result"
    }
   ],
   "source": [
    "df1=df.head(10)\n",
    "df1.columns.values"
   ]
  },
  {
   "attachments": {},
   "cell_type": "markdown",
   "metadata": {},
   "source": [
    "Untuk memeriksa apakah ada kolom yang memiliki nilai nol:"
   ]
  },
  {
   "cell_type": "code",
   "execution_count": 6,
   "metadata": {},
   "outputs": [
    {
     "name": "stdout",
     "output_type": "stream",
     "text": [
      "Unnamed: 0                        False\n",
      "BOROUGH                           False\n",
      "NEIGHBORHOOD                      False\n",
      "BUILDING CLASS CATEGORY           False\n",
      "TAX CLASS AT PRESENT              False\n",
      "BLOCK                             False\n",
      "LOT                               False\n",
      "EASE-MENT                         False\n",
      "BUILDING CLASS AT PRESENT         False\n",
      "ADDRESS                           False\n",
      "APARTMENT NUMBER                  False\n",
      "ZIP CODE                          False\n",
      "RESIDENTIAL UNITS                 False\n",
      "COMMERCIAL UNITS                  False\n",
      "TOTAL UNITS                       False\n",
      "LAND SQUARE FEET                  False\n",
      "GROSS SQUARE FEET                 False\n",
      "YEAR BUILT                        False\n",
      "TAX CLASS AT TIME OF SALE         False\n",
      "BUILDING CLASS AT TIME OF SALE    False\n",
      "SALE PRICE                        False\n",
      "SALE DATE                         False\n",
      "dtype: bool\n"
     ]
    }
   ],
   "source": [
    "print(df.isnull().any())"
   ]
  },
  {
   "cell_type": "code",
   "execution_count": 7,
   "metadata": {},
   "outputs": [
    {
     "name": "stdout",
     "output_type": "stream",
     "text": [
      "(84548, 22)\n"
     ]
    }
   ],
   "source": [
    "print(df.shape)"
   ]
  },
  {
   "cell_type": "code",
   "execution_count": 8,
   "metadata": {},
   "outputs": [
    {
     "data": {
      "text/plain": [
       "Unnamed: 0                                                                  4\n",
       "BOROUGH                                                                     1\n",
       "NEIGHBORHOOD                                               AIRPORT LA GUARDIA\n",
       "BUILDING CLASS CATEGORY           01 ONE FAMILY DWELLINGS                    \n",
       "TAX CLASS AT PRESENT                                                         \n",
       "BLOCK                                                                       1\n",
       "LOT                                                                         1\n",
       "EASE-MENT                                                                    \n",
       "BUILDING CLASS AT PRESENT                                                    \n",
       "ADDRESS                                                  ****** 95TH   STREET\n",
       "APARTMENT NUMBER                                                             \n",
       "ZIP CODE                                                                    0\n",
       "RESIDENTIAL UNITS                                                           0\n",
       "COMMERCIAL UNITS                                                            0\n",
       "TOTAL UNITS                                                                 0\n",
       "LAND SQUARE FEET                                                          -  \n",
       "GROSS SQUARE FEET                                                         -  \n",
       "YEAR BUILT                                                                  0\n",
       "TAX CLASS AT TIME OF SALE                                                   1\n",
       "BUILDING CLASS AT TIME OF SALE                                             A0\n",
       "SALE PRICE                                                                -  \n",
       "SALE DATE                                                 2016-09-01 00:00:00\n",
       "dtype: object"
      ]
     },
     "execution_count": 8,
     "metadata": {},
     "output_type": "execute_result"
    }
   ],
   "source": [
    "df.min()"
   ]
  },
  {
   "cell_type": "code",
   "execution_count": 9,
   "metadata": {},
   "outputs": [
    {
     "data": {
      "text/plain": [
       "Unnamed: 0                                                              26739\n",
       "BOROUGH                                                                     5\n",
       "NEIGHBORHOOD                                                  WYCKOFF HEIGHTS\n",
       "BUILDING CLASS CATEGORY           49 CONDO WAREHOUSES/FACTORY/INDUS          \n",
       "TAX CLASS AT PRESENT                                                        4\n",
       "BLOCK                                                                   16322\n",
       "LOT                                                                      9106\n",
       "EASE-MENT                                                                    \n",
       "BUILDING CLASS AT PRESENT                                                  Z9\n",
       "ADDRESS                                                         ZEREGA AVENUE\n",
       "APARTMENT NUMBER                                                            `\n",
       "ZIP CODE                                                                11694\n",
       "RESIDENTIAL UNITS                                                        1844\n",
       "COMMERCIAL UNITS                                                         2261\n",
       "TOTAL UNITS                                                              2261\n",
       "LAND SQUARE FEET                                                         9996\n",
       "GROSS SQUARE FEET                                                        9992\n",
       "YEAR BUILT                                                               2017\n",
       "TAX CLASS AT TIME OF SALE                                                   4\n",
       "BUILDING CLASS AT TIME OF SALE                                             Z9\n",
       "SALE PRICE                                                            9999999\n",
       "SALE DATE                                                 2017-08-31 00:00:00\n",
       "dtype: object"
      ]
     },
     "execution_count": 9,
     "metadata": {},
     "output_type": "execute_result"
    }
   ],
   "source": [
    "df.max()"
   ]
  },
  {
   "cell_type": "code",
   "execution_count": 10,
   "metadata": {},
   "outputs": [
    {
     "name": "stdout",
     "output_type": "stream",
     "text": [
      "<bound method DataFrame.groupby of        Unnamed: 0  BOROUGH   NEIGHBORHOOD  \\\n",
      "0               4        1  ALPHABET CITY   \n",
      "1               5        1  ALPHABET CITY   \n",
      "2               6        1  ALPHABET CITY   \n",
      "3               7        1  ALPHABET CITY   \n",
      "4               8        1  ALPHABET CITY   \n",
      "...           ...      ...            ...   \n",
      "84543        8409        5        WOODROW   \n",
      "84544        8410        5        WOODROW   \n",
      "84545        8411        5        WOODROW   \n",
      "84546        8412        5        WOODROW   \n",
      "84547        8413        5        WOODROW   \n",
      "\n",
      "                           BUILDING CLASS CATEGORY TAX CLASS AT PRESENT  \\\n",
      "0      07 RENTALS - WALKUP APARTMENTS                                2A   \n",
      "1      07 RENTALS - WALKUP APARTMENTS                                 2   \n",
      "2      07 RENTALS - WALKUP APARTMENTS                                 2   \n",
      "3      07 RENTALS - WALKUP APARTMENTS                                2B   \n",
      "4      07 RENTALS - WALKUP APARTMENTS                                2A   \n",
      "...                                            ...                  ...   \n",
      "84543  02 TWO FAMILY DWELLINGS                                        1   \n",
      "84544  02 TWO FAMILY DWELLINGS                                        1   \n",
      "84545  02 TWO FAMILY DWELLINGS                                        1   \n",
      "84546  22 STORE BUILDINGS                                             4   \n",
      "84547  35 INDOOR PUBLIC AND CULTURAL FACILITIES                       4   \n",
      "\n",
      "       BLOCK  LOT EASE-MENT BUILDING CLASS AT PRESENT                 ADDRESS  \\\n",
      "0        392    6                                  C2            153 AVENUE B   \n",
      "1        399   26                                  C7   234 EAST 4TH   STREET   \n",
      "2        399   39                                  C7   197 EAST 3RD   STREET   \n",
      "3        402   21                                  C4     154 EAST 7TH STREET   \n",
      "4        404   55                                  C2  301 EAST 10TH   STREET   \n",
      "...      ...  ...       ...                       ...                     ...   \n",
      "84543   7349   34                                  B9           37 QUAIL LANE   \n",
      "84544   7349   78                                  B9        32 PHEASANT LANE   \n",
      "84545   7351   60                                  B2        49 PITNEY AVENUE   \n",
      "84546   7100   28                                  K6   2730 ARTHUR KILL ROAD   \n",
      "84547   7105  679                                  P9       155 CLAY PIT ROAD   \n",
      "\n",
      "       ... RESIDENTIAL UNITS  COMMERCIAL UNITS  TOTAL UNITS  LAND SQUARE FEET  \\\n",
      "0      ...                 5                 0            5              1633   \n",
      "1      ...                28                 3           31              4616   \n",
      "2      ...                16                 1           17              2212   \n",
      "3      ...                10                 0           10              2272   \n",
      "4      ...                 6                 0            6              2369   \n",
      "...    ...               ...               ...          ...               ...   \n",
      "84543  ...                 2                 0            2              2400   \n",
      "84544  ...                 2                 0            2              2498   \n",
      "84545  ...                 2                 0            2              4000   \n",
      "84546  ...                 0                 7            7            208033   \n",
      "84547  ...                 0                 1            1             10796   \n",
      "\n",
      "       GROSS SQUARE FEET YEAR BUILT TAX CLASS AT TIME OF SALE  \\\n",
      "0                   6440       1900                         2   \n",
      "1                  18690       1900                         2   \n",
      "2                   7803       1900                         2   \n",
      "3                   6794       1913                         2   \n",
      "4                   4615       1900                         2   \n",
      "...                  ...        ...                       ...   \n",
      "84543               2575       1998                         1   \n",
      "84544               2377       1998                         1   \n",
      "84545               1496       1925                         1   \n",
      "84546              64117       2001                         4   \n",
      "84547               2400       2006                         4   \n",
      "\n",
      "       BUILDING CLASS AT TIME OF SALE  SALE PRICE            SALE DATE  \n",
      "0                                  C2     6625000  2017-07-19 00:00:00  \n",
      "1                                  C7         -    2016-12-14 00:00:00  \n",
      "2                                  C7         -    2016-12-09 00:00:00  \n",
      "3                                  C4     3936272  2016-09-23 00:00:00  \n",
      "4                                  C2     8000000  2016-11-17 00:00:00  \n",
      "...                               ...         ...                  ...  \n",
      "84543                              B9      450000  2016-11-28 00:00:00  \n",
      "84544                              B9      550000  2017-04-21 00:00:00  \n",
      "84545                              B2      460000  2017-07-05 00:00:00  \n",
      "84546                              K6    11693337  2016-12-21 00:00:00  \n",
      "84547                              P9       69300  2016-10-27 00:00:00  \n",
      "\n",
      "[84548 rows x 22 columns]>\n"
     ]
    }
   ],
   "source": [
    "print(df.groupby)"
   ]
  },
  {
   "attachments": {},
   "cell_type": "markdown",
   "metadata": {},
   "source": [
    "### Preprocessing Data\n",
    "\n"
   ]
  },
  {
   "attachments": {},
   "cell_type": "markdown",
   "metadata": {},
   "source": [
    "CleanUp Data"
   ]
  },
  {
   "cell_type": "code",
   "execution_count": 11,
   "metadata": {},
   "outputs": [
    {
     "name": "stdout",
     "output_type": "stream",
     "text": [
      "<class 'pandas.core.frame.DataFrame'>\n",
      "RangeIndex: 84548 entries, 0 to 84547\n",
      "Data columns (total 16 columns):\n",
      " #   Column                          Non-Null Count  Dtype \n",
      "---  ------                          --------------  ----- \n",
      " 0   BOROUGH                         84548 non-null  int64 \n",
      " 1   NEIGHBORHOOD                    84548 non-null  object\n",
      " 2   BUILDING CLASS CATEGORY         84548 non-null  object\n",
      " 3   TAX CLASS AT PRESENT            84548 non-null  object\n",
      " 4   BLOCK                           84548 non-null  int64 \n",
      " 5   BUILDING CLASS AT PRESENT       84548 non-null  object\n",
      " 6   RESIDENTIAL UNITS               84548 non-null  int64 \n",
      " 7   COMMERCIAL UNITS                84548 non-null  int64 \n",
      " 8   TOTAL UNITS                     84548 non-null  int64 \n",
      " 9   LAND SQUARE FEET                84548 non-null  object\n",
      " 10  GROSS SQUARE FEET               84548 non-null  object\n",
      " 11  YEAR BUILT                      84548 non-null  int64 \n",
      " 12  TAX CLASS AT TIME OF SALE       84548 non-null  int64 \n",
      " 13  BUILDING CLASS AT TIME OF SALE  84548 non-null  object\n",
      " 14  SALE PRICE                      84548 non-null  object\n",
      " 15  SALE DATE                       84548 non-null  object\n",
      "dtypes: int64(7), object(9)\n",
      "memory usage: 10.3+ MB\n"
     ]
    }
   ],
   "source": [
    "clean_df = df.drop(['Unnamed: 0', 'LOT', 'EASE-MENT','APARTMENT NUMBER', 'ADDRESS','ZIP CODE'], axis=1) #\n",
    "\n",
    "clean_df.info()"
   ]
  },
  {
   "cell_type": "code",
   "execution_count": 12,
   "metadata": {},
   "outputs": [
    {
     "data": {
      "text/plain": [
       "2751"
      ]
     },
     "execution_count": 12,
     "metadata": {},
     "output_type": "execute_result"
    }
   ],
   "source": [
    "sum(clean_df.duplicated())"
   ]
  },
  {
   "cell_type": "code",
   "execution_count": 13,
   "metadata": {},
   "outputs": [
    {
     "data": {
      "text/plain": [
       "0"
      ]
     },
     "execution_count": 13,
     "metadata": {},
     "output_type": "execute_result"
    }
   ],
   "source": [
    "clean_df = clean_df.drop_duplicates()\n",
    "sum(clean_df.duplicated())"
   ]
  },
  {
   "cell_type": "code",
   "execution_count": 14,
   "metadata": {},
   "outputs": [
    {
     "data": {
      "text/html": [
       "<div>\n",
       "<style scoped>\n",
       "    .dataframe tbody tr th:only-of-type {\n",
       "        vertical-align: middle;\n",
       "    }\n",
       "\n",
       "    .dataframe tbody tr th {\n",
       "        vertical-align: top;\n",
       "    }\n",
       "\n",
       "    .dataframe thead th {\n",
       "        text-align: right;\n",
       "    }\n",
       "</style>\n",
       "<table border=\"1\" class=\"dataframe\">\n",
       "  <thead>\n",
       "    <tr style=\"text-align: right;\">\n",
       "      <th></th>\n",
       "      <th>BOROUGH</th>\n",
       "      <th>NEIGHBORHOOD</th>\n",
       "      <th>BUILDING CLASS CATEGORY</th>\n",
       "      <th>TAX CLASS AT PRESENT</th>\n",
       "      <th>BLOCK</th>\n",
       "      <th>BUILDING CLASS AT PRESENT</th>\n",
       "      <th>RESIDENTIAL UNITS</th>\n",
       "      <th>COMMERCIAL UNITS</th>\n",
       "      <th>TOTAL UNITS</th>\n",
       "      <th>LAND SQUARE FEET</th>\n",
       "      <th>GROSS SQUARE FEET</th>\n",
       "      <th>YEAR BUILT</th>\n",
       "      <th>TAX CLASS AT TIME OF SALE</th>\n",
       "      <th>BUILDING CLASS AT TIME OF SALE</th>\n",
       "      <th>SALE PRICE</th>\n",
       "      <th>SALE DATE</th>\n",
       "    </tr>\n",
       "  </thead>\n",
       "  <tbody>\n",
       "    <tr>\n",
       "      <th>0</th>\n",
       "      <td>1</td>\n",
       "      <td>ALPHABET CITY</td>\n",
       "      <td>07 RENTALS - WALKUP APARTMENTS</td>\n",
       "      <td>2A</td>\n",
       "      <td>392</td>\n",
       "      <td>C2</td>\n",
       "      <td>5</td>\n",
       "      <td>0</td>\n",
       "      <td>5</td>\n",
       "      <td>1633</td>\n",
       "      <td>6440</td>\n",
       "      <td>1900</td>\n",
       "      <td>2</td>\n",
       "      <td>C2</td>\n",
       "      <td>6625000</td>\n",
       "      <td>2017-07-19 00:00:00</td>\n",
       "    </tr>\n",
       "    <tr>\n",
       "      <th>1</th>\n",
       "      <td>1</td>\n",
       "      <td>ALPHABET CITY</td>\n",
       "      <td>07 RENTALS - WALKUP APARTMENTS</td>\n",
       "      <td>2</td>\n",
       "      <td>399</td>\n",
       "      <td>C7</td>\n",
       "      <td>28</td>\n",
       "      <td>3</td>\n",
       "      <td>31</td>\n",
       "      <td>4616</td>\n",
       "      <td>18690</td>\n",
       "      <td>1900</td>\n",
       "      <td>2</td>\n",
       "      <td>C7</td>\n",
       "      <td>0</td>\n",
       "      <td>2016-12-14 00:00:00</td>\n",
       "    </tr>\n",
       "    <tr>\n",
       "      <th>2</th>\n",
       "      <td>1</td>\n",
       "      <td>ALPHABET CITY</td>\n",
       "      <td>07 RENTALS - WALKUP APARTMENTS</td>\n",
       "      <td>2</td>\n",
       "      <td>399</td>\n",
       "      <td>C7</td>\n",
       "      <td>16</td>\n",
       "      <td>1</td>\n",
       "      <td>17</td>\n",
       "      <td>2212</td>\n",
       "      <td>7803</td>\n",
       "      <td>1900</td>\n",
       "      <td>2</td>\n",
       "      <td>C7</td>\n",
       "      <td>0</td>\n",
       "      <td>2016-12-09 00:00:00</td>\n",
       "    </tr>\n",
       "    <tr>\n",
       "      <th>3</th>\n",
       "      <td>1</td>\n",
       "      <td>ALPHABET CITY</td>\n",
       "      <td>07 RENTALS - WALKUP APARTMENTS</td>\n",
       "      <td>2B</td>\n",
       "      <td>402</td>\n",
       "      <td>C4</td>\n",
       "      <td>10</td>\n",
       "      <td>0</td>\n",
       "      <td>10</td>\n",
       "      <td>2272</td>\n",
       "      <td>6794</td>\n",
       "      <td>1913</td>\n",
       "      <td>2</td>\n",
       "      <td>C4</td>\n",
       "      <td>3936272</td>\n",
       "      <td>2016-09-23 00:00:00</td>\n",
       "    </tr>\n",
       "    <tr>\n",
       "      <th>4</th>\n",
       "      <td>1</td>\n",
       "      <td>ALPHABET CITY</td>\n",
       "      <td>07 RENTALS - WALKUP APARTMENTS</td>\n",
       "      <td>2A</td>\n",
       "      <td>404</td>\n",
       "      <td>C2</td>\n",
       "      <td>6</td>\n",
       "      <td>0</td>\n",
       "      <td>6</td>\n",
       "      <td>2369</td>\n",
       "      <td>4615</td>\n",
       "      <td>1900</td>\n",
       "      <td>2</td>\n",
       "      <td>C2</td>\n",
       "      <td>8000000</td>\n",
       "      <td>2016-11-17 00:00:00</td>\n",
       "    </tr>\n",
       "    <tr>\n",
       "      <th>...</th>\n",
       "      <td>...</td>\n",
       "      <td>...</td>\n",
       "      <td>...</td>\n",
       "      <td>...</td>\n",
       "      <td>...</td>\n",
       "      <td>...</td>\n",
       "      <td>...</td>\n",
       "      <td>...</td>\n",
       "      <td>...</td>\n",
       "      <td>...</td>\n",
       "      <td>...</td>\n",
       "      <td>...</td>\n",
       "      <td>...</td>\n",
       "      <td>...</td>\n",
       "      <td>...</td>\n",
       "      <td>...</td>\n",
       "    </tr>\n",
       "    <tr>\n",
       "      <th>84543</th>\n",
       "      <td>5</td>\n",
       "      <td>WOODROW</td>\n",
       "      <td>02 TWO FAMILY DWELLINGS</td>\n",
       "      <td>1</td>\n",
       "      <td>7349</td>\n",
       "      <td>B9</td>\n",
       "      <td>2</td>\n",
       "      <td>0</td>\n",
       "      <td>2</td>\n",
       "      <td>2400</td>\n",
       "      <td>2575</td>\n",
       "      <td>1998</td>\n",
       "      <td>1</td>\n",
       "      <td>B9</td>\n",
       "      <td>450000</td>\n",
       "      <td>2016-11-28 00:00:00</td>\n",
       "    </tr>\n",
       "    <tr>\n",
       "      <th>84544</th>\n",
       "      <td>5</td>\n",
       "      <td>WOODROW</td>\n",
       "      <td>02 TWO FAMILY DWELLINGS</td>\n",
       "      <td>1</td>\n",
       "      <td>7349</td>\n",
       "      <td>B9</td>\n",
       "      <td>2</td>\n",
       "      <td>0</td>\n",
       "      <td>2</td>\n",
       "      <td>2498</td>\n",
       "      <td>2377</td>\n",
       "      <td>1998</td>\n",
       "      <td>1</td>\n",
       "      <td>B9</td>\n",
       "      <td>550000</td>\n",
       "      <td>2017-04-21 00:00:00</td>\n",
       "    </tr>\n",
       "    <tr>\n",
       "      <th>84545</th>\n",
       "      <td>5</td>\n",
       "      <td>WOODROW</td>\n",
       "      <td>02 TWO FAMILY DWELLINGS</td>\n",
       "      <td>1</td>\n",
       "      <td>7351</td>\n",
       "      <td>B2</td>\n",
       "      <td>2</td>\n",
       "      <td>0</td>\n",
       "      <td>2</td>\n",
       "      <td>4000</td>\n",
       "      <td>1496</td>\n",
       "      <td>1925</td>\n",
       "      <td>1</td>\n",
       "      <td>B2</td>\n",
       "      <td>460000</td>\n",
       "      <td>2017-07-05 00:00:00</td>\n",
       "    </tr>\n",
       "    <tr>\n",
       "      <th>84546</th>\n",
       "      <td>5</td>\n",
       "      <td>WOODROW</td>\n",
       "      <td>22 STORE BUILDINGS</td>\n",
       "      <td>4</td>\n",
       "      <td>7100</td>\n",
       "      <td>K6</td>\n",
       "      <td>0</td>\n",
       "      <td>7</td>\n",
       "      <td>7</td>\n",
       "      <td>208033</td>\n",
       "      <td>64117</td>\n",
       "      <td>2001</td>\n",
       "      <td>4</td>\n",
       "      <td>K6</td>\n",
       "      <td>11693337</td>\n",
       "      <td>2016-12-21 00:00:00</td>\n",
       "    </tr>\n",
       "    <tr>\n",
       "      <th>84547</th>\n",
       "      <td>5</td>\n",
       "      <td>WOODROW</td>\n",
       "      <td>35 INDOOR PUBLIC AND CULTURAL FACILITIES</td>\n",
       "      <td>4</td>\n",
       "      <td>7105</td>\n",
       "      <td>P9</td>\n",
       "      <td>0</td>\n",
       "      <td>1</td>\n",
       "      <td>1</td>\n",
       "      <td>10796</td>\n",
       "      <td>2400</td>\n",
       "      <td>2006</td>\n",
       "      <td>4</td>\n",
       "      <td>P9</td>\n",
       "      <td>69300</td>\n",
       "      <td>2016-10-27 00:00:00</td>\n",
       "    </tr>\n",
       "  </tbody>\n",
       "</table>\n",
       "<p>81797 rows × 16 columns</p>\n",
       "</div>"
      ],
      "text/plain": [
       "       BOROUGH   NEIGHBORHOOD                      BUILDING CLASS CATEGORY  \\\n",
       "0            1  ALPHABET CITY  07 RENTALS - WALKUP APARTMENTS                \n",
       "1            1  ALPHABET CITY  07 RENTALS - WALKUP APARTMENTS                \n",
       "2            1  ALPHABET CITY  07 RENTALS - WALKUP APARTMENTS                \n",
       "3            1  ALPHABET CITY  07 RENTALS - WALKUP APARTMENTS                \n",
       "4            1  ALPHABET CITY  07 RENTALS - WALKUP APARTMENTS                \n",
       "...        ...            ...                                          ...   \n",
       "84543        5        WOODROW  02 TWO FAMILY DWELLINGS                       \n",
       "84544        5        WOODROW  02 TWO FAMILY DWELLINGS                       \n",
       "84545        5        WOODROW  02 TWO FAMILY DWELLINGS                       \n",
       "84546        5        WOODROW  22 STORE BUILDINGS                            \n",
       "84547        5        WOODROW  35 INDOOR PUBLIC AND CULTURAL FACILITIES      \n",
       "\n",
       "      TAX CLASS AT PRESENT  BLOCK BUILDING CLASS AT PRESENT  \\\n",
       "0                       2A    392                        C2   \n",
       "1                        2    399                        C7   \n",
       "2                        2    399                        C7   \n",
       "3                       2B    402                        C4   \n",
       "4                       2A    404                        C2   \n",
       "...                    ...    ...                       ...   \n",
       "84543                    1   7349                        B9   \n",
       "84544                    1   7349                        B9   \n",
       "84545                    1   7351                        B2   \n",
       "84546                    4   7100                        K6   \n",
       "84547                    4   7105                        P9   \n",
       "\n",
       "       RESIDENTIAL UNITS  COMMERCIAL UNITS  TOTAL UNITS LAND SQUARE FEET  \\\n",
       "0                      5                 0            5             1633   \n",
       "1                     28                 3           31             4616   \n",
       "2                     16                 1           17             2212   \n",
       "3                     10                 0           10             2272   \n",
       "4                      6                 0            6             2369   \n",
       "...                  ...               ...          ...              ...   \n",
       "84543                  2                 0            2             2400   \n",
       "84544                  2                 0            2             2498   \n",
       "84545                  2                 0            2             4000   \n",
       "84546                  0                 7            7           208033   \n",
       "84547                  0                 1            1            10796   \n",
       "\n",
       "      GROSS SQUARE FEET  YEAR BUILT  TAX CLASS AT TIME OF SALE  \\\n",
       "0                  6440        1900                          2   \n",
       "1                 18690        1900                          2   \n",
       "2                  7803        1900                          2   \n",
       "3                  6794        1913                          2   \n",
       "4                  4615        1900                          2   \n",
       "...                 ...         ...                        ...   \n",
       "84543              2575        1998                          1   \n",
       "84544              2377        1998                          1   \n",
       "84545              1496        1925                          1   \n",
       "84546             64117        2001                          4   \n",
       "84547              2400        2006                          4   \n",
       "\n",
       "      BUILDING CLASS AT TIME OF SALE SALE PRICE            SALE DATE  \n",
       "0                                 C2    6625000  2017-07-19 00:00:00  \n",
       "1                                 C7          0  2016-12-14 00:00:00  \n",
       "2                                 C7          0  2016-12-09 00:00:00  \n",
       "3                                 C4    3936272  2016-09-23 00:00:00  \n",
       "4                                 C2    8000000  2016-11-17 00:00:00  \n",
       "...                              ...        ...                  ...  \n",
       "84543                             B9     450000  2016-11-28 00:00:00  \n",
       "84544                             B9     550000  2017-04-21 00:00:00  \n",
       "84545                             B2     460000  2017-07-05 00:00:00  \n",
       "84546                             K6   11693337  2016-12-21 00:00:00  \n",
       "84547                             P9      69300  2016-10-27 00:00:00  \n",
       "\n",
       "[81797 rows x 16 columns]"
      ]
     },
     "execution_count": 14,
     "metadata": {},
     "output_type": "execute_result"
    }
   ],
   "source": [
    "clean_df.replace(' -  ', 0,  inplace=True)\n",
    "clean_df"
   ]
  },
  {
   "cell_type": "code",
   "execution_count": 15,
   "metadata": {},
   "outputs": [
    {
     "data": {
      "text/html": [
       "<div>\n",
       "<style scoped>\n",
       "    .dataframe tbody tr th:only-of-type {\n",
       "        vertical-align: middle;\n",
       "    }\n",
       "\n",
       "    .dataframe tbody tr th {\n",
       "        vertical-align: top;\n",
       "    }\n",
       "\n",
       "    .dataframe thead th {\n",
       "        text-align: right;\n",
       "    }\n",
       "</style>\n",
       "<table border=\"1\" class=\"dataframe\">\n",
       "  <thead>\n",
       "    <tr style=\"text-align: right;\">\n",
       "      <th></th>\n",
       "      <th>BOROUGH</th>\n",
       "      <th>NEIGHBORHOOD</th>\n",
       "      <th>BUILDING CLASS CATEGORY</th>\n",
       "      <th>TAX CLASS AT PRESENT</th>\n",
       "      <th>BLOCK</th>\n",
       "      <th>BUILDING CLASS AT PRESENT</th>\n",
       "      <th>RESIDENTIAL UNITS</th>\n",
       "      <th>COMMERCIAL UNITS</th>\n",
       "      <th>TOTAL UNITS</th>\n",
       "      <th>LAND SQUARE FEET</th>\n",
       "      <th>GROSS SQUARE FEET</th>\n",
       "      <th>YEAR BUILT</th>\n",
       "      <th>TAX CLASS AT TIME OF SALE</th>\n",
       "      <th>BUILDING CLASS AT TIME OF SALE</th>\n",
       "      <th>SALE PRICE</th>\n",
       "      <th>SALE DATE</th>\n",
       "    </tr>\n",
       "  </thead>\n",
       "  <tbody>\n",
       "    <tr>\n",
       "      <th>0</th>\n",
       "      <td>1</td>\n",
       "      <td>ALPHABET CITY</td>\n",
       "      <td>07 RENTALS - WALKUP APARTMENTS</td>\n",
       "      <td>2A</td>\n",
       "      <td>392</td>\n",
       "      <td>C2</td>\n",
       "      <td>5</td>\n",
       "      <td>0</td>\n",
       "      <td>5</td>\n",
       "      <td>1633</td>\n",
       "      <td>6440</td>\n",
       "      <td>1900</td>\n",
       "      <td>2</td>\n",
       "      <td>C2</td>\n",
       "      <td>6625000</td>\n",
       "      <td>2017-07-19 00:00:00</td>\n",
       "    </tr>\n",
       "    <tr>\n",
       "      <th>1</th>\n",
       "      <td>1</td>\n",
       "      <td>ALPHABET CITY</td>\n",
       "      <td>07 RENTALS - WALKUP APARTMENTS</td>\n",
       "      <td>2</td>\n",
       "      <td>399</td>\n",
       "      <td>C7</td>\n",
       "      <td>28</td>\n",
       "      <td>3</td>\n",
       "      <td>31</td>\n",
       "      <td>4616</td>\n",
       "      <td>18690</td>\n",
       "      <td>1900</td>\n",
       "      <td>2</td>\n",
       "      <td>C7</td>\n",
       "      <td>0</td>\n",
       "      <td>2016-12-14 00:00:00</td>\n",
       "    </tr>\n",
       "    <tr>\n",
       "      <th>2</th>\n",
       "      <td>1</td>\n",
       "      <td>ALPHABET CITY</td>\n",
       "      <td>07 RENTALS - WALKUP APARTMENTS</td>\n",
       "      <td>2</td>\n",
       "      <td>399</td>\n",
       "      <td>C7</td>\n",
       "      <td>16</td>\n",
       "      <td>1</td>\n",
       "      <td>17</td>\n",
       "      <td>2212</td>\n",
       "      <td>7803</td>\n",
       "      <td>1900</td>\n",
       "      <td>2</td>\n",
       "      <td>C7</td>\n",
       "      <td>0</td>\n",
       "      <td>2016-12-09 00:00:00</td>\n",
       "    </tr>\n",
       "    <tr>\n",
       "      <th>3</th>\n",
       "      <td>1</td>\n",
       "      <td>ALPHABET CITY</td>\n",
       "      <td>07 RENTALS - WALKUP APARTMENTS</td>\n",
       "      <td>2B</td>\n",
       "      <td>402</td>\n",
       "      <td>C4</td>\n",
       "      <td>10</td>\n",
       "      <td>0</td>\n",
       "      <td>10</td>\n",
       "      <td>2272</td>\n",
       "      <td>6794</td>\n",
       "      <td>1913</td>\n",
       "      <td>2</td>\n",
       "      <td>C4</td>\n",
       "      <td>3936272</td>\n",
       "      <td>2016-09-23 00:00:00</td>\n",
       "    </tr>\n",
       "    <tr>\n",
       "      <th>4</th>\n",
       "      <td>1</td>\n",
       "      <td>ALPHABET CITY</td>\n",
       "      <td>07 RENTALS - WALKUP APARTMENTS</td>\n",
       "      <td>2A</td>\n",
       "      <td>404</td>\n",
       "      <td>C2</td>\n",
       "      <td>6</td>\n",
       "      <td>0</td>\n",
       "      <td>6</td>\n",
       "      <td>2369</td>\n",
       "      <td>4615</td>\n",
       "      <td>1900</td>\n",
       "      <td>2</td>\n",
       "      <td>C2</td>\n",
       "      <td>8000000</td>\n",
       "      <td>2016-11-17 00:00:00</td>\n",
       "    </tr>\n",
       "    <tr>\n",
       "      <th>...</th>\n",
       "      <td>...</td>\n",
       "      <td>...</td>\n",
       "      <td>...</td>\n",
       "      <td>...</td>\n",
       "      <td>...</td>\n",
       "      <td>...</td>\n",
       "      <td>...</td>\n",
       "      <td>...</td>\n",
       "      <td>...</td>\n",
       "      <td>...</td>\n",
       "      <td>...</td>\n",
       "      <td>...</td>\n",
       "      <td>...</td>\n",
       "      <td>...</td>\n",
       "      <td>...</td>\n",
       "      <td>...</td>\n",
       "    </tr>\n",
       "    <tr>\n",
       "      <th>84543</th>\n",
       "      <td>5</td>\n",
       "      <td>WOODROW</td>\n",
       "      <td>02 TWO FAMILY DWELLINGS</td>\n",
       "      <td>1</td>\n",
       "      <td>7349</td>\n",
       "      <td>B9</td>\n",
       "      <td>2</td>\n",
       "      <td>0</td>\n",
       "      <td>2</td>\n",
       "      <td>2400</td>\n",
       "      <td>2575</td>\n",
       "      <td>1998</td>\n",
       "      <td>1</td>\n",
       "      <td>B9</td>\n",
       "      <td>450000</td>\n",
       "      <td>2016-11-28 00:00:00</td>\n",
       "    </tr>\n",
       "    <tr>\n",
       "      <th>84544</th>\n",
       "      <td>5</td>\n",
       "      <td>WOODROW</td>\n",
       "      <td>02 TWO FAMILY DWELLINGS</td>\n",
       "      <td>1</td>\n",
       "      <td>7349</td>\n",
       "      <td>B9</td>\n",
       "      <td>2</td>\n",
       "      <td>0</td>\n",
       "      <td>2</td>\n",
       "      <td>2498</td>\n",
       "      <td>2377</td>\n",
       "      <td>1998</td>\n",
       "      <td>1</td>\n",
       "      <td>B9</td>\n",
       "      <td>550000</td>\n",
       "      <td>2017-04-21 00:00:00</td>\n",
       "    </tr>\n",
       "    <tr>\n",
       "      <th>84545</th>\n",
       "      <td>5</td>\n",
       "      <td>WOODROW</td>\n",
       "      <td>02 TWO FAMILY DWELLINGS</td>\n",
       "      <td>1</td>\n",
       "      <td>7351</td>\n",
       "      <td>B2</td>\n",
       "      <td>2</td>\n",
       "      <td>0</td>\n",
       "      <td>2</td>\n",
       "      <td>4000</td>\n",
       "      <td>1496</td>\n",
       "      <td>1925</td>\n",
       "      <td>1</td>\n",
       "      <td>B2</td>\n",
       "      <td>460000</td>\n",
       "      <td>2017-07-05 00:00:00</td>\n",
       "    </tr>\n",
       "    <tr>\n",
       "      <th>84546</th>\n",
       "      <td>5</td>\n",
       "      <td>WOODROW</td>\n",
       "      <td>22 STORE BUILDINGS</td>\n",
       "      <td>4</td>\n",
       "      <td>7100</td>\n",
       "      <td>K6</td>\n",
       "      <td>0</td>\n",
       "      <td>7</td>\n",
       "      <td>7</td>\n",
       "      <td>208033</td>\n",
       "      <td>64117</td>\n",
       "      <td>2001</td>\n",
       "      <td>4</td>\n",
       "      <td>K6</td>\n",
       "      <td>11693337</td>\n",
       "      <td>2016-12-21 00:00:00</td>\n",
       "    </tr>\n",
       "    <tr>\n",
       "      <th>84547</th>\n",
       "      <td>5</td>\n",
       "      <td>WOODROW</td>\n",
       "      <td>35 INDOOR PUBLIC AND CULTURAL FACILITIES</td>\n",
       "      <td>4</td>\n",
       "      <td>7105</td>\n",
       "      <td>P9</td>\n",
       "      <td>0</td>\n",
       "      <td>1</td>\n",
       "      <td>1</td>\n",
       "      <td>10796</td>\n",
       "      <td>2400</td>\n",
       "      <td>2006</td>\n",
       "      <td>4</td>\n",
       "      <td>P9</td>\n",
       "      <td>69300</td>\n",
       "      <td>2016-10-27 00:00:00</td>\n",
       "    </tr>\n",
       "  </tbody>\n",
       "</table>\n",
       "<p>81797 rows × 16 columns</p>\n",
       "</div>"
      ],
      "text/plain": [
       "       BOROUGH   NEIGHBORHOOD                      BUILDING CLASS CATEGORY  \\\n",
       "0            1  ALPHABET CITY  07 RENTALS - WALKUP APARTMENTS                \n",
       "1            1  ALPHABET CITY  07 RENTALS - WALKUP APARTMENTS                \n",
       "2            1  ALPHABET CITY  07 RENTALS - WALKUP APARTMENTS                \n",
       "3            1  ALPHABET CITY  07 RENTALS - WALKUP APARTMENTS                \n",
       "4            1  ALPHABET CITY  07 RENTALS - WALKUP APARTMENTS                \n",
       "...        ...            ...                                          ...   \n",
       "84543        5        WOODROW  02 TWO FAMILY DWELLINGS                       \n",
       "84544        5        WOODROW  02 TWO FAMILY DWELLINGS                       \n",
       "84545        5        WOODROW  02 TWO FAMILY DWELLINGS                       \n",
       "84546        5        WOODROW  22 STORE BUILDINGS                            \n",
       "84547        5        WOODROW  35 INDOOR PUBLIC AND CULTURAL FACILITIES      \n",
       "\n",
       "      TAX CLASS AT PRESENT  BLOCK BUILDING CLASS AT PRESENT  \\\n",
       "0                       2A    392                        C2   \n",
       "1                        2    399                        C7   \n",
       "2                        2    399                        C7   \n",
       "3                       2B    402                        C4   \n",
       "4                       2A    404                        C2   \n",
       "...                    ...    ...                       ...   \n",
       "84543                    1   7349                        B9   \n",
       "84544                    1   7349                        B9   \n",
       "84545                    1   7351                        B2   \n",
       "84546                    4   7100                        K6   \n",
       "84547                    4   7105                        P9   \n",
       "\n",
       "       RESIDENTIAL UNITS  COMMERCIAL UNITS  TOTAL UNITS LAND SQUARE FEET  \\\n",
       "0                      5                 0            5             1633   \n",
       "1                     28                 3           31             4616   \n",
       "2                     16                 1           17             2212   \n",
       "3                     10                 0           10             2272   \n",
       "4                      6                 0            6             2369   \n",
       "...                  ...               ...          ...              ...   \n",
       "84543                  2                 0            2             2400   \n",
       "84544                  2                 0            2             2498   \n",
       "84545                  2                 0            2             4000   \n",
       "84546                  0                 7            7           208033   \n",
       "84547                  0                 1            1            10796   \n",
       "\n",
       "      GROSS SQUARE FEET  YEAR BUILT  TAX CLASS AT TIME OF SALE  \\\n",
       "0                  6440        1900                          2   \n",
       "1                 18690        1900                          2   \n",
       "2                  7803        1900                          2   \n",
       "3                  6794        1913                          2   \n",
       "4                  4615        1900                          2   \n",
       "...                 ...         ...                        ...   \n",
       "84543              2575        1998                          1   \n",
       "84544              2377        1998                          1   \n",
       "84545              1496        1925                          1   \n",
       "84546             64117        2001                          4   \n",
       "84547              2400        2006                          4   \n",
       "\n",
       "      BUILDING CLASS AT TIME OF SALE SALE PRICE            SALE DATE  \n",
       "0                                 C2    6625000  2017-07-19 00:00:00  \n",
       "1                                 C7          0  2016-12-14 00:00:00  \n",
       "2                                 C7          0  2016-12-09 00:00:00  \n",
       "3                                 C4    3936272  2016-09-23 00:00:00  \n",
       "4                                 C2    8000000  2016-11-17 00:00:00  \n",
       "...                              ...        ...                  ...  \n",
       "84543                             B9     450000  2016-11-28 00:00:00  \n",
       "84544                             B9     550000  2017-04-21 00:00:00  \n",
       "84545                             B2     460000  2017-07-05 00:00:00  \n",
       "84546                             K6   11693337  2016-12-21 00:00:00  \n",
       "84547                             P9      69300  2016-10-27 00:00:00  \n",
       "\n",
       "[81797 rows x 16 columns]"
      ]
     },
     "execution_count": 15,
     "metadata": {},
     "output_type": "execute_result"
    }
   ],
   "source": [
    "clean_df.replace(np.nan,0, inplace=True)\n",
    "clean_df"
   ]
  },
  {
   "cell_type": "code",
   "execution_count": 16,
   "metadata": {},
   "outputs": [
    {
     "name": "stdout",
     "output_type": "stream",
     "text": [
      "<class 'pandas.core.series.Series'>\n",
      "Int64Index: 81797 entries, 0 to 84547\n",
      "Series name: SALE PRICE\n",
      "Non-Null Count  Dtype\n",
      "--------------  -----\n",
      "81797 non-null  int64\n",
      "dtypes: int64(1)\n",
      "memory usage: 1.2 MB\n"
     ]
    }
   ],
   "source": [
    "SP = clean_df['SALE PRICE'].astype('int64')\n",
    "SP.info()"
   ]
  },
  {
   "cell_type": "code",
   "execution_count": 17,
   "metadata": {},
   "outputs": [
    {
     "data": {
      "text/html": [
       "<div>\n",
       "<style scoped>\n",
       "    .dataframe tbody tr th:only-of-type {\n",
       "        vertical-align: middle;\n",
       "    }\n",
       "\n",
       "    .dataframe tbody tr th {\n",
       "        vertical-align: top;\n",
       "    }\n",
       "\n",
       "    .dataframe thead th {\n",
       "        text-align: right;\n",
       "    }\n",
       "</style>\n",
       "<table border=\"1\" class=\"dataframe\">\n",
       "  <thead>\n",
       "    <tr style=\"text-align: right;\">\n",
       "      <th></th>\n",
       "      <th>BOROUGH</th>\n",
       "      <th>NEIGHBORHOOD</th>\n",
       "      <th>BUILDING CLASS CATEGORY</th>\n",
       "      <th>TAX CLASS AT PRESENT</th>\n",
       "      <th>BLOCK</th>\n",
       "      <th>BUILDING CLASS AT PRESENT</th>\n",
       "      <th>RESIDENTIAL UNITS</th>\n",
       "      <th>COMMERCIAL UNITS</th>\n",
       "      <th>TOTAL UNITS</th>\n",
       "      <th>LAND SQUARE FEET</th>\n",
       "      <th>GROSS SQUARE FEET</th>\n",
       "      <th>YEAR BUILT</th>\n",
       "      <th>TAX CLASS AT TIME OF SALE</th>\n",
       "      <th>BUILDING CLASS AT TIME OF SALE</th>\n",
       "      <th>SALE PRICE</th>\n",
       "      <th>SALE DATE</th>\n",
       "    </tr>\n",
       "  </thead>\n",
       "  <tbody>\n",
       "    <tr>\n",
       "      <th>204</th>\n",
       "      <td>1</td>\n",
       "      <td>CHELSEA</td>\n",
       "      <td>01 ONE FAMILY DWELLINGS</td>\n",
       "      <td>1</td>\n",
       "      <td>766</td>\n",
       "      <td>A9</td>\n",
       "      <td>1</td>\n",
       "      <td>0</td>\n",
       "      <td>1</td>\n",
       "      <td>1360</td>\n",
       "      <td>2736</td>\n",
       "      <td>1910</td>\n",
       "      <td>1</td>\n",
       "      <td>A9</td>\n",
       "      <td>0</td>\n",
       "      <td>2017-01-06 00:00:00</td>\n",
       "    </tr>\n",
       "    <tr>\n",
       "      <th>205</th>\n",
       "      <td>1</td>\n",
       "      <td>CHELSEA</td>\n",
       "      <td>01 ONE FAMILY DWELLINGS</td>\n",
       "      <td>1</td>\n",
       "      <td>766</td>\n",
       "      <td>A9</td>\n",
       "      <td>1</td>\n",
       "      <td>0</td>\n",
       "      <td>1</td>\n",
       "      <td>1360</td>\n",
       "      <td>2736</td>\n",
       "      <td>1910</td>\n",
       "      <td>1</td>\n",
       "      <td>A9</td>\n",
       "      <td>0</td>\n",
       "      <td>2016-10-20 00:00:00</td>\n",
       "    </tr>\n",
       "    <tr>\n",
       "      <th>206</th>\n",
       "      <td>1</td>\n",
       "      <td>CHELSEA</td>\n",
       "      <td>01 ONE FAMILY DWELLINGS</td>\n",
       "      <td>1</td>\n",
       "      <td>771</td>\n",
       "      <td>A9</td>\n",
       "      <td>1</td>\n",
       "      <td>0</td>\n",
       "      <td>1</td>\n",
       "      <td>1975</td>\n",
       "      <td>3855</td>\n",
       "      <td>1901</td>\n",
       "      <td>1</td>\n",
       "      <td>A9</td>\n",
       "      <td>7425000</td>\n",
       "      <td>2016-12-30 00:00:00</td>\n",
       "    </tr>\n",
       "    <tr>\n",
       "      <th>207</th>\n",
       "      <td>1</td>\n",
       "      <td>CHELSEA</td>\n",
       "      <td>01 ONE FAMILY DWELLINGS</td>\n",
       "      <td>1</td>\n",
       "      <td>772</td>\n",
       "      <td>A4</td>\n",
       "      <td>1</td>\n",
       "      <td>0</td>\n",
       "      <td>1</td>\n",
       "      <td>1588</td>\n",
       "      <td>5653</td>\n",
       "      <td>1900</td>\n",
       "      <td>1</td>\n",
       "      <td>A4</td>\n",
       "      <td>10</td>\n",
       "      <td>2017-01-30 00:00:00</td>\n",
       "    </tr>\n",
       "    <tr>\n",
       "      <th>210</th>\n",
       "      <td>1</td>\n",
       "      <td>CHELSEA</td>\n",
       "      <td>02 TWO FAMILY DWELLINGS</td>\n",
       "      <td>1</td>\n",
       "      <td>743</td>\n",
       "      <td>B3</td>\n",
       "      <td>2</td>\n",
       "      <td>0</td>\n",
       "      <td>2</td>\n",
       "      <td>1526</td>\n",
       "      <td>3168</td>\n",
       "      <td>1910</td>\n",
       "      <td>1</td>\n",
       "      <td>B3</td>\n",
       "      <td>0</td>\n",
       "      <td>2017-02-24 00:00:00</td>\n",
       "    </tr>\n",
       "    <tr>\n",
       "      <th>...</th>\n",
       "      <td>...</td>\n",
       "      <td>...</td>\n",
       "      <td>...</td>\n",
       "      <td>...</td>\n",
       "      <td>...</td>\n",
       "      <td>...</td>\n",
       "      <td>...</td>\n",
       "      <td>...</td>\n",
       "      <td>...</td>\n",
       "      <td>...</td>\n",
       "      <td>...</td>\n",
       "      <td>...</td>\n",
       "      <td>...</td>\n",
       "      <td>...</td>\n",
       "      <td>...</td>\n",
       "      <td>...</td>\n",
       "    </tr>\n",
       "    <tr>\n",
       "      <th>1002</th>\n",
       "      <td>1</td>\n",
       "      <td>CHELSEA</td>\n",
       "      <td>47 CONDO NON-BUSINESS STORAGE</td>\n",
       "      <td></td>\n",
       "      <td>794</td>\n",
       "      <td></td>\n",
       "      <td>0</td>\n",
       "      <td>0</td>\n",
       "      <td>0</td>\n",
       "      <td>0</td>\n",
       "      <td>0</td>\n",
       "      <td>0</td>\n",
       "      <td>4</td>\n",
       "      <td>RS</td>\n",
       "      <td>0</td>\n",
       "      <td>2016-10-13 00:00:00</td>\n",
       "    </tr>\n",
       "    <tr>\n",
       "      <th>1003</th>\n",
       "      <td>1</td>\n",
       "      <td>CHELSEA</td>\n",
       "      <td>47 CONDO NON-BUSINESS STORAGE</td>\n",
       "      <td></td>\n",
       "      <td>794</td>\n",
       "      <td></td>\n",
       "      <td>0</td>\n",
       "      <td>0</td>\n",
       "      <td>0</td>\n",
       "      <td>0</td>\n",
       "      <td>0</td>\n",
       "      <td>0</td>\n",
       "      <td>4</td>\n",
       "      <td>RS</td>\n",
       "      <td>0</td>\n",
       "      <td>2016-10-20 00:00:00</td>\n",
       "    </tr>\n",
       "    <tr>\n",
       "      <th>1004</th>\n",
       "      <td>1</td>\n",
       "      <td>CHELSEA</td>\n",
       "      <td>47 CONDO NON-BUSINESS STORAGE</td>\n",
       "      <td></td>\n",
       "      <td>794</td>\n",
       "      <td></td>\n",
       "      <td>0</td>\n",
       "      <td>0</td>\n",
       "      <td>0</td>\n",
       "      <td>0</td>\n",
       "      <td>0</td>\n",
       "      <td>0</td>\n",
       "      <td>4</td>\n",
       "      <td>RS</td>\n",
       "      <td>0</td>\n",
       "      <td>2016-11-14 00:00:00</td>\n",
       "    </tr>\n",
       "    <tr>\n",
       "      <th>1005</th>\n",
       "      <td>1</td>\n",
       "      <td>CHELSEA</td>\n",
       "      <td>47 CONDO NON-BUSINESS STORAGE</td>\n",
       "      <td></td>\n",
       "      <td>794</td>\n",
       "      <td></td>\n",
       "      <td>0</td>\n",
       "      <td>0</td>\n",
       "      <td>0</td>\n",
       "      <td>0</td>\n",
       "      <td>0</td>\n",
       "      <td>0</td>\n",
       "      <td>4</td>\n",
       "      <td>RS</td>\n",
       "      <td>0</td>\n",
       "      <td>2016-12-14 00:00:00</td>\n",
       "    </tr>\n",
       "    <tr>\n",
       "      <th>1006</th>\n",
       "      <td>1</td>\n",
       "      <td>CHELSEA</td>\n",
       "      <td>48 CONDO TERRACES/GARDENS/CABANAS</td>\n",
       "      <td>4</td>\n",
       "      <td>799</td>\n",
       "      <td>RT</td>\n",
       "      <td>0</td>\n",
       "      <td>0</td>\n",
       "      <td>1</td>\n",
       "      <td>0</td>\n",
       "      <td>0</td>\n",
       "      <td>1920</td>\n",
       "      <td>4</td>\n",
       "      <td>RT</td>\n",
       "      <td>0</td>\n",
       "      <td>2016-12-13 00:00:00</td>\n",
       "    </tr>\n",
       "  </tbody>\n",
       "</table>\n",
       "<p>779 rows × 16 columns</p>\n",
       "</div>"
      ],
      "text/plain": [
       "      BOROUGH NEIGHBORHOOD                      BUILDING CLASS CATEGORY  \\\n",
       "204         1      CHELSEA  01 ONE FAMILY DWELLINGS                       \n",
       "205         1      CHELSEA  01 ONE FAMILY DWELLINGS                       \n",
       "206         1      CHELSEA  01 ONE FAMILY DWELLINGS                       \n",
       "207         1      CHELSEA  01 ONE FAMILY DWELLINGS                       \n",
       "210         1      CHELSEA  02 TWO FAMILY DWELLINGS                       \n",
       "...       ...          ...                                          ...   \n",
       "1002        1      CHELSEA  47 CONDO NON-BUSINESS STORAGE                 \n",
       "1003        1      CHELSEA  47 CONDO NON-BUSINESS STORAGE                 \n",
       "1004        1      CHELSEA  47 CONDO NON-BUSINESS STORAGE                 \n",
       "1005        1      CHELSEA  47 CONDO NON-BUSINESS STORAGE                 \n",
       "1006        1      CHELSEA  48 CONDO TERRACES/GARDENS/CABANAS             \n",
       "\n",
       "     TAX CLASS AT PRESENT  BLOCK BUILDING CLASS AT PRESENT  RESIDENTIAL UNITS  \\\n",
       "204                     1    766                        A9                  1   \n",
       "205                     1    766                        A9                  1   \n",
       "206                     1    771                        A9                  1   \n",
       "207                     1    772                        A4                  1   \n",
       "210                     1    743                        B3                  2   \n",
       "...                   ...    ...                       ...                ...   \n",
       "1002                         794                                            0   \n",
       "1003                         794                                            0   \n",
       "1004                         794                                            0   \n",
       "1005                         794                                            0   \n",
       "1006                    4    799                        RT                  0   \n",
       "\n",
       "      COMMERCIAL UNITS  TOTAL UNITS LAND SQUARE FEET GROSS SQUARE FEET  \\\n",
       "204                  0            1             1360              2736   \n",
       "205                  0            1             1360              2736   \n",
       "206                  0            1             1975              3855   \n",
       "207                  0            1             1588              5653   \n",
       "210                  0            2             1526              3168   \n",
       "...                ...          ...              ...               ...   \n",
       "1002                 0            0                0                 0   \n",
       "1003                 0            0                0                 0   \n",
       "1004                 0            0                0                 0   \n",
       "1005                 0            0                0                 0   \n",
       "1006                 0            1                0                 0   \n",
       "\n",
       "      YEAR BUILT  TAX CLASS AT TIME OF SALE BUILDING CLASS AT TIME OF SALE  \\\n",
       "204         1910                          1                             A9   \n",
       "205         1910                          1                             A9   \n",
       "206         1901                          1                             A9   \n",
       "207         1900                          1                             A4   \n",
       "210         1910                          1                             B3   \n",
       "...          ...                        ...                            ...   \n",
       "1002           0                          4                             RS   \n",
       "1003           0                          4                             RS   \n",
       "1004           0                          4                             RS   \n",
       "1005           0                          4                             RS   \n",
       "1006        1920                          4                             RT   \n",
       "\n",
       "     SALE PRICE            SALE DATE  \n",
       "204           0  2017-01-06 00:00:00  \n",
       "205           0  2016-10-20 00:00:00  \n",
       "206     7425000  2016-12-30 00:00:00  \n",
       "207          10  2017-01-30 00:00:00  \n",
       "210           0  2017-02-24 00:00:00  \n",
       "...         ...                  ...  \n",
       "1002          0  2016-10-13 00:00:00  \n",
       "1003          0  2016-10-20 00:00:00  \n",
       "1004          0  2016-11-14 00:00:00  \n",
       "1005          0  2016-12-14 00:00:00  \n",
       "1006          0  2016-12-13 00:00:00  \n",
       "\n",
       "[779 rows x 16 columns]"
      ]
     },
     "execution_count": 17,
     "metadata": {},
     "output_type": "execute_result"
    }
   ],
   "source": [
    "chelsea_ = clean_df[clean_df['NEIGHBORHOOD'] == 'CHELSEA']\n",
    "chelsea_"
   ]
  },
  {
   "cell_type": "code",
   "execution_count": 18,
   "metadata": {},
   "outputs": [
    {
     "data": {
      "text/html": [
       "<div>\n",
       "<style scoped>\n",
       "    .dataframe tbody tr th:only-of-type {\n",
       "        vertical-align: middle;\n",
       "    }\n",
       "\n",
       "    .dataframe tbody tr th {\n",
       "        vertical-align: top;\n",
       "    }\n",
       "\n",
       "    .dataframe thead th {\n",
       "        text-align: right;\n",
       "    }\n",
       "</style>\n",
       "<table border=\"1\" class=\"dataframe\">\n",
       "  <thead>\n",
       "    <tr style=\"text-align: right;\">\n",
       "      <th></th>\n",
       "      <th>NEIGHBORHOOD</th>\n",
       "      <th>YEAR BUILT</th>\n",
       "      <th>LAND SQUARE FEET</th>\n",
       "      <th>SALE PRICE</th>\n",
       "      <th>BLOCK</th>\n",
       "    </tr>\n",
       "  </thead>\n",
       "  <tbody>\n",
       "    <tr>\n",
       "      <th>204</th>\n",
       "      <td>CHELSEA</td>\n",
       "      <td>1910</td>\n",
       "      <td>1360</td>\n",
       "      <td>0</td>\n",
       "      <td>766</td>\n",
       "    </tr>\n",
       "    <tr>\n",
       "      <th>205</th>\n",
       "      <td>CHELSEA</td>\n",
       "      <td>1910</td>\n",
       "      <td>1360</td>\n",
       "      <td>0</td>\n",
       "      <td>766</td>\n",
       "    </tr>\n",
       "    <tr>\n",
       "      <th>206</th>\n",
       "      <td>CHELSEA</td>\n",
       "      <td>1901</td>\n",
       "      <td>1975</td>\n",
       "      <td>7425000</td>\n",
       "      <td>771</td>\n",
       "    </tr>\n",
       "    <tr>\n",
       "      <th>207</th>\n",
       "      <td>CHELSEA</td>\n",
       "      <td>1900</td>\n",
       "      <td>1588</td>\n",
       "      <td>10</td>\n",
       "      <td>772</td>\n",
       "    </tr>\n",
       "    <tr>\n",
       "      <th>210</th>\n",
       "      <td>CHELSEA</td>\n",
       "      <td>1910</td>\n",
       "      <td>1526</td>\n",
       "      <td>0</td>\n",
       "      <td>743</td>\n",
       "    </tr>\n",
       "  </tbody>\n",
       "</table>\n",
       "</div>"
      ],
      "text/plain": [
       "    NEIGHBORHOOD  YEAR BUILT LAND SQUARE FEET SALE PRICE  BLOCK\n",
       "204      CHELSEA        1910             1360          0    766\n",
       "205      CHELSEA        1910             1360          0    766\n",
       "206      CHELSEA        1901             1975    7425000    771\n",
       "207      CHELSEA        1900             1588         10    772\n",
       "210      CHELSEA        1910             1526          0    743"
      ]
     },
     "execution_count": 18,
     "metadata": {},
     "output_type": "execute_result"
    }
   ],
   "source": [
    "chelsea_[['NEIGHBORHOOD', 'YEAR BUILT', 'LAND SQUARE FEET','SALE PRICE', 'BLOCK']].head()"
   ]
  },
  {
   "cell_type": "code",
   "execution_count": 19,
   "metadata": {},
   "outputs": [
    {
     "data": {
      "text/plain": [
       "204     766\n",
       "205     766\n",
       "206     771\n",
       "207     772\n",
       "210     743\n",
       "       ... \n",
       "1002    794\n",
       "1003    794\n",
       "1004    794\n",
       "1005    794\n",
       "1006    799\n",
       "Name: BLOCK, Length: 779, dtype: int64"
      ]
     },
     "execution_count": 19,
     "metadata": {},
     "output_type": "execute_result"
    }
   ],
   "source": [
    "blok= chelsea_['BLOCK']\n",
    "blok"
   ]
  },
  {
   "cell_type": "code",
   "execution_count": 20,
   "metadata": {},
   "outputs": [
    {
     "name": "stdout",
     "output_type": "stream",
     "text": [
      "[766 766 771 772 743 766 769 717 719 791 696 719 722 743 745 764 765 765\n",
      " 765 765 770 770 770 772 790 790 790 790 695 700 700 700 794 717 717 719\n",
      " 719 719 720 720 720 720 720 720 720 720 722 722 722 722 722 740 740 740\n",
      " 740 740 740 741 741 741 742 742 743 743 743 744 744 744 744 744 744 744\n",
      " 744 745 745 745 745 745 745 745 745 745 745 745 745 745 745 746 746 746\n",
      " 765 765 765 765 766 766 766 766 766 770 770 770 771 771 771 771 771 772\n",
      " 772 772 772 791 791 791 791 791 800 694 694 694 694 694 694 694 694 694\n",
      " 694 717 720 720 720 720 720 722 722 738 738 740 742 742 744 744 744 744\n",
      " 747 747 748 748 748 748 748 748 748 748 748 749 749 749 749 751 751 751\n",
      " 751 751 751 751 751 752 764 764 765 765 765 766 766 766 766 770 770 770\n",
      " 770 770 770 770 770 770 771 771 771 771 771 771 771 771 771 771 771 771\n",
      " 772 773 773 773 773 773 773 773 773 773 773 773 773 775 775 775 775 775\n",
      " 776 776 776 790 790 790 790 790 790 790 790 790 790 790 790 790 790 790\n",
      " 790 790 790 790 790 790 790 790 790 790 791 791 791 791 791 791 791 792\n",
      " 792 796 796 796 796 796 796 796 796 797 797 798 798 799 801 801 801 802\n",
      " 802 802 802 802 764 764 764 764 690 690 690 690 691 691 691 691 691 691\n",
      " 691 691 691 691 691 693 693 693 693 693 693 693 693 693 693 693 693 693\n",
      " 693 693 693 693 693 693 693 693 693 693 693 693 693 693 693 694 695 695\n",
      " 695 695 695 695 695 695 695 695 695 695 695 695 695 695 695 695 695 695\n",
      " 695 695 695 695 695 695 695 695 695 696 699 699 699 699 699 699 699 699\n",
      " 699 699 699 699 699 699 699 699 699 699 699 699 699 714 714 714 714 714\n",
      " 714 714 714 714 714 714 714 716 716 716 716 716 716 716 716 716 717 717\n",
      " 717 717 717 717 717 717 718 718 718 720 720 720 722 722 722 722 722 723\n",
      " 723 723 723 738 738 738 738 738 738 742 742 742 742 742 746 746 746 746\n",
      " 746 746 753 753 764 764 766 766 766 766 766 767 767 767 767 767 767 767\n",
      " 767 768 768 768 768 768 768 769 769 769 769 769 769 769 773 774 774 774\n",
      " 774 774 774 774 774 774 774 774 774 774 774 774 774 774 774 774 775 775\n",
      " 775 792 793 793 793 793 793 793 793 793 793 793 793 794 794 794 794 794\n",
      " 794 794 794 794 794 794 794 794 794 794 794 794 794 794 794 794 794 794\n",
      " 794 794 794 794 794 794 794 794 794 794 794 794 794 794 795 795 795 795\n",
      " 795 795 795 796 796 796 796 796 796 796 797 797 797 797 797 797 797 797\n",
      " 797 797 797 797 797 797 797 797 797 797 798 798 798 798 798 798 798 798\n",
      " 798 798 798 798 798 798 798 798 798 798 798 798 798 798 798 798 798 799\n",
      " 800 800 800 800 800 800 800 800 800 800 800 800 800 800 800 800 801 801\n",
      " 803 803 803 803 803 716 722 738 769 690 695 695 695 695 695 695 768 773\n",
      " 792 797 800 695 769 718 718 718 718 718 721 721 721 721 721 721 721 721\n",
      " 721 721 721 721 721 721 721 721 721 721 721 721 721 721 721 721 721 738\n",
      " 738 738 738 738 738 738 740 745 745 745 745 745 745 745 745 746 746 746\n",
      " 746 746 746 746 746 746 746 769 769 769 769 769 769 769 769 769 769 769\n",
      " 792 792 792 792 792 792 792 792 792 792 792 792 692 790 800 801 801 803\n",
      " 695 695 696 696 716 716 717 773 774 790 771 795 799 799 800 801 801 753\n",
      " 772 799 691 696 799 803 792 799 799 764 799 803 803 803 803 691 691 716\n",
      " 716 794 794 695 695 695 721 745 774 797 794 794 794 794 794 794 794 794\n",
      " 794 794 794 794 799]\n"
     ]
    }
   ],
   "source": [
    "blok = np.array(chelsea_['BLOCK'])\n",
    "print(blok)"
   ]
  },
  {
   "cell_type": "code",
   "execution_count": 21,
   "metadata": {},
   "outputs": [
    {
     "data": {
      "text/plain": [
       "204     1910\n",
       "205     1910\n",
       "206     1901\n",
       "207     1900\n",
       "210     1910\n",
       "        ... \n",
       "1002       0\n",
       "1003       0\n",
       "1004       0\n",
       "1005       0\n",
       "1006    1920\n",
       "Name: YEAR BUILT, Length: 779, dtype: int64"
      ]
     },
     "execution_count": 21,
     "metadata": {},
     "output_type": "execute_result"
    }
   ],
   "source": [
    "yearbuilt_= chelsea_['YEAR BUILT']\n",
    "yearbuilt_"
   ]
  },
  {
   "cell_type": "code",
   "execution_count": 22,
   "metadata": {},
   "outputs": [
    {
     "name": "stdout",
     "output_type": "stream",
     "text": [
      "[1910 1910 1901 1900 1910 1901 1920 1901 1901 1920 1901 1900 1910 1900\n",
      " 1900 1901 1901 1901 1901 1901 1901 1920 1920 1910 1920 1901 1920 1910\n",
      " 2014 2014 2014 2014 2014 1920 1910 1900 1900 1900 1900 1850 1900 1900\n",
      " 1900 1900 1905 1900 1900 1900 1910 1910 1910 1910 1910 1910 1900 1900\n",
      " 1900 1900 1900 1900 1910 1920 1910 1910 1900 1940 1940 1940 1850 1900\n",
      " 1850 1850 1850 1920 1920 1920 1900 1900 1900 1864 1864 1900 1925 1925\n",
      " 1925 1925 1925 1910 1900 1910 1915 1915 1915 1915 1910 1910 1910 1910\n",
      " 1910 1910 1910 1910 1905 1905 1905 1920 1920 1917 1917 1917 1917 1911\n",
      " 1911 1911 1920 1920 1910 2003 2003 2003 2003 2003 2003 2003 2003 2003\n",
      " 2003 1983 1920 1920 1920 1900 1900 1920 1920 1900 1900 1902 1928 1900\n",
      " 1928 1928 1928 1928 1926 1926 1963 1963 1963 1963 1963 1963 1963 1963\n",
      " 1963 1963 1963 1963 1963 1960 1960 1960 1960 1960 1960 1960 1960 1963\n",
      " 1930 1930 1930 1930 1930 1930 1930 1930 1930 1902 1902 1902 1902 1913\n",
      " 1913 1913 1913 1913 1889 1920 1963 1963 1963 1963 1963 1963 1963 1963\n",
      " 1920 1920 1900 1940 1940 1940 1940 1940 1940 1940 1940 1940 1940 1898\n",
      " 1898 1939 1939 1939 1939 1939 1926 1926 1926 1963 1963 1963 1963 1963\n",
      " 1963 1963 1963 1963 1963 1963 1963 1963 1963 1963 1963 1963 1963 1963\n",
      " 1963 1920 1920 1920 1910 1910 1938 1938 1938 1938 1940 1940 1927 1900\n",
      " 1900 1938 1938 1938 1938 1938 1938 1938 1909 1950 1950 1909 1909 1958\n",
      " 1905 1905 1905 1910 1904 1904 1907 1907 1930 1930 1930 1930 2007 2007\n",
      " 2007 2007 2007 2007 2007 2013 2013 2013 2013 2013 2013 2013 2013    0\n",
      " 2013 2013 2013 2013 2013 2013 2013 2013 2013 2013 2013 2013 2013 2013\n",
      " 2013 2013 2013 2013 2013 2013 2013 2013 2013 2013 2013 2013 2013    0\n",
      " 2005 2005 2005 2005 2005 2005 2005 2005 2005 2005 2005 2005 2005 2005\n",
      " 2005 2005 2005 2005 2005 2005 2005 2005 2005 2005 2005 2005 2007 2007\n",
      " 2007 2007 2009 2009 2009 2009 2009 2009 2009 2009 2009    0    0    0\n",
      "    0    0    0    0    0    0    0    0    0 2006 2006 2006 2006 2006\n",
      " 2006 2006 2006 2006 2006 2006 2006 1920    0    0    0 2007 2007 2007\n",
      " 2008 2008 1920 1920 1920 1920 1920 1987 1987 1987 1931 1931 1931 1984\n",
      " 1900 1900    0    0    0    0    0    0    0    0    0 1920 1920 1960\n",
      " 1960 1960 1960 1950 1950 1950 1950 1950 1983 1983 1983    0 1948 1948\n",
      " 1925 1925 2009 2009 1989 1989 1989 1989 1989    0    0    0    0 1929\n",
      " 1929 1929 1929 1939 1939 1939 1939    0 2004    0    0    0    0    0\n",
      "    0    0 2004    0    0    0    0    0    0    0    0    0    0    0\n",
      "    0    0    0    0    0    0    0    0 2014 2014 2014 1918 1899 1899\n",
      " 1907    0    0    0 2006 2006 2006 2006 2008 2005 2005 2005 2005 2006\n",
      " 2006 2006    0    0    0    0    0    0    0    0    0    0    0    0\n",
      "    0    0    0    0    0    0    0    0    0    0    0    0    0    0\n",
      "    0    0    0    0    0 2008 2008 2008 2008 2008 2008 1987 1987 1875\n",
      " 1875    0    0    0    0    0    0 2006 2006 2006 2006 1911 1911 1911\n",
      " 1911 1911 2012 2012 2012 2012 2012 2012 1973 1973 1973 1973 1973 1973\n",
      " 1973 1973 1973 1950 2006 2008 2008 2008 2008 2008 2008 2008 2008 2008\n",
      " 2008 2008 2008 2008 2011 1920    0 2006 2006 2006 2006 2006 2006 2006\n",
      " 2006 2006 2006 2006 2006 2006 2006 1901 1922 1922    0    0    0    0\n",
      "    0 1910 1910 1899 1910    0    0 2013 2013    0    0    0 2001 1920\n",
      "    0 1900    0    0    0 2008 2008 2008 2008 2008 1932 1932 1932 1932\n",
      " 1932 1932 1932 1932 1932 1932 1932 1932    0    0    0    0    0    0\n",
      "    0    0    0    0    0    0    0 1973 1973 1973 1973 1973 1973 1973\n",
      " 2008    0    0    0    0    0    0    0    0 1931 1931 1931 1931 1931\n",
      " 1931 1931 1931 1931 1931 1980 1980 1980 1980 1980 1980 1980 1980 1980\n",
      " 1980 1980 1908 1908 1908 1908 1908 1908 1908 1908 1908 1930 1930 1930\n",
      " 1900 1953 1913 1906 1930 1908 2015 2015 1946 2013 1910 1910 1910 1932\n",
      " 1963 1920 1920 1910 1910 1920 1910 1921 2010 1900 1900 1925 2013 1954\n",
      " 1111    0 1924 1920 1920 1920 1920    0    0    0    0 2013 2013    0\n",
      "    0    0    0    0    0    0    0    0    0 2006 2006    0    0    0\n",
      "    0    0    0    0    0    0    0    0 1920]\n"
     ]
    }
   ],
   "source": [
    "yearbuilt_ = np.array(chelsea_['YEAR BUILT'])\n",
    "print(yearbuilt_)"
   ]
  },
  {
   "cell_type": "code",
   "execution_count": 23,
   "metadata": {},
   "outputs": [
    {
     "data": {
      "text/plain": [
       "204     1360\n",
       "205     1360\n",
       "206     1975\n",
       "207     1588\n",
       "210     1526\n",
       "        ... \n",
       "1002       0\n",
       "1003       0\n",
       "1004       0\n",
       "1005       0\n",
       "1006       0\n",
       "Name: LAND SQUARE FEET, Length: 779, dtype: object"
      ]
     },
     "execution_count": 23,
     "metadata": {},
     "output_type": "execute_result"
    }
   ],
   "source": [
    "landsquare_feet = chelsea_['LAND SQUARE FEET']\n",
    "landsquare_feet "
   ]
  },
  {
   "cell_type": "code",
   "execution_count": 24,
   "metadata": {},
   "outputs": [
    {
     "name": "stdout",
     "output_type": "stream",
     "text": [
      "['1360' '1360' '1975' '1588' '1526' '2000' '2150' '2227' '2469' 0 '1463'\n",
      " '1026' '2057' '2307' '2057' '2581' '1566' '1566' '1566' '2065' '1500'\n",
      " '2029' '2927' '1588' '2581' '2077' '1952' '2000' '2469' '12344' '4937'\n",
      " '2468' '10053' 0 0 0 0 0 0 0 0 0 0 0 0 0 0 0 0 0 0 0 0 0 0 0 0 0 0 0 0 0\n",
      " 0 0 0 0 0 0 0 0 '4600' 0 0 0 0 0 0 0 0 0 0 0 0 0 0 0 0 0 0 0 0 0 0 0 0 0\n",
      " 0 0 0 0 0 0 0 0 0 0 0 0 0 0 0 0 0 0 0 0 0 0 0 0 0 0 0 0 0 0 0 0 0 0 0 0 0\n",
      " 0 0 0 0 0 0 0 0 0 0 0 0 0 0 0 0 0 0 0 0 0 0 0 0 0 0 0 0 0 0 0 0 0 0 0 0 0\n",
      " 0 0 0 0 0 0 0 0 0 0 0 0 0 0 0 0 0 0 0 0 0 0 0 0 0 0 0 0 0 0 0 0 0 0 0 0 0\n",
      " 0 0 0 0 0 0 0 0 0 0 0 0 0 0 0 0 0 0 0 0 0 0 0 0 0 0 0 0 0 0 0 0 0 0 0 0 0\n",
      " 0 0 0 0 0 0 0 0 0 0 0 0 0 0 0 0 0 0 0 0 0 0 0 0 0 0 0 0 0 0 0 0 0 0 0 0 0\n",
      " 0 0 0 0 0 0 0 0 0 0 0 0 0 0 0 0 0 0 0 0 0 0 0 0 0 0 0 0 0 0 0 0 0 0 0 0 0\n",
      " 0 0 0 0 0 0 0 0 0 0 0 0 0 0 0 0 0 0 0 0 0 0 0 0 0 0 0 0 0 0 0 0 0 0 0 0 0\n",
      " 0 0 0 0 0 0 0 0 0 0 0 0 0 0 0 0 0 0 0 0 0 0 0 0 0 0 0 0 0 0 0 0 0 0 0 0 0\n",
      " 0 0 0 0 0 0 0 0 0 0 0 0 0 0 0 0 0 0 0 0 0 0 0 0 0 0 0 0 0 0 0 0 0 0 0 0 0\n",
      " 0 0 0 0 0 0 0 0 0 0 0 0 0 0 0 0 0 0 0 0 0 0 0 0 0 0 0 0 0 0 0 0 0 0 0 0 0\n",
      " 0 0 0 0 0 0 0 0 0 0 0 0 0 0 0 0 0 0 0 0 0 0 0 0 0 0 0 0 0 0 0 0 0 0 0 0 0\n",
      " 0 0 0 0 0 0 0 0 0 0 0 0 0 0 0 0 0 0 0 0 0 0 0 0 0 0 0 0 0 0 0 0 0 0 0 0 0\n",
      " 0 0 0 0 0 0 0 0 0 0 0 0 0 0 0 0 0 0 0 0 0 0 0 0 0 0 0 0 0 0 0 0 0 0 0 0 0\n",
      " 0 0 0 0 0 0 0 0 0 0 0 0 0 0 0 0 0 0 0 0 0 0 0 0 0 0 0 0 0 0 0 0 0 0 0 0 0\n",
      " 0 0 0 '1875' '1146' '3413' '2500' 0 0 0 0 0 0 0 0 0 0 0 0 0 0 0 0 0 0 0 0\n",
      " 0 0 0 0 0 0 0 0 0 0 0 0 0 0 0 0 0 0 0 0 0 0 0 0 0 0 0 0 0 0 0 0 0 0 0 0 0\n",
      " 0 0 0 0 0 0 0 0 0 0 0 0 0 0 0 0 0 0 0 0 0 0 0 0 0 0 0 0 0 0 0 0 0 0 0 0\n",
      " '1360' '6468' '10709' '9875' '2469' '3950' '3456' '4937' '7406' '3950'\n",
      " '1675' '1675' '3800' '19750' '8986' '1586' '4938' '1878' '5925' '1852'\n",
      " '2469' '4937' '9826' '2271' '17281' '17968' 0 '2963' '2125' '7571' '5296'\n",
      " '12343' '1500' '2496' '1656' 0 0 0 0 0 0 0 0 0 0 0 0 0 0 0 0 0 0 0 0 0 0\n",
      " 0 0 0 0 0 0 0 0]\n"
     ]
    }
   ],
   "source": [
    "landsquare_feet = np.array(chelsea_['LAND SQUARE FEET'])\n",
    "print(landsquare_feet)"
   ]
  },
  {
   "attachments": {},
   "cell_type": "markdown",
   "metadata": {},
   "source": [
    "### Measure of Central Tendency\n",
    "- Mean/Average\n",
    "- Median\n",
    "- Modus/Mode\n"
   ]
  },
  {
   "attachments": {},
   "cell_type": "markdown",
   "metadata": {},
   "source": [
    "#### Mean"
   ]
  },
  {
   "attachments": {},
   "cell_type": "markdown",
   "metadata": {},
   "source": [
    "mean menggunakan fungsi statistics built-in python"
   ]
  },
  {
   "cell_type": "code",
   "execution_count": 25,
   "metadata": {},
   "outputs": [
    {
     "data": {
      "text/plain": [
       "1088340.9515263396"
      ]
     },
     "execution_count": 25,
     "metadata": {},
     "output_type": "execute_result"
    }
   ],
   "source": [
    "mean=statistics.mean(SP)\n",
    "mean"
   ]
  },
  {
   "attachments": {},
   "cell_type": "markdown",
   "metadata": {},
   "source": [
    "mean menggunakan pustaka numpy"
   ]
  },
  {
   "cell_type": "code",
   "execution_count": 26,
   "metadata": {},
   "outputs": [
    {
     "data": {
      "text/plain": [
       "1088340.9515263396"
      ]
     },
     "execution_count": 26,
     "metadata": {},
     "output_type": "execute_result"
    }
   ],
   "source": [
    "mean=np.mean(SP)\n",
    "mean "
   ]
  },
  {
   "attachments": {},
   "cell_type": "markdown",
   "metadata": {},
   "source": [
    "mean menggunakan pustaka pandas"
   ]
  },
  {
   "cell_type": "code",
   "execution_count": 27,
   "metadata": {},
   "outputs": [
    {
     "data": {
      "text/plain": [
       "1088340.9515263396"
      ]
     },
     "execution_count": 27,
     "metadata": {},
     "output_type": "execute_result"
    }
   ],
   "source": [
    "mean=SP.mean()\n",
    "mean "
   ]
  },
  {
   "attachments": {},
   "cell_type": "markdown",
   "metadata": {},
   "source": [
    "mean menggunakan pustaka scipy"
   ]
  },
  {
   "cell_type": "code",
   "execution_count": 28,
   "metadata": {},
   "outputs": [],
   "source": [
    "import scipy"
   ]
  },
  {
   "cell_type": "code",
   "execution_count": 29,
   "metadata": {},
   "outputs": [
    {
     "name": "stderr",
     "output_type": "stream",
     "text": [
      "C:\\Users\\ASUS\\AppData\\Local\\Temp\\ipykernel_8312\\4028283832.py:1: DeprecationWarning: scipy.mean is deprecated and will be removed in SciPy 2.0.0, use numpy.mean instead\n",
      "  scipy.mean(SP)\n"
     ]
    },
    {
     "data": {
      "text/plain": [
       "1088340.9515263396"
      ]
     },
     "execution_count": 29,
     "metadata": {},
     "output_type": "execute_result"
    }
   ],
   "source": [
    "scipy.mean(SP)"
   ]
  },
  {
   "attachments": {},
   "cell_type": "markdown",
   "metadata": {},
   "source": [
    "#### Median"
   ]
  },
  {
   "attachments": {},
   "cell_type": "markdown",
   "metadata": {},
   "source": [
    "median menggunakan fungsi statistics built-in python"
   ]
  },
  {
   "cell_type": "code",
   "execution_count": 30,
   "metadata": {},
   "outputs": [
    {
     "data": {
      "text/plain": [
       "432000"
      ]
     },
     "execution_count": 30,
     "metadata": {},
     "output_type": "execute_result"
    }
   ],
   "source": [
    "median=statistics.median(SP)\n",
    "median"
   ]
  },
  {
   "attachments": {},
   "cell_type": "markdown",
   "metadata": {},
   "source": [
    "median menggunakan pustaka numpy"
   ]
  },
  {
   "cell_type": "code",
   "execution_count": 31,
   "metadata": {},
   "outputs": [
    {
     "data": {
      "text/plain": [
       "432000.0"
      ]
     },
     "execution_count": 31,
     "metadata": {},
     "output_type": "execute_result"
    }
   ],
   "source": [
    "median=np.median(SP)\n",
    "median"
   ]
  },
  {
   "attachments": {},
   "cell_type": "markdown",
   "metadata": {},
   "source": [
    "median menggunakan pustaka pandas"
   ]
  },
  {
   "cell_type": "code",
   "execution_count": 32,
   "metadata": {},
   "outputs": [
    {
     "data": {
      "text/plain": [
       "432000.0"
      ]
     },
     "execution_count": 32,
     "metadata": {},
     "output_type": "execute_result"
    }
   ],
   "source": [
    "median=SP.median()\n",
    "median"
   ]
  },
  {
   "attachments": {},
   "cell_type": "markdown",
   "metadata": {},
   "source": [
    "median menggunakan pustaka scipy"
   ]
  },
  {
   "cell_type": "code",
   "execution_count": 33,
   "metadata": {},
   "outputs": [
    {
     "name": "stderr",
     "output_type": "stream",
     "text": [
      "C:\\Users\\ASUS\\AppData\\Local\\Temp\\ipykernel_8312\\3188796730.py:1: DeprecationWarning: scipy.median is deprecated and will be removed in SciPy 2.0.0, use numpy.median instead\n",
      "  median=scipy.median(SP)\n"
     ]
    },
    {
     "data": {
      "text/plain": [
       "432000.0"
      ]
     },
     "execution_count": 33,
     "metadata": {},
     "output_type": "execute_result"
    }
   ],
   "source": [
    "median=scipy.median(SP)\n",
    "median"
   ]
  },
  {
   "attachments": {},
   "cell_type": "markdown",
   "metadata": {},
   "source": [
    "#### Modus"
   ]
  },
  {
   "attachments": {},
   "cell_type": "markdown",
   "metadata": {},
   "source": [
    "modus menggunakan fungsi statistics built-in Python"
   ]
  },
  {
   "cell_type": "code",
   "execution_count": 34,
   "metadata": {},
   "outputs": [
    {
     "data": {
      "text/plain": [
       "0"
      ]
     },
     "execution_count": 34,
     "metadata": {},
     "output_type": "execute_result"
    }
   ],
   "source": [
    "mode=statistics.mode(SP)\n",
    "mode"
   ]
  },
  {
   "attachments": {},
   "cell_type": "markdown",
   "metadata": {},
   "source": [
    "modus menggunakan pustaka numpy"
   ]
  },
  {
   "cell_type": "code",
   "execution_count": 35,
   "metadata": {},
   "outputs": [
    {
     "data": {
      "text/plain": [
       "array([ 6625000,        0,        0, ...,   460000, 11693337,    69300],\n",
       "      dtype=int64)"
      ]
     },
     "execution_count": 35,
     "metadata": {},
     "output_type": "execute_result"
    }
   ],
   "source": [
    "mode=np.array(SP)\n",
    "mode"
   ]
  },
  {
   "attachments": {},
   "cell_type": "markdown",
   "metadata": {},
   "source": [
    "modus menggunakan pustaka pandas"
   ]
  },
  {
   "cell_type": "code",
   "execution_count": 36,
   "metadata": {},
   "outputs": [
    {
     "data": {
      "text/plain": [
       "0    0\n",
       "Name: SALE PRICE, dtype: int64"
      ]
     },
     "execution_count": 36,
     "metadata": {},
     "output_type": "execute_result"
    }
   ],
   "source": [
    "mode=SP.mode()\n",
    "mode"
   ]
  },
  {
   "attachments": {},
   "cell_type": "markdown",
   "metadata": {},
   "source": [
    "modus menggunakan pustaka scipy"
   ]
  },
  {
   "cell_type": "code",
   "execution_count": 37,
   "metadata": {},
   "outputs": [
    {
     "name": "stderr",
     "output_type": "stream",
     "text": [
      "C:\\Users\\ASUS\\AppData\\Local\\Temp\\ipykernel_8312\\3437164640.py:1: FutureWarning: Unlike other reduction functions (e.g. `skew`, `kurtosis`), the default behavior of `mode` typically preserves the axis it acts along. In SciPy 1.11.0, this behavior will change: the default value of `keepdims` will become False, the `axis` over which the statistic is taken will be eliminated, and the value None will no longer be accepted. Set `keepdims` to True or False to avoid this warning.\n",
      "  mode=scipy.stats.mode(SP)\n"
     ]
    },
    {
     "data": {
      "text/plain": [
       "ModeResult(mode=array([0], dtype=int64), count=array([22443]))"
      ]
     },
     "execution_count": 37,
     "metadata": {},
     "output_type": "execute_result"
    }
   ],
   "source": [
    "mode=scipy.stats.mode(SP)\n",
    "mode"
   ]
  },
  {
   "cell_type": "code",
   "execution_count": 38,
   "metadata": {},
   "outputs": [
    {
     "data": {
      "text/plain": [
       "22443"
      ]
     },
     "execution_count": 38,
     "metadata": {},
     "output_type": "execute_result"
    }
   ],
   "source": [
    "zero=(SP==0).sum()\n",
    "zero"
   ]
  },
  {
   "attachments": {},
   "cell_type": "markdown",
   "metadata": {},
   "source": [
    "### Measure Of Spread\n",
    "- Range\n",
    "- Variance\n",
    "- Standard Deviation"
   ]
  },
  {
   "attachments": {},
   "cell_type": "markdown",
   "metadata": {},
   "source": [
    "#### Range"
   ]
  },
  {
   "cell_type": "code",
   "execution_count": 39,
   "metadata": {},
   "outputs": [
    {
     "data": {
      "text/plain": [
       "2210000000"
      ]
     },
     "execution_count": 39,
     "metadata": {},
     "output_type": "execute_result"
    }
   ],
   "source": [
    "np.ptp(SP)\n"
   ]
  },
  {
   "attachments": {},
   "cell_type": "markdown",
   "metadata": {},
   "source": [
    "#### Variance"
   ]
  },
  {
   "cell_type": "code",
   "execution_count": 40,
   "metadata": {},
   "outputs": [
    {
     "data": {
      "text/plain": [
       "111390782800612.16"
      ]
     },
     "execution_count": 40,
     "metadata": {},
     "output_type": "execute_result"
    }
   ],
   "source": [
    "var=statistics.variance(SP)\n",
    "var"
   ]
  },
  {
   "cell_type": "code",
   "execution_count": 41,
   "metadata": {},
   "outputs": [
    {
     "data": {
      "text/plain": [
       "111389421005157.58"
      ]
     },
     "execution_count": 41,
     "metadata": {},
     "output_type": "execute_result"
    }
   ],
   "source": [
    "np.var(SP)"
   ]
  },
  {
   "attachments": {},
   "cell_type": "markdown",
   "metadata": {},
   "source": [
    "#### Standard Deviation"
   ]
  },
  {
   "cell_type": "code",
   "execution_count": 42,
   "metadata": {},
   "outputs": [
    {
     "data": {
      "text/plain": [
       "10554183.189646281"
      ]
     },
     "execution_count": 42,
     "metadata": {},
     "output_type": "execute_result"
    }
   ],
   "source": [
    "std=var**0.5\n",
    "std"
   ]
  },
  {
   "cell_type": "code",
   "execution_count": 43,
   "metadata": {},
   "outputs": [
    {
     "data": {
      "text/plain": [
       "10554183.189646281"
      ]
     },
     "execution_count": 43,
     "metadata": {},
     "output_type": "execute_result"
    }
   ],
   "source": [
    "std=statistics.stdev(SP)\n",
    "std"
   ]
  },
  {
   "cell_type": "code",
   "execution_count": 44,
   "metadata": {},
   "outputs": [
    {
     "data": {
      "text/plain": [
       "10554118.67496086"
      ]
     },
     "execution_count": 44,
     "metadata": {},
     "output_type": "execute_result"
    }
   ],
   "source": [
    "np.std(SP)"
   ]
  },
  {
   "attachments": {},
   "cell_type": "markdown",
   "metadata": {},
   "source": [
    "#### Skewness"
   ]
  },
  {
   "cell_type": "code",
   "execution_count": 45,
   "metadata": {},
   "outputs": [],
   "source": [
    "n=len(SP)\n",
    "mean=sum(SP) / n\n",
    "var=sum((item-mean)**2 for item in SP)/(n-1)\n",
    "std=var**0.5\n",
    "\n",
    "skew=(sum((item-mean)**3 for item in SP)*n/((n-1)*(n-2)*std**3))"
   ]
  },
  {
   "cell_type": "code",
   "execution_count": 46,
   "metadata": {},
   "outputs": [
    {
     "data": {
      "text/plain": [
       "134.0348979254604"
      ]
     },
     "execution_count": 46,
     "metadata": {},
     "output_type": "execute_result"
    }
   ],
   "source": [
    "skew"
   ]
  },
  {
   "attachments": {},
   "cell_type": "markdown",
   "metadata": {},
   "source": [
    "### Probability Distribution"
   ]
  },
  {
   "attachments": {},
   "cell_type": "markdown",
   "metadata": {},
   "source": [
    "#### Distribusi Uniform"
   ]
  },
  {
   "cell_type": "code",
   "execution_count": 47,
   "metadata": {},
   "outputs": [
    {
     "data": {
      "text/plain": [
       "array([11.0302797 , 17.94299531, 11.75439723,  9.35125418, 10.36135032,\n",
       "        6.11829065,  7.78811178, 11.03697248, 12.04543618, 13.81994344,\n",
       "       18.67641799,  9.81483628, 17.47989519, 11.30935606,  6.29956307,\n",
       "        9.53315407, 16.71065794, 11.51127887,  9.3314393 ,  6.69762747,\n",
       "       13.39437357,  5.35570422, 19.69602274,  6.26138128,  6.4584593 ,\n",
       "       15.35339879, 14.94887278, 14.78305294,  7.36643885,  5.68517676,\n",
       "       15.2871456 , 17.24228997, 19.60664265,  5.14346033, 18.51635425,\n",
       "       14.84072859,  9.7269027 , 12.34635588, 11.84600313, 14.46717966,\n",
       "       11.84211499, 18.71868876, 18.66666788, 15.47441868, 11.47646326,\n",
       "       13.02560644, 16.32630514, 14.6598102 ,  9.25979674,  7.41321517,\n",
       "        8.58625283, 16.935253  ,  6.19891394,  9.08289314, 14.73927891,\n",
       "       19.07366365, 11.03037926, 11.61300309, 19.89285002, 10.25436322,\n",
       "       15.42748953, 10.36417147, 15.35640475, 13.48539834,  5.00101519,\n",
       "       11.30083144, 18.8396112 , 15.37340944, 12.66252033, 18.33931153,\n",
       "        8.40688286,  9.14089227, 19.94036422,  9.83411289, 17.88465879,\n",
       "       14.03864429,  9.25427957,  7.28102699,  9.2998835 , 17.14020326,\n",
       "       19.89898499, 17.97257916, 16.47629756,  6.22399609, 19.18178127,\n",
       "       16.40662722,  5.92185153,  8.37925751, 19.37241817, 12.86143017,\n",
       "       13.38861946, 19.83288356,  7.66689598, 14.92540672, 18.46536296,\n",
       "       12.00382213,  5.51538283, 17.46856749,  5.67634722, 14.06761614,\n",
       "       17.47112507, 14.85994599, 14.55847589, 17.90811504,  5.19186829,\n",
       "       15.4822414 , 15.1022173 , 14.30972296,  8.00429429, 12.72380486,\n",
       "       19.57713871,  5.89992905, 11.9228228 ,  7.7587195 , 10.7624623 ,\n",
       "       15.63652327, 15.01738297, 14.95247395, 10.90148752, 13.75230856,\n",
       "        7.96947299, 16.21535745,  9.24050095,  5.01309549, 19.0755942 ,\n",
       "        9.03972295, 15.80492142, 17.38518368, 13.25276982, 18.41402664,\n",
       "       13.55183604, 17.84601207, 18.92932132, 13.29723545, 17.51098091,\n",
       "       16.46279488, 14.17408669,  9.64461792, 18.50888658,  8.5351487 ,\n",
       "       16.0827954 ,  8.46337554, 11.31128822,  5.0329968 , 18.52043507,\n",
       "        6.15966537, 14.05458166, 19.88774444, 17.67762751, 19.62137362,\n",
       "        9.32411608, 17.03491222, 13.30314548, 13.98841296, 18.61187508,\n",
       "       18.58203893, 16.02448902, 15.35156347, 10.48847302, 12.82482427,\n",
       "       10.55657058, 12.33258563,  6.80006987, 18.93521888,  8.52895366,\n",
       "        5.60048739, 17.6731607 , 10.09740521, 15.83422932,  5.4989574 ,\n",
       "       11.36945394, 10.45901567,  8.9688893 , 13.11674588, 19.23401499,\n",
       "        9.82217328,  5.24516202, 19.93539664, 10.25321017, 16.74022828,\n",
       "       19.22843832,  5.23117799, 15.80722232, 19.00684186, 14.8813359 ,\n",
       "       13.07282006,  8.76164653, 12.08174567,  9.70054634,  7.11060982,\n",
       "       12.15329487, 11.99916763, 15.44327063, 11.34197967, 15.51342351,\n",
       "       13.26724525,  8.53564426, 11.12208378,  9.18233283,  8.5378004 ,\n",
       "       19.56450189, 13.05791112, 13.94436315, 14.28026805, 17.08321425,\n",
       "       10.91060088, 14.20266847,  5.23286262, 13.17896035,  6.09666511,\n",
       "       17.50882007,  5.9894713 , 11.39118615,  7.07342821, 16.24588529,\n",
       "       16.82037121,  9.55516512, 11.04208684,  9.37891414, 11.40155502,\n",
       "        6.08836964,  8.32541509,  5.61730163, 13.77312817, 11.49822023,\n",
       "        7.60867087, 17.8312522 , 13.84946446,  8.01077794,  9.34366937,\n",
       "        7.28383299, 16.07105169,  5.36447095, 13.50546933, 19.32626527,\n",
       "       16.84731747, 18.90809237, 13.30537347, 15.08374438,  8.27192387,\n",
       "       13.38479736, 14.45314322, 17.15397643,  5.43815476,  8.33203956,\n",
       "        8.75397232, 11.87676285, 10.90978357, 15.78902341, 14.10123392,\n",
       "        6.3225722 ,  7.9776442 ,  6.42872169, 19.05578506,  7.8144102 ,\n",
       "        7.39689314, 10.66482947,  8.79019633, 12.05129676, 12.75108162,\n",
       "       11.71703716, 18.39307717, 17.17154781, 12.06425135, 13.42262003,\n",
       "        6.25771749, 16.76554745, 16.68863387,  9.43801545, 12.53411661,\n",
       "        7.52493926, 18.73982231, 17.97783917, 18.21694502, 18.93207574,\n",
       "       17.84957708,  5.82740867, 18.89434458, 16.4160126 , 19.31218989,\n",
       "        9.72966215, 19.27055515, 15.25637527,  6.53950229, 17.59094591,\n",
       "       18.78438616, 15.50288377, 19.96250797, 13.79154303, 11.38187906,\n",
       "       13.99395161, 17.63974314, 14.1392127 , 12.69511763,  6.30606926,\n",
       "       17.79827134,  6.96624554, 12.01318097, 10.55705688, 17.64643725,\n",
       "       17.11039537, 13.64520016,  5.03538441, 10.21880131, 11.56412794,\n",
       "       16.46016919, 16.43575254,  9.03245713, 11.32762485, 14.26401961,\n",
       "       17.95107563,  5.69163541,  7.18874247, 13.01884092, 11.91047749,\n",
       "       14.34216932, 12.38753004, 18.21699968, 19.82209454, 18.46012301,\n",
       "       13.45194379, 13.41000805, 15.81863584,  5.27907062,  8.91661597,\n",
       "       14.81255729,  8.93029428, 18.06160153,  9.32662074, 17.11424949,\n",
       "       11.7714228 ,  5.24234898, 19.14174073, 10.33493126, 13.2082146 ,\n",
       "       17.3397393 ,  7.17818069,  5.67250231, 12.32631371, 14.62937558,\n",
       "        8.40425541, 19.9378289 ,  5.12311642, 18.24499943,  9.55553815,\n",
       "        9.99608595, 13.95010944,  6.16564956, 15.48876556, 13.24035861,\n",
       "        7.56403272,  5.40113779, 10.45529046, 10.43897214, 18.60156744,\n",
       "       14.13047745,  9.7533238 ,  5.23814902,  6.5948943 , 19.41240031,\n",
       "       15.54771512,  6.71114725, 12.51575003,  6.85397967, 10.22490032,\n",
       "       18.61547024, 17.53221085,  9.20210164, 11.60333841,  7.24656399,\n",
       "       11.74754939, 12.78027169,  9.17251751,  5.08675665,  9.95184654,\n",
       "       15.14144402, 16.27878897,  5.06085938, 10.53252824,  5.86329898,\n",
       "       10.47214017, 13.01319589, 15.45584582, 19.34995016, 14.2763632 ,\n",
       "       13.99246346, 17.21483142, 16.90036163, 13.21715695, 11.3740541 ,\n",
       "        8.81007746, 14.03794327,  7.62463855, 18.34976514,  8.98294127,\n",
       "       13.19089122,  7.43241404,  9.73401222, 14.46379296, 10.33741666,\n",
       "       17.79333517, 18.86644136, 11.37794619, 17.07290928,  9.63551129,\n",
       "       18.00219621, 19.31146065,  6.67687237, 10.93084971, 12.24236812,\n",
       "       14.36146776, 16.0423914 , 15.0452705 , 19.54313034, 13.45809324,\n",
       "       14.82847837, 12.52468899, 15.36217185,  5.85252683,  6.50874875,\n",
       "       12.31660311, 12.94728416, 13.4637159 , 19.73979161,  5.69344098,\n",
       "       15.64592759, 14.80056518, 13.7393924 , 14.11680347, 18.23681272,\n",
       "       11.94126529,  5.49545871,  8.75834106, 16.91548102,  7.57173711,\n",
       "        6.60633385, 15.13931082, 17.15054842, 16.86631448,  8.65555989,\n",
       "       10.14146892,  5.37155255,  6.63104724, 18.41592922, 15.55666317,\n",
       "        9.34178312,  7.13478591, 19.37513798, 19.93157551, 10.12778982,\n",
       "       19.148243  , 15.03866076, 12.0595834 , 15.3452595 ,  7.16512251,\n",
       "       18.75579473,  9.0009049 , 13.07904639, 19.74840179,  5.89200532,\n",
       "        5.61834602, 16.21551257, 14.34161417,  8.97593657,  7.44441592,\n",
       "       12.37424867, 11.75470033,  5.39998557, 17.45797589, 17.82348576,\n",
       "       11.93532603, 16.22979811,  5.72998991, 19.23758435, 15.45950192,\n",
       "       19.97933129, 15.97585799, 16.29238662, 19.4100549 , 17.22751127,\n",
       "        6.13355395, 14.31715032,  8.43233456, 11.03707933, 17.97519555,\n",
       "       12.60668607, 12.98228211,  5.32597072, 19.39439521, 13.51221087,\n",
       "       17.65545355, 19.61151968, 14.17853579, 14.0199921 ,  5.77678837,\n",
       "        9.32655547,  8.22998127,  6.3352416 ,  9.04765071,  7.22118959,\n",
       "        9.74425554, 16.19529791,  9.0108012 , 15.10357499, 18.54966065,\n",
       "        6.51748004, 13.93021709, 10.92543723, 15.80006878, 19.24197294,\n",
       "        5.39253442, 18.82688623, 12.85813112, 13.09678242, 15.6589555 ,\n",
       "       15.16658619, 19.3462629 , 16.31606037, 18.60285923, 16.25276828,\n",
       "        5.49642307, 16.46676651,  9.22241152, 15.11489617, 12.35596361,\n",
       "       11.76834586, 10.80812722, 15.95524766, 17.60099499,  5.49683734,\n",
       "       11.99650607, 10.97264184, 16.35674449, 12.25528157, 18.40767934,\n",
       "       15.79714295, 19.39554746, 14.43340678,  8.72218126, 11.59973486,\n",
       "       15.701114  , 12.59997581, 17.53671017, 12.37168375, 18.54699071,\n",
       "       18.46633831, 11.19816184,  9.79317649, 12.48917443, 11.07470791,\n",
       "        9.668966  ,  8.75304744, 16.68002084, 15.43433082,  9.28699736,\n",
       "        5.10012846, 11.1143337 , 12.6298574 , 15.45185985, 16.00200761,\n",
       "       14.05928105, 18.36406636,  6.51483095, 19.38086445, 12.25513931,\n",
       "       14.31439609, 17.4183569 , 18.06345453, 16.19972433, 10.23829016,\n",
       "       10.14263915,  9.30368698, 15.58032785, 12.7071562 , 13.43003   ,\n",
       "        9.87450007, 13.53276099, 15.08936641, 10.45755575, 18.21571162,\n",
       "        9.06597136,  9.15818782, 12.63020778, 10.42056133,  7.85948483,\n",
       "       19.06701263, 16.05360533, 13.80339996,  6.56243831, 13.99442647,\n",
       "       12.01559668, 14.1603958 , 16.02970238, 15.26949356, 10.49095198,\n",
       "        5.34932706, 13.67294371, 11.96791345, 18.40403754, 12.61340434,\n",
       "       15.49562581,  5.89995844, 13.46205197,  5.66745045,  8.4510749 ,\n",
       "       18.43526714,  8.55150698,  9.71390369, 13.98119804, 10.90597971,\n",
       "       12.63393323,  6.46271454, 12.77484076,  6.02199417,  6.72040691,\n",
       "        8.09010689,  9.97893113, 19.82331686, 13.49290305, 17.11849946,\n",
       "        6.07630147, 11.84911913,  7.11867386,  7.29267975, 16.94973447,\n",
       "        5.49175638, 13.87188856, 14.21893793, 16.56323686,  5.79900788,\n",
       "       13.47461112, 11.67756358, 18.53958816, 10.02670625, 10.01165893,\n",
       "       12.74647718, 18.49846557, 10.38489128, 16.9953572 , 10.23376798,\n",
       "       12.76753958,  5.53680992, 19.17105429, 16.14577944, 15.59020984,\n",
       "       19.95431253, 16.82586629, 14.93773311, 14.31162132, 12.51573681,\n",
       "       19.01827843,  6.49511232,  7.66112178, 18.4386413 , 10.67217104,\n",
       "       13.90881884, 11.28963397, 13.61650819, 16.25719973, 18.72370063,\n",
       "       10.6657122 , 10.59380364, 15.96955263, 18.60523613,  7.91230855,\n",
       "        7.58313791, 11.84120387,  5.1557996 ,  7.59380691, 19.98422486,\n",
       "       17.13482149, 13.85092916, 11.21197746,  5.94967155, 14.36094469,\n",
       "        9.86680259, 19.07720974,  8.36874811, 18.16880707, 15.61764784,\n",
       "       15.59700274,  7.12520218,  5.30463209, 13.49542457, 19.57810083,\n",
       "       13.92347124,  5.29603176, 18.44427506,  6.94956035, 16.39109204,\n",
       "       11.50155823, 12.49836557,  6.17063892,  6.4381287 ,  8.21457239,\n",
       "        5.24504595,  7.16931815, 15.51018846, 11.236009  , 14.7938974 ,\n",
       "       11.34967186, 11.3352046 ,  5.2191093 , 15.52287917, 13.69201226,\n",
       "        8.40329127, 19.21846113, 14.34494417, 17.85030065, 11.75439222,\n",
       "       12.21530234, 15.9947934 , 17.45821491, 17.62289461, 17.51049742,\n",
       "       11.00428086,  9.84666139, 19.93136111, 14.92739836,  5.94464821,\n",
       "       13.88471612,  7.72547211, 18.65112426, 10.82459003, 10.15514108,\n",
       "        5.99880178,  6.04738091, 12.18692926,  6.9917357 , 16.18208923,\n",
       "       17.57999591, 14.1299814 , 14.0094056 , 12.33584288, 12.89084674,\n",
       "       14.00304456,  8.40978277, 14.48802072, 17.16046748, 10.92578768,\n",
       "        7.00056482, 18.13817479,  7.0194381 , 14.08698526,  7.32063848,\n",
       "       17.17344224, 15.49796809,  9.8015731 , 13.33053273, 17.26229271,\n",
       "       10.58377409, 17.41334803, 18.39315378, 14.71285349, 17.32846974,\n",
       "       15.23246876,  6.87425404, 13.06341774,  6.40251557,  5.11545768,\n",
       "       14.25415207, 13.62896212,  7.13226661,  8.91490452, 15.71059127,\n",
       "        6.8284581 , 19.63878225, 18.50331225,  8.39152356, 19.31734183,\n",
       "        7.61328094, 12.45834944,  9.19775278,  6.78719848, 16.89413993,\n",
       "        7.16122244, 10.86286004, 15.31306544, 14.60880922,  7.69270078,\n",
       "       16.37546783, 17.84134242, 10.47471124,  7.89483779,  7.02405951,\n",
       "       15.55731805,  5.06090253, 10.37601154, 15.96721885, 18.89069668,\n",
       "        6.71357812, 16.7484086 , 18.49939605,  8.28580983,  5.66452073,\n",
       "        8.27848929, 18.47490021, 14.46274809, 15.93372705, 18.78474745,\n",
       "        8.22971454,  6.46405643, 16.94208465, 10.83614236, 16.5723402 ,\n",
       "       14.04312803, 12.8572139 ,  5.69704011, 16.79465478, 12.73815713,\n",
       "        7.98367935, 16.61002942, 18.54551127,  7.19769168, 11.99519708,\n",
       "       16.45050168,  8.74227296,  7.17778347, 14.50780254,  9.14933326,\n",
       "        8.62354825, 13.58565641, 15.25378099,  8.67173204,  9.03701243,\n",
       "       19.34139534, 10.14417721, 16.28882114, 10.76330253, 10.18289855,\n",
       "       14.01671341, 14.24472766,  7.73656473, 16.69702821,  8.4521307 ,\n",
       "       13.254352  ,  5.41529025, 15.65530009, 14.83138402,  8.98279532,\n",
       "       13.18506672, 19.45401887, 18.35244803, 19.6004851 ,  6.69922541,\n",
       "       15.42157222,  9.67942207,  7.43889785,  9.30249041,  6.73964385,\n",
       "       13.54348312, 11.07820427, 19.65148914, 12.80745871,  8.82159996,\n",
       "        9.16598474, 16.40126577,  7.3610357 , 18.35667383, 18.46392188,\n",
       "       19.41717391,  9.28728747,  9.18432768, 17.79663459, 18.19104422,\n",
       "       17.37906258, 13.3052067 ,  9.39891109, 19.47779765,  8.29427293,\n",
       "       12.36193271, 16.8837707 ,  9.4671226 , 14.1159999 , 11.59874724,\n",
       "       16.91777716, 12.78442437,  9.62185874,  8.0324529 , 13.01256196,\n",
       "        6.70805012, 18.2557139 , 15.41395685, 18.29339303, 16.42234818,\n",
       "        6.9539749 , 11.68465212, 17.60356583, 19.03178958, 19.11472614,\n",
       "       14.84767597, 13.62657672,  5.48189098, 12.02777401,  6.01039513,\n",
       "       17.25128157,  8.03830524, 19.04859817, 12.1039275 , 14.67951712,\n",
       "        5.67793452,  6.76696171,  7.964033  , 15.02653371, 12.22191064,\n",
       "        6.57155421, 19.19322861, 16.70820509, 14.57908615, 10.65025826,\n",
       "       14.29867224,  7.85586958, 13.21526229, 16.00658441, 18.3801092 ,\n",
       "       12.59877598, 13.39212047,  7.28149305, 14.53752005, 16.20434039,\n",
       "       11.57848496,  7.74856256, 18.38373368, 14.53146069, 12.28085126,\n",
       "        6.86381885,  7.40115156, 17.68166904, 18.50077954,  5.4287857 ,\n",
       "       10.89579242, 12.58064348, 15.05343332, 10.85262721, 17.3077424 ,\n",
       "       19.18111567,  6.64687683, 15.51336308,  7.0210125 ,  7.17565938,\n",
       "        7.74796129,  7.51366722, 11.60976443, 12.14858981, 10.09984052,\n",
       "        9.15535716, 10.13260203, 17.6050015 , 16.61015907, 16.24251375,\n",
       "        9.74022684,  5.6242729 , 13.18758005, 14.52069809, 19.47142722,\n",
       "        8.58676368,  6.12861689, 11.86214698, 16.69961053,  9.29848996,\n",
       "        5.51183882, 16.12019745, 11.23824038, 19.14968764, 17.44283848,\n",
       "       12.17776959,  5.29987459, 14.21779001,  5.98104072, 17.7834001 ,\n",
       "        9.32751165, 16.24964008, 10.06613155, 17.01488481,  5.52946358,\n",
       "        9.59295854, 14.22115943,  7.236332  ,  7.63097962, 15.63183963,\n",
       "       14.15304849, 11.62986002, 14.39175087, 11.54894073,  6.5577503 ,\n",
       "       11.24620648, 10.71207267, 10.61734044, 11.59815147,  7.75774535,\n",
       "       11.7205827 ,  9.38812146, 14.97177766, 15.67712678, 18.63980873,\n",
       "       11.25831868, 12.35577246,  7.14919438, 17.92394934,  9.68690697])"
      ]
     },
     "execution_count": 47,
     "metadata": {},
     "output_type": "execute_result"
    }
   ],
   "source": [
    "n=1000\n",
    "start=5\n",
    "width=15\n",
    "data_uniform=uniform.rvs(size=n, loc=start, scale=width)\n",
    "data_uniform"
   ]
  },
  {
   "cell_type": "code",
   "execution_count": 48,
   "metadata": {},
   "outputs": [
    {
     "name": "stderr",
     "output_type": "stream",
     "text": [
      "C:\\Users\\ASUS\\AppData\\Local\\Temp\\ipykernel_8312\\2017725280.py:1: UserWarning: \n",
      "\n",
      "`distplot` is a deprecated function and will be removed in seaborn v0.14.0.\n",
      "\n",
      "Please adapt your code to use either `displot` (a figure-level function with\n",
      "similar flexibility) or `histplot` (an axes-level function for histograms).\n",
      "\n",
      "For a guide to updating your code to use the new functions, please see\n",
      "https://gist.github.com/mwaskom/de44147ed2974457ad6372750bbe5751\n",
      "\n",
      "  ax = sns.distplot(data_uniform,\n"
     ]
    },
    {
     "data": {
      "text/plain": [
       "[Text(0.5, 0, 'Uniform Distribution'), Text(0, 0.5, 'Frequency')]"
      ]
     },
     "execution_count": 48,
     "metadata": {},
     "output_type": "execute_result"
    },
    {
     "data": {
      "image/png": "[encoded data removed]",
      "text/plain": [
       "<Figure size 700x700 with 1 Axes>"
      ]
     },
     "metadata": {},
     "output_type": "display_data"
    }
   ],
   "source": [
    "ax = sns.distplot(data_uniform,\n",
    "                  bins = 100,\n",
    "                  kde = True,\n",
    "                  color = 'blue',\n",
    "                  hist_kws = {\"linewidth\": 15, 'alpha':0.5}\n",
    ")\n",
    "ax.set(xlabel='Uniform Distribution', ylabel = 'Frequency')"
   ]
  },
  {
   "attachments": {},
   "cell_type": "markdown",
   "metadata": {},
   "source": [
    "##### Distribusi Normal\n"
   ]
  },
  {
   "cell_type": "code",
   "execution_count": 49,
   "metadata": {},
   "outputs": [
    {
     "data": {
      "text/plain": [
       "array([ 0.54578379,  1.0952011 ,  2.32848093, -0.09985413, -0.60516011,\n",
       "       -1.90088654, -0.0287084 , -0.61691999, -0.73323017,  0.87598481,\n",
       "       -0.70540224,  1.11444835,  1.44001048, -0.58677724, -0.77315817,\n",
       "       -1.18072083, -1.42964052, -0.05980473,  1.50692649, -0.92076323,\n",
       "        0.12357914,  0.82496317, -1.62073521, -1.39665775, -2.62598234,\n",
       "       -0.76049728,  0.54469834, -0.42056338,  0.59910838,  0.01573354,\n",
       "        0.78194903,  0.06592767,  0.00748061, -0.69205257, -0.658674  ,\n",
       "        1.33605756, -1.28672768, -0.50067707,  0.69437586,  0.73472199,\n",
       "        0.13434578,  0.76920693, -0.74740155, -2.13573537,  0.45990978,\n",
       "        0.56821534, -0.13965931,  1.00716205,  0.90780211, -0.40114925,\n",
       "       -0.36401876, -2.2930385 , -0.03427221,  1.19921428, -0.3637787 ,\n",
       "       -0.80652048,  0.50229296,  0.84464069,  0.32514973,  0.34038178,\n",
       "       -0.96359618,  0.50679351,  0.38747215, -1.66935166,  0.55625755,\n",
       "        0.95731652,  0.06567029,  0.58731033, -0.58945667,  1.20343107,\n",
       "        1.32537664, -0.0766106 ,  2.33179071,  1.41096512,  0.33543965,\n",
       "       -0.99479515,  0.11087002,  0.68299004, -1.57436494,  0.44456909,\n",
       "       -1.29667416, -0.36877546, -0.63905507, -0.30195774, -0.29395934,\n",
       "       -0.87437758,  0.53906174,  0.48068958,  0.07079053,  0.98094537,\n",
       "       -0.65500313,  0.63403423, -0.29115606,  2.15579863,  0.02710462,\n",
       "       -0.02956925, -0.79908626,  1.48770811, -0.55935679,  0.31253918,\n",
       "       -1.67154436, -1.17236891, -0.59072405, -2.48786   , -0.60257843,\n",
       "       -1.38470525,  0.43685641, -0.63905339, -0.58031534, -0.09216494,\n",
       "        0.36762993, -0.54030306, -0.22308628,  0.44717839, -0.41440682,\n",
       "        0.12653307, -2.3326393 ,  0.47907193, -1.09465134,  1.1611433 ,\n",
       "       -0.15513815,  0.61240439, -0.92110221,  0.89543093, -0.3060907 ,\n",
       "        2.26907264,  2.0893418 ,  1.01250579,  0.01942544,  0.42533798,\n",
       "        1.23462107, -1.4841855 ,  1.19944455, -0.50439743,  0.28568272,\n",
       "       -1.3049892 ,  0.66281309,  0.65405639, -1.29923841, -0.68709549,\n",
       "        1.22173745, -1.45704731,  0.03979628, -0.72227929,  0.18163034,\n",
       "       -0.58679493,  0.56275435, -0.02293106,  0.0298567 , -0.63511141,\n",
       "       -0.74338882,  1.00970036, -0.91744996, -0.74979255, -1.41038574,\n",
       "       -1.45487087, -2.14098063, -0.29232121, -1.1246785 ,  0.21118062,\n",
       "       -1.98614723,  0.31195153,  2.00114065, -1.2473502 ,  0.46220253,\n",
       "        2.29424776,  1.38490363, -0.73895862,  0.26004404,  0.61458558,\n",
       "        0.66596432, -0.78496166, -1.2964594 , -1.33590141, -0.28653217,\n",
       "        1.65752833,  0.79072618,  0.71259412,  0.9468443 ,  0.00700663,\n",
       "       -0.76725427,  0.1039599 , -0.7332879 ,  1.26383425,  0.53095485,\n",
       "       -0.22701266, -1.46757793,  1.02392427,  0.32786791,  0.89363581,\n",
       "       -1.26236361, -1.70734837,  0.41912203,  0.39506602,  1.54117939,\n",
       "        0.13095118,  1.12186609,  0.00667995, -0.67151064, -0.70582728])"
      ]
     },
     "execution_count": 49,
     "metadata": {},
     "output_type": "execute_result"
    }
   ],
   "source": [
    "normal = norm.rvs(size = 200, loc=0, scale=1)\n",
    "normal"
   ]
  },
  {
   "cell_type": "code",
   "execution_count": 50,
   "metadata": {},
   "outputs": [
    {
     "name": "stderr",
     "output_type": "stream",
     "text": [
      "C:\\Users\\ASUS\\AppData\\Local\\Temp\\ipykernel_8312\\2669100288.py:1: UserWarning: \n",
      "\n",
      "`distplot` is a deprecated function and will be removed in seaborn v0.14.0.\n",
      "\n",
      "Please adapt your code to use either `displot` (a figure-level function with\n",
      "similar flexibility) or `histplot` (an axes-level function for histograms).\n",
      "\n",
      "For a guide to updating your code to use the new functions, please see\n",
      "https://gist.github.com/mwaskom/de44147ed2974457ad6372750bbe5751\n",
      "\n",
      "  ax = sns.distplot(normal,\n"
     ]
    },
    {
     "data": {
      "text/plain": [
       "[Text(0.5, 0, 'Normal Distribution'), Text(0, 0.5, 'Frequency')]"
      ]
     },
     "execution_count": 50,
     "metadata": {},
     "output_type": "execute_result"
    },
    {
     "data": {
      "image/png": "[encoded data removed]",
      "text/plain": [
       "<Figure size 700x700 with 1 Axes>"
      ]
     },
     "metadata": {},
     "output_type": "display_data"
    }
   ],
   "source": [
    "ax = sns.distplot(normal,\n",
    "                  bins = 100,\n",
    "                  kde = True,\n",
    "                  color = 'green',\n",
    "                  hist_kws = {\"linewidth\": 20, 'alpha':0.5}\n",
    ")\n",
    "ax.set(xlabel='Normal Distribution', ylabel = 'Frequency')"
   ]
  },
  {
   "attachments": {},
   "cell_type": "markdown",
   "metadata": {},
   "source": [
    "#### Gamma Distribution"
   ]
  },
  {
   "cell_type": "code",
   "execution_count": 51,
   "metadata": {},
   "outputs": [
    {
     "data": {
      "text/plain": [
       "array([ 4.19263544,  4.04872422,  1.34907064, 11.77132475,  9.27796123,\n",
       "        4.65080075,  6.56546549,  4.00166178,  3.36445219,  1.76482975,\n",
       "        3.53809461,  4.92529326,  4.3541173 ,  9.86045117,  3.46545233,\n",
       "        4.73290276,  4.29495585,  1.56734174,  6.62637731,  5.47295144,\n",
       "        4.76265581,  7.99803122,  3.07984548,  8.33473191,  6.80866254,\n",
       "        3.77788722,  4.34101065,  5.37453753,  8.32683058,  4.31067643,\n",
       "        3.95615784,  5.46890618,  6.66787953,  6.13690058,  4.52628251,\n",
       "        1.01391707,  8.42251646,  4.8062687 ,  5.79602443, 10.01058133,\n",
       "        3.50685706,  4.30735489,  7.66275181, 12.8656554 ,  6.51018194,\n",
       "        1.17065137,  2.97514979,  7.95069187,  8.15302863,  1.7627818 ,\n",
       "        5.21476029,  4.04021778,  9.97309175,  5.54805198,  1.96654301,\n",
       "        1.11175877,  7.15404505,  1.55353471,  3.65681584,  3.82416393,\n",
       "        4.02762359,  6.76564229,  5.84779818,  5.87952669,  6.29658171,\n",
       "        2.93961665,  1.57424461,  2.38737077,  3.59865954,  5.5029426 ,\n",
       "        3.43423504,  4.78139237,  1.99791603,  4.36436622,  6.41880399,\n",
       "        3.11861204,  7.84123807,  5.1259332 ,  4.95126234,  6.47710983,\n",
       "        1.69224191,  3.90110173,  4.16131766,  8.15329588,  4.81963662,\n",
       "        3.8621124 ,  3.29546111,  1.59309814,  1.62616862,  2.01487195,\n",
       "        7.93041836,  6.22135539,  1.166017  ,  2.03213779,  3.27714412,\n",
       "        1.76290596,  6.54959445,  5.18470445,  4.49842554,  1.8898349 ,\n",
       "        8.70633969,  4.77739314,  2.47265331,  3.45202821,  5.17421537,\n",
       "        3.06724875,  3.08813825,  6.99390934,  2.24594985,  4.96012673,\n",
       "        9.95652736,  4.41596264,  7.39031771,  8.15762563,  4.11083043,\n",
       "        2.7171295 ,  7.97650225,  0.41495375,  4.94590061,  4.30118408,\n",
       "        5.68469096,  6.42200098,  3.9052194 ,  5.5509364 ,  3.56355501,\n",
       "        2.81453855,  3.8483729 ,  4.20547434, 11.01719805,  8.36030832,\n",
       "        2.91795068,  3.52664221,  2.7998197 ,  6.51120562,  5.86915196,\n",
       "        6.67203138,  3.64408921,  4.46157614,  4.46510159,  6.44687805,\n",
       "        6.34924472,  3.07742603,  6.95944774,  2.39164466,  1.64670151,\n",
       "        7.19047158,  2.66748341,  8.15187776,  5.40914025,  8.52395647,\n",
       "       12.41161292,  3.46660449,  7.99077991,  5.32447348,  4.29281209,\n",
       "        1.37206385,  7.26091926,  4.06940337,  2.93123747,  4.35461871,\n",
       "        6.80118918,  7.75030418,  5.16960993,  3.99973235,  6.63206576,\n",
       "        4.02561957,  3.57754058,  4.51612951, 10.0237433 ,  6.38277606,\n",
       "        3.59608738,  3.66651805,  4.19861544,  2.73939398,  2.16295359,\n",
       "        5.05960483,  3.95507783,  3.59425368,  5.01032874,  5.59186994,\n",
       "        4.72369988,  4.45129317,  2.57186968,  6.81854997,  4.69106924,\n",
       "        2.33233306,  7.22585389,  4.030162  , 12.52639155,  3.0931166 ,\n",
       "        3.70491885,  3.13681902,  7.41198436,  4.76331343,  5.1245627 ,\n",
       "        8.36041672,  3.25774754,  4.90215401,  6.53349285,  3.32436686,\n",
       "        4.41827728,  7.48999892,  5.27463476,  5.36747026,  4.69318907,\n",
       "        7.85465594,  1.32378887,  2.21451114,  2.93318889,  5.29030411,\n",
       "        4.98672469,  5.2858358 ,  4.66193798,  5.36623591,  2.11630751,\n",
       "        7.77292226,  3.11054415,  3.79433094,  3.73291452,  2.68480281,\n",
       "        6.03241326,  1.98800405, 11.60360991,  2.20421457,  8.91698764,\n",
       "        3.38893656,  2.8120727 ,  5.95790791,  2.59621118,  3.39772096,\n",
       "        5.3643523 ,  3.47586247,  3.27916968,  6.52364849,  3.4231607 ,\n",
       "        1.93650642,  4.49738745,  5.55134708,  4.68844418,  6.79614727,\n",
       "        6.77021302,  4.88562154,  4.06660641,  4.18757117,  7.18867724,\n",
       "        4.51850797,  8.58431177,  8.32122317,  4.78034868,  3.32446728,\n",
       "        6.64994238,  3.96837698,  4.03329658,  5.3616709 ,  5.91607038,\n",
       "        2.13332768,  5.33386588,  6.98562073,  4.36776581,  4.54151074,\n",
       "        2.58544533,  2.38797759,  3.65054364,  1.53130186,  2.60378749,\n",
       "        5.04925385,  2.12578464,  4.59227242,  7.07650194,  3.38520879,\n",
       "        7.25735525,  5.80621689,  3.42298749,  5.88133591,  2.68070797,\n",
       "        4.37880758,  7.62151984,  4.24804448,  3.53405992,  5.71899601,\n",
       "        4.36186818,  4.07282081,  3.67174902,  4.02757802,  5.30392414,\n",
       "        6.15345498,  4.04156528,  8.15478738,  7.06909242,  2.49882467,\n",
       "        9.79405011,  5.00152015,  5.05685969,  4.18088407,  6.45880978,\n",
       "        4.4520279 ,  2.5244464 ,  1.54508562,  7.24494809,  5.03839869,\n",
       "        4.43624786,  4.62466802,  3.32287445,  5.5220381 ,  2.15284859,\n",
       "        3.72086806,  6.46698826,  3.4811973 ,  4.47201142,  9.85253364,\n",
       "        3.25614208,  6.65403741,  4.85367716,  4.47467082, 12.60971019,\n",
       "        4.17156922,  6.56819357,  3.59507301,  3.97998692,  2.24098119,\n",
       "        7.0375101 ,  4.9340026 ,  2.91171372,  3.16730567,  3.24198303,\n",
       "        5.47158463,  5.33656158,  2.82282486,  4.08382918,  5.09035593,\n",
       "        1.69427837,  4.48162339,  2.66725567,  7.04789506,  6.40086635,\n",
       "        4.94305841,  5.34622496,  4.16738742,  4.37716801,  5.71157887,\n",
       "        2.93178774,  5.58395936,  2.02504547,  2.05986463,  1.50872918,\n",
       "        5.54893258,  2.9771925 ,  9.82451018,  6.75494832,  7.47186243,\n",
       "        4.78318721,  5.80114802,  5.67766602,  5.49861642,  3.88748196,\n",
       "        4.66931962,  7.4307758 ,  2.23345909,  1.26321935,  8.0018625 ,\n",
       "        4.03987018,  1.86346816,  7.09312819,  4.50143443,  4.08003476,\n",
       "        4.24986033,  4.76522443,  4.11895952,  5.71472192,  3.52262583,\n",
       "        4.56696054,  5.69210474,  7.05778004,  5.34289046,  4.79340921,\n",
       "        6.26632235,  3.64470748,  3.48258155,  3.37765143,  7.27970764,\n",
       "        4.06409335,  6.83675547,  4.67759712,  8.16578951,  5.90920651,\n",
       "        3.25611892,  4.42359634,  2.87193033,  3.94101455,  4.34865143,\n",
       "        2.72696099,  9.30550804,  4.59396886,  6.746727  ,  4.26830291,\n",
       "        6.30683613,  4.20580091,  4.99684814,  2.78964176,  5.7874674 ,\n",
       "        4.72138941,  2.88026855,  4.01331114,  6.25968014,  5.95256569,\n",
       "        5.16325069,  5.14599508,  7.43987682,  2.00486207,  5.21798123,\n",
       "       10.1109566 ,  2.29527148,  3.42557581,  3.33495561,  7.15760229,\n",
       "        7.42528901,  6.82371949,  2.94548929,  7.23251113,  3.60001804,\n",
       "        4.73818075,  5.90642165,  7.05798024,  6.69920194,  4.62802921,\n",
       "        3.59342598,  3.46052762,  5.56319565,  4.8571401 ,  4.60495154,\n",
       "        2.11711015,  5.3444518 ,  4.79297493,  4.97327367,  5.01537668,\n",
       "        8.31988422,  6.33425336,  7.82065949,  5.43882848,  7.02648658,\n",
       "        5.36864874,  4.2140505 ,  5.30278425,  3.04054893,  4.55855874,\n",
       "        4.14763912,  4.39300812,  7.70509059,  3.31104068,  4.65069951,\n",
       "        2.66889152,  2.33711917,  5.35227536,  5.26212496,  2.85031037,\n",
       "        2.04514276,  6.92215459,  2.0858898 ,  2.45462011,  3.58474371,\n",
       "        4.00915311,  5.04997221,  8.92277259,  1.69139005,  2.68241118,\n",
       "        0.95134261,  1.28991772,  2.23368128,  5.19286778,  2.25385053,\n",
       "        5.78983917,  5.43763762,  3.12251588,  3.11650416,  4.13038636,\n",
       "        6.24651088,  5.2729037 ,  3.40911904,  6.75422443,  3.86434304,\n",
       "        4.78028996,  5.39746695,  6.66970647,  6.20715107,  4.46901789,\n",
       "        4.27327236,  7.84132976,  2.1700465 , 10.87563375,  4.96329616,\n",
       "        2.25703321,  5.64417676,  6.66045924,  2.15217732,  2.75656503,\n",
       "        6.25671391,  5.92821894,  4.33619648,  2.71167544,  4.99221512,\n",
       "        6.44774872,  4.1026873 ,  7.1482591 ,  5.48887344,  1.09241734,\n",
       "        2.83757898,  2.31166577,  5.65521369,  5.2308713 , 10.38280712,\n",
       "        6.70391839,  2.76776939,  5.09879886,  4.89364764,  2.65420359,\n",
       "       12.88212616,  2.83572635,  7.47521788,  6.60800631,  3.88318118,\n",
       "        5.14885687,  6.01316113,  2.90386112,  1.98369752,  7.41922938,\n",
       "        2.14638366,  4.82347108,  6.16179887,  4.15923269,  5.05743012,\n",
       "        6.98172458,  5.51066977,  3.3665532 , 11.71744981,  4.76164798,\n",
       "        3.08703038,  7.70314659,  6.22100337,  2.83095011,  5.01496822,\n",
       "        4.10039445,  3.3157464 ,  4.32558413,  9.51499135,  6.30454993,\n",
       "        3.89297202,  5.1911365 ,  4.66561481,  3.33255   ,  3.10005552,\n",
       "        3.90463452,  4.27359523,  6.88766794,  3.12500257,  9.95856328,\n",
       "        6.05869564,  5.64085713,  2.39670474,  3.98035426,  2.11249689,\n",
       "        2.37517921,  7.12682402,  1.17938482,  6.06610583,  4.548902  ,\n",
       "        3.73954711,  4.36594486,  4.12199302,  3.64483201,  4.888384  ,\n",
       "        3.53036409,  4.53211924,  3.25220613,  3.86473079,  3.90326925,\n",
       "        7.48041519,  4.76384002,  5.11761806,  3.54871256,  3.46564906,\n",
       "        6.76080183,  4.16405076, 14.78360426,  3.29542116,  4.58939443,\n",
       "        3.85753302,  4.37942365,  9.75098785,  4.16085253,  2.96698602,\n",
       "        9.15298603,  7.94013967,  4.16499279,  8.17874108,  3.36852383,\n",
       "        3.80227947,  8.91341384,  6.98704484,  2.03193889,  2.5065143 ,\n",
       "        2.93297791,  4.76624354,  6.68588859,  4.2570918 ,  4.09306961,\n",
       "        5.03424408,  6.31975423,  4.21592218,  3.05931498,  4.01134262,\n",
       "        5.04552976,  6.391985  ,  7.08815424,  6.11638407,  2.4382181 ,\n",
       "        7.24237082,  5.33051011,  8.04712425,  5.66825518,  4.72528612,\n",
       "        2.40680117,  5.10038189,  5.05005672,  7.60130336,  3.9025828 ,\n",
       "        1.09155839,  5.2317327 ,  5.96097697,  5.52431797,  5.70550086,\n",
       "        3.54318116,  5.59480281,  3.02958407,  3.62551854,  4.46191477,\n",
       "        5.48674402,  4.19285824,  4.29653782,  5.58480148,  6.97418321,\n",
       "        4.1410462 ,  3.87998023,  1.06693764,  4.94787095,  7.46491741,\n",
       "        4.59611981,  4.59052546,  4.87437252,  8.6030336 ,  2.78296197,\n",
       "        9.15430964,  4.09311733,  2.31515632,  7.7018834 ,  4.54614476,\n",
       "        5.09881984,  3.0480328 ,  6.158326  ,  8.15581658,  4.30081256,\n",
       "        3.725947  ,  4.96458142,  3.61259249,  5.39484991,  6.5017701 ,\n",
       "        2.78500324,  8.03793431,  3.44050433,  7.86466452,  3.50154149,\n",
       "        3.54286616,  3.07471321,  6.4101144 ,  2.80148634,  5.52922247,\n",
       "        9.77684062,  4.23137385,  3.61518086,  2.06901833,  4.66803391,\n",
       "        5.64984897,  4.25758112,  8.28165769,  3.6781904 ,  3.23791978,\n",
       "        6.45974549,  2.52876922, 10.10624537,  3.36683077,  6.98981679,\n",
       "        5.97359913,  7.33785506,  4.30725796,  3.32192374,  4.00547376,\n",
       "        8.08187839,  1.68607797,  3.09728803,  4.89929409,  4.17578997,\n",
       "        2.23472355,  2.88312049,  4.30896976,  1.56399854,  2.74849997,\n",
       "        4.81200228,  5.99715222,  5.50274956,  4.50739894,  3.85927042,\n",
       "        5.49483142,  4.76143478,  2.92784844,  1.3328347 ,  3.10353685,\n",
       "        4.36350009,  8.59190222,  5.39322507,  3.83649042,  3.97667347,\n",
       "        2.14375763,  5.77421756,  3.20993824,  5.05440755,  2.15787398,\n",
       "        3.94037346,  6.98661297,  2.23127926,  4.88485816,  5.92852145,\n",
       "        5.1419262 ,  3.10169001,  3.09170605,  4.59351399,  3.54045594,\n",
       "        6.08133191,  4.49558711,  2.59045188,  3.31268548,  2.94459725,\n",
       "        9.89623814,  3.7830839 ,  5.57549152,  4.37029816, 10.46906257,\n",
       "        4.28589947,  5.27869578,  2.41284929,  3.89307065,  4.88862128,\n",
       "        6.28459408,  3.25988393,  5.54913443,  5.31786525,  9.5664982 ,\n",
       "        3.35595848,  4.0723417 ,  4.76051887,  2.91604301,  3.46803554,\n",
       "        2.44599717,  5.33081584,  4.71320697,  4.49840102,  5.19377983,\n",
       "        3.19348987,  3.61076062,  6.92243119, 12.92576795,  3.43223715,\n",
       "        6.62145584,  1.97913522,  5.15853264,  2.34035671,  5.0003125 ,\n",
       "        1.39167195,  4.67396553,  2.71847429,  4.41575248,  2.56351452,\n",
       "        1.99321297, 10.84147151,  4.62255809,  4.24683234,  2.79063427,\n",
       "       10.56076737,  3.52553455,  6.30458688,  7.71994509,  2.52852667,\n",
       "        2.8245635 ,  5.38557926,  3.9045498 ,  4.4074511 ,  5.38181812,\n",
       "        2.55130392,  8.6096178 ,  5.50154   ,  4.08424139,  5.91095137,\n",
       "        4.8935208 ,  7.63072164,  6.7876922 ,  4.3170921 ,  3.42379696,\n",
       "        4.72152822,  4.90648491,  4.22491299,  5.46335489,  5.15417992,\n",
       "        6.11416504, 11.78300118,  6.25409589,  1.83610833,  8.47695075,\n",
       "        3.47791687,  3.35626212,  2.83365659,  3.51923373,  2.11502659,\n",
       "        7.60972463,  4.68753584,  2.38633354,  6.65304712,  4.42400462,\n",
       "        7.54441124,  3.67206505,  6.81595408,  4.17283691,  2.80338783,\n",
       "        8.07544202,  5.90470037,  7.58566629,  4.56946392,  4.65654158,\n",
       "        7.41641066,  3.0249287 ,  2.8703741 ,  2.51778577,  4.51600046,\n",
       "        3.95227522,  5.83376497,  3.8417728 ,  1.74871704,  4.87650126,\n",
       "        2.48060806,  6.23765778,  4.99716045,  4.11087817,  4.04760718,\n",
       "        1.4649181 ,  5.57955289,  4.0555074 ,  5.38417409,  5.10366958,\n",
       "        4.82637226,  3.43000896,  5.9627873 ,  1.90851378,  2.44020901,\n",
       "        3.12827742,  5.52491023,  5.19550254,  6.33003673,  6.18906961,\n",
       "        7.58031078,  1.9840224 ,  6.56514999,  3.88143905,  2.50875731,\n",
       "        3.1061214 ,  8.49299506,  2.45459375,  2.06322215,  8.30301169,\n",
       "        4.59705074,  2.84595239,  4.34391011,  1.26445585,  4.83625766,\n",
       "        4.60606668,  8.57492436,  4.44878753,  6.20431509,  9.13396889,\n",
       "        5.31570622,  5.27329098,  6.20024916,  4.31177649,  3.59894794,\n",
       "        3.60298259,  3.64122264,  8.96778937,  4.66714889,  2.13155754,\n",
       "        4.12210389,  1.98264402, 12.46222566,  6.99656687,  3.13736212,\n",
       "        6.72852537,  4.64359508,  3.84361183,  4.15768621,  9.03268167,\n",
       "        2.43510091,  1.78643555,  3.30701378,  3.04445557,  4.20228133,\n",
       "        2.3566478 ,  3.10018045,  4.41563482,  5.3387946 ,  4.51333313,\n",
       "        3.43250741,  1.30958265,  4.3047006 ,  5.43346809, 10.14457078,\n",
       "        4.24945721,  7.7867495 ,  7.85595315,  4.85911582,  6.03006514,\n",
       "        3.13628365,  6.4986311 ,  4.2606049 ,  9.93037898,  5.73290726,\n",
       "        5.33449331,  3.27898672,  4.0975508 ,  5.36616901,  4.2429111 ,\n",
       "        5.54091738,  3.68683688,  2.88011194,  2.87364943,  3.52112838,\n",
       "        7.04789891,  5.36826576,  3.53295406,  4.71301412,  5.93927246,\n",
       "        3.01748436,  4.54628047,  5.37032076,  7.03190204,  6.28944157,\n",
       "        3.98793063,  2.5282509 ,  7.15064255,  2.93475364,  4.09507283,\n",
       "        2.34956559,  6.53495288,  6.00090576,  7.9920951 ,  3.40157282,\n",
       "        5.02824217,  4.71445844,  2.92683493,  4.88449913,  5.26729449,\n",
       "        8.29397158,  8.05248396,  3.66351924,  7.11857894, 10.39209113,\n",
       "        5.04525859,  1.5893573 ,  3.39853691,  4.22311833,  9.00171709,\n",
       "        5.73182778,  3.72554331,  6.23208343,  4.61822998,  4.0960967 ,\n",
       "        3.42337459,  6.82615766,  4.25347328,  3.63550136,  1.71595918,\n",
       "        3.4907846 ,  2.8435705 ,  2.94204663,  3.25418072,  8.62381233,\n",
       "        4.63998906,  3.70020848,  5.82005181,  3.01331823,  6.95786494,\n",
       "        5.082753  ,  6.30275686,  2.64526392,  4.39510913,  3.5119222 ])"
      ]
     },
     "execution_count": 51,
     "metadata": {},
     "output_type": "execute_result"
    }
   ],
   "source": [
    "data_gamma=gamma.rvs(a=5,size=1000)\n",
    "data_gamma"
   ]
  },
  {
   "cell_type": "code",
   "execution_count": 52,
   "metadata": {},
   "outputs": [
    {
     "name": "stderr",
     "output_type": "stream",
     "text": [
      "C:\\Users\\ASUS\\AppData\\Local\\Temp\\ipykernel_8312\\838200891.py:1: UserWarning: \n",
      "\n",
      "`distplot` is a deprecated function and will be removed in seaborn v0.14.0.\n",
      "\n",
      "Please adapt your code to use either `displot` (a figure-level function with\n",
      "similar flexibility) or `histplot` (an axes-level function for histograms).\n",
      "\n",
      "For a guide to updating your code to use the new functions, please see\n",
      "https://gist.github.com/mwaskom/de44147ed2974457ad6372750bbe5751\n",
      "\n",
      "  ax = sns.distplot(data_gamma,\n"
     ]
    },
    {
     "data": {
      "text/plain": [
       "[Text(0.5, 0, 'Gamma Distribution'), Text(0, 0.5, 'Frequency')]"
      ]
     },
     "execution_count": 52,
     "metadata": {},
     "output_type": "execute_result"
    },
    {
     "data": {
      "image/png": "[encoded data removed]",
      "text/plain": [
       "<Figure size 700x700 with 1 Axes>"
      ]
     },
     "metadata": {},
     "output_type": "display_data"
    }
   ],
   "source": [
    "ax = sns.distplot(data_gamma,\n",
    "                  bins = 100,\n",
    "                  kde = True,\n",
    "                  color = 'red',\n",
    "                  hist_kws = {\"linewidth\": 20, 'alpha':0.5}\n",
    ")\n",
    "ax.set(xlabel='Gamma Distribution', ylabel = 'Frequency')"
   ]
  },
  {
   "attachments": {},
   "cell_type": "markdown",
   "metadata": {},
   "source": [
    "#### Exponential Distribution"
   ]
  },
  {
   "cell_type": "code",
   "execution_count": 53,
   "metadata": {},
   "outputs": [
    {
     "data": {
      "text/plain": [
       "array([2.81810291e-01, 1.04206660e-01, 1.66367814e-01, 2.97830827e-01,\n",
       "       2.16093865e-03, 5.58824470e-01, 5.74222981e-01, 1.91999048e-02,\n",
       "       2.43133119e+00, 1.55259521e+00, 1.39074901e+00, 4.89545249e-01,\n",
       "       2.30784723e+00, 2.45649180e-01, 1.60177178e-01, 2.03434411e+00,\n",
       "       1.43357363e+00, 2.26667917e+00, 3.98834794e-02, 1.05386446e-02,\n",
       "       1.20375320e+00, 7.69694386e-01, 1.52864274e+00, 4.11006344e-02,\n",
       "       5.89167895e-01, 6.67871935e-02, 8.22979774e-01, 3.98703764e-01,\n",
       "       2.27445182e-02, 5.18547733e-01, 2.49915047e+00, 1.27821039e+00,\n",
       "       2.98528082e+00, 1.27857062e+00, 1.18714528e+00, 2.48301642e-01,\n",
       "       6.02262026e-01, 1.32492016e-01, 5.09507114e-01, 1.25839093e-01,\n",
       "       3.27905087e+00, 1.17238889e+00, 2.01457383e-01, 5.74417445e-01,\n",
       "       8.16634151e-01, 4.34110895e-01, 3.17548978e+00, 1.18553171e+00,\n",
       "       8.66988984e-01, 1.89518046e+00, 1.10102246e-01, 4.89013250e-01,\n",
       "       6.18468583e-01, 8.83801572e-01, 2.28701374e-01, 1.93443330e+00,\n",
       "       4.55012169e-01, 2.53177802e-01, 6.78025972e-01, 2.63120849e+00,\n",
       "       3.55888005e-01, 2.83651748e-01, 2.01577218e+00, 2.07914935e+00,\n",
       "       3.69635553e+00, 2.71727647e-01, 1.54225718e+00, 1.86578053e-02,\n",
       "       3.75590399e-01, 3.31543167e-01, 7.08341365e-01, 1.82110295e+00,\n",
       "       3.00445164e+00, 1.76459600e+00, 2.32533705e+00, 1.22714347e+00,\n",
       "       1.06566130e-01, 6.47993674e-01, 9.28825504e-01, 1.63556191e-01,\n",
       "       3.81042560e-01, 1.31381473e+00, 3.31433963e+00, 1.38597847e-01,\n",
       "       1.63946763e+00, 5.66201792e-01, 2.67921334e+00, 2.06753626e+00,\n",
       "       1.67387474e+00, 2.98230837e+00, 3.06624341e+00, 2.18678799e+00,\n",
       "       1.06414054e+00, 2.75492750e-02, 5.81997496e-01, 7.30931116e-02,\n",
       "       3.77290735e-01, 5.20470446e-01, 3.17364591e-01, 9.83738954e-01,\n",
       "       2.51857265e+00, 1.39111715e+00, 8.74607109e-01, 5.42613759e+00,\n",
       "       1.13841033e+00, 2.45240436e+00, 1.30764212e+00, 2.18927184e-01,\n",
       "       5.78122664e-01, 2.01221898e+00, 4.54071914e-01, 1.12088839e+00,\n",
       "       9.21032065e-01, 5.47622843e-01, 3.78324052e-01, 3.20788428e+00,\n",
       "       3.15702954e-01, 8.60315476e-01, 5.11086738e-01, 2.15089100e+00,\n",
       "       3.49942350e+00, 1.97104635e-01, 1.52070034e+00, 3.20550254e-01,\n",
       "       1.33595806e-02, 4.49593042e+00, 9.13240777e-02, 1.08805598e+00,\n",
       "       7.64714954e-01, 4.98523247e-01, 2.56014062e-01, 2.26840036e+00,\n",
       "       5.31985692e-01, 2.06126489e-03, 1.09034067e+00, 1.27679676e+00,\n",
       "       7.99669647e-01, 1.79042616e-01, 4.90066879e-01, 1.81080691e-01,\n",
       "       2.39555776e-01, 1.24374851e-01, 1.30133689e-01, 1.69772470e+00,\n",
       "       1.00072566e-01, 7.93422695e-01, 2.90867143e-01, 1.21947728e+00,\n",
       "       1.82083664e+00, 2.90963509e-01, 5.20961311e-01, 4.64546254e-01,\n",
       "       2.00356646e+00, 8.15012883e-01, 3.71166743e+00, 1.58722545e-01,\n",
       "       1.71163815e+00, 8.06797310e-01, 1.46430001e+00, 5.55752251e-01,\n",
       "       3.14839680e+00, 4.70940148e-02, 1.90276290e-01, 1.01777503e+00,\n",
       "       4.48873057e-01, 1.17220397e+00, 5.90328643e-01, 6.35897696e-01,\n",
       "       3.52757052e-01, 4.77696953e-01, 1.15708783e+00, 1.32421018e-01,\n",
       "       9.45572382e-01, 7.02863278e-02, 1.18965172e+00, 2.50568807e+00,\n",
       "       1.83036432e+00, 1.29229559e-01, 2.80274516e+00, 2.05713067e+00,\n",
       "       1.07131721e-01, 2.16917407e-01, 7.16594777e-01, 1.31873980e+00,\n",
       "       8.16049467e-01, 1.24565509e+00, 8.95199562e-01, 6.93678401e-01,\n",
       "       1.53099219e-01, 1.37622980e-01, 2.52339403e+00, 1.77138101e-01,\n",
       "       6.90515048e-01, 8.90265696e-01, 1.30344805e-01, 3.22750926e-01,\n",
       "       1.59197736e-01, 1.53656048e+00, 7.26137333e-01, 6.10853127e-02,\n",
       "       4.92971794e-01, 8.08525464e-01, 1.52719545e+00, 1.92123450e+00,\n",
       "       1.05535779e+00, 1.85632001e+00, 3.47189631e+00, 4.76508419e-01,\n",
       "       2.74126688e+00, 2.38010003e+00, 2.01365695e+00, 1.05767741e+00,\n",
       "       1.34361881e-01, 4.64190499e-01, 8.05070718e-01, 3.63908275e+00,\n",
       "       5.11038521e-01, 2.71040716e-01, 2.80153555e-01, 1.23631682e+00,\n",
       "       9.41438593e-01, 1.06071852e+00, 1.85580375e+00, 3.71591230e-01,\n",
       "       6.86583236e-01, 8.83746074e-02, 1.17881855e-01, 1.00601222e-01,\n",
       "       2.22042625e+00, 2.10037464e-01, 9.69758052e-01, 2.55501757e+00,\n",
       "       1.47405488e+00, 2.37386204e+00, 8.85949493e-01, 5.53145830e-01,\n",
       "       6.95321328e-02, 1.48445979e-02, 2.45073208e+00, 2.09800260e-01,\n",
       "       5.36401467e-01, 9.34578386e-02, 1.28581503e+00, 7.29149193e-02,\n",
       "       2.65110419e+00, 1.46414480e+00, 1.80370503e-01, 4.96706220e-01,\n",
       "       4.02311266e-01, 2.22451683e+00, 1.86071592e+00, 1.04000447e+00,\n",
       "       9.64582881e-02, 2.43838629e+00, 2.43160031e-01, 5.59432322e-03,\n",
       "       3.40687620e+00, 6.40555679e-01, 3.83044319e+00, 3.75452291e+00,\n",
       "       1.49656035e+00, 3.60903069e-01, 1.91513824e-01, 1.79443762e+00,\n",
       "       4.64407033e-01, 1.67334858e+00, 1.41732470e+00, 1.66953182e-01,\n",
       "       6.25940579e-01, 1.90849680e-01, 4.13223216e+00, 5.88471300e-01,\n",
       "       5.21424728e-01, 4.44152973e-01, 2.58406592e-01, 1.35484657e+00,\n",
       "       8.72826226e-01, 1.21538398e+00, 1.46412844e+00, 7.01265249e-01,\n",
       "       1.08892474e+00, 7.09517285e-01, 3.09439262e-01, 5.21601269e-01,\n",
       "       1.30619529e+00, 5.74291000e-01, 2.11652439e+00, 4.11331415e-01,\n",
       "       5.48909549e-01, 1.02698591e+00, 3.14612801e-01, 1.02460922e+00,\n",
       "       8.29862800e-01, 1.11586469e-01, 2.17359147e-01, 8.82907436e-01,\n",
       "       2.24557482e+00, 4.12010939e-01, 8.52940201e-01, 1.15264403e+00,\n",
       "       9.64822358e-01, 2.04528949e+00, 2.75005222e-01, 6.08380666e-01,\n",
       "       1.42887908e+00, 1.12312349e+00, 1.42503280e+00, 2.55575481e+00,\n",
       "       9.36280970e-02, 1.86201686e+00, 5.39614058e-02, 1.56771936e+00,\n",
       "       6.91848985e-01, 7.48516252e-01, 2.28217554e+00, 2.00732695e+00,\n",
       "       4.13526662e-01, 8.68620470e-01, 1.47760371e+00, 2.60179111e+00,\n",
       "       4.88044263e-01, 4.47452815e-01, 1.17869870e+00, 2.69410723e+00,\n",
       "       3.15068981e-01, 6.53174127e-01, 7.79799485e-02, 1.60382134e+00,\n",
       "       1.47339648e+00, 1.22633799e-02, 1.34212613e+00, 1.34785876e+00,\n",
       "       1.19824821e+00, 1.44233282e+00, 3.49945240e-01, 6.93100304e-01,\n",
       "       2.05285422e+00, 1.55769800e+00, 1.47539636e-01, 4.13839956e-01,\n",
       "       1.89807151e-01, 4.17221948e-01, 6.84666637e-01, 9.96565048e-01,\n",
       "       2.13507060e-01, 6.34746914e-01, 2.85341907e-01, 5.67336984e-02,\n",
       "       2.21450212e+00, 2.66526611e-01, 1.93278629e+00, 2.66292602e+00,\n",
       "       1.08514337e+00, 7.48418497e-01, 3.97593396e-01, 4.13247444e-01,\n",
       "       8.56759226e-01, 4.04411060e-02, 1.43384181e-01, 7.53379649e-01,\n",
       "       5.53718578e-01, 1.68565036e+00, 2.20477625e+00, 1.00263342e-01,\n",
       "       1.79254449e+00, 3.78278861e-01, 1.03509236e+00, 2.70314073e-01,\n",
       "       3.14438206e+00, 1.52456980e+00, 1.47607810e-01, 3.24447704e+00,\n",
       "       1.54574934e+00, 4.71587771e-02, 3.06286673e-02, 3.87546504e+00,\n",
       "       1.76701670e+00, 3.05249216e+00, 1.80307394e-01, 1.42331001e+00,\n",
       "       8.00683868e-01, 4.26668182e-02, 4.76791241e+00, 5.75541517e-01,\n",
       "       3.18336636e-01, 2.89585467e-01, 3.13674341e+00, 7.08816927e-01,\n",
       "       4.59952930e-01, 2.17500685e+00, 1.44400764e+00, 2.38561465e-01,\n",
       "       2.10745472e-01, 3.98157286e-01, 1.46967394e-01, 2.55956085e-01,\n",
       "       2.89915575e-01, 1.19635376e+00, 9.80999088e-01, 1.09394324e+00,\n",
       "       1.36766894e+00, 5.78654683e-01, 5.73181261e-01, 1.94520805e-01,\n",
       "       3.06743209e-01, 1.16781646e+00, 1.60575778e-01, 1.02421214e+00,\n",
       "       6.87732084e-01, 1.96117034e+00, 4.53840308e-01, 1.08715715e+00,\n",
       "       1.96423854e-01, 9.29630489e-01, 2.20599617e+00, 5.87288734e-01,\n",
       "       4.17056104e-01, 1.74436389e-01, 3.82231166e-01, 1.06636918e+00,\n",
       "       1.05234638e-01, 7.69146916e-01, 9.10663583e-02, 3.57032903e+00,\n",
       "       1.85099093e+00, 1.09662777e+00, 1.50205552e+00, 1.14728454e-01,\n",
       "       8.67111642e-01, 2.94773555e-01, 1.66794796e-01, 2.04916148e+00,\n",
       "       2.25155400e+00, 9.60445668e-01, 3.34282843e+00, 1.39288477e-02,\n",
       "       6.84095823e-02, 1.21636485e+00, 8.09069548e-01, 1.55915814e+00,\n",
       "       2.54510626e-01, 1.54523374e-01, 5.31454351e-01, 8.11329206e-02,\n",
       "       2.81420217e-01, 5.63501424e-01, 1.70193152e-01, 5.27317177e-01,\n",
       "       2.43127840e+00, 7.18634403e-02, 1.66645144e+00, 3.31438364e+00,\n",
       "       2.31864952e-01, 2.22733572e-01, 1.88815160e+00, 5.14723568e-01,\n",
       "       1.36155039e-02, 2.16534265e-01, 1.68245232e+00, 8.29955977e-01,\n",
       "       1.58401214e+00, 7.28790150e-01, 3.38517518e-01, 3.19475051e+00,\n",
       "       1.44933875e+00, 3.02803760e-02, 5.08132389e+00, 2.49940810e+00,\n",
       "       3.01664346e-01, 3.10880646e-01, 3.07068667e+00, 5.63346887e-01,\n",
       "       3.88137280e-01, 2.79698367e-01, 2.43150973e-01, 1.67857755e-01,\n",
       "       2.76781697e+00, 9.44802222e-01, 7.89042242e-01, 2.13035360e-01,\n",
       "       7.12457755e-01, 1.52506593e+00, 6.16622637e-02, 1.45219713e-01,\n",
       "       1.45535949e-01, 4.78977435e-01, 1.56034869e+00, 6.92855436e-01,\n",
       "       1.20331359e+00, 5.37272976e-02, 3.03930036e+00, 2.96846512e-01,\n",
       "       1.81043310e+00, 1.36555930e+00, 3.03748408e-01, 4.95134199e-01,\n",
       "       1.17982243e+00, 1.79573757e+00, 5.98085269e-01, 1.29401017e+00,\n",
       "       1.08339856e+00, 2.91933309e+00, 2.22516547e+00, 2.46042125e+00,\n",
       "       5.05252610e-01, 2.44084335e+00, 2.54444725e+00, 5.66116585e-01,\n",
       "       6.57005971e-02, 1.77179208e+00, 1.32906470e+00, 5.63775085e-01,\n",
       "       5.80974583e-01, 2.30546473e-01, 1.03087917e-01, 2.38111252e-01,\n",
       "       1.63292587e+00, 2.12918201e+00, 1.15567543e-02, 9.81434834e-01,\n",
       "       1.49700335e+00, 1.19776984e+00, 3.14231418e-02, 9.52020445e-01,\n",
       "       3.28514077e+00, 2.35861572e+00, 5.76055172e-01, 3.76534167e-01,\n",
       "       1.28027106e-01, 7.29077712e-01, 2.54738759e-01, 3.49110517e+00,\n",
       "       1.89606046e-02, 2.01681038e+00, 4.55498824e-01, 5.86537238e-02,\n",
       "       5.70244434e-01, 3.19411745e+00, 8.45782906e-01, 7.13414355e-01,\n",
       "       4.35126491e-01, 1.96906977e-02, 9.13070102e-02, 7.24423361e-02,\n",
       "       3.14319772e+00, 1.92222368e+00, 2.54391564e-01, 2.15992967e-01,\n",
       "       5.35362621e-01, 1.78886698e+00, 6.19063380e-01, 3.10615738e-01,\n",
       "       1.96155655e+00, 1.53992782e-01, 2.74823155e-01, 6.99053481e-01,\n",
       "       7.57953951e-02, 7.27277552e-01, 2.75140713e-02, 3.51008635e+00,\n",
       "       8.63962697e-01, 2.97755884e+00, 1.67386863e+00, 8.01330381e-01,\n",
       "       2.58315788e+00, 1.15555674e+00, 2.87182406e-01, 1.06291161e+00,\n",
       "       3.85221927e+00, 7.71104109e-01, 7.62199595e-01, 1.86083089e+00,\n",
       "       1.70299988e-01, 1.72155850e+00, 1.95350873e+00, 8.79288785e-02,\n",
       "       1.89190587e+00, 3.78370998e-01, 2.72067004e+00, 3.32985657e-02,\n",
       "       1.11612828e+00, 6.80280567e-01, 6.13033458e-01, 8.17971056e-01,\n",
       "       2.89314285e-01, 1.71196797e+00, 7.91759672e-01, 2.63585180e-01,\n",
       "       1.03455430e-01, 2.13590910e+00, 3.67142755e+00, 1.73520442e+00,\n",
       "       3.63554847e+00, 4.52143825e-01, 7.72828601e-01, 6.66759884e-01,\n",
       "       4.03686281e-01, 1.65510818e-01, 7.23534149e-01, 3.56818948e-01,\n",
       "       4.56235428e-02, 1.93997945e+00, 8.64417524e-01, 6.14773970e-01,\n",
       "       3.78605875e-02, 1.56270268e+00, 1.93316904e-01, 1.70170151e+00,\n",
       "       2.31430985e+00, 1.18170096e+00, 6.71090935e-01, 9.83775836e-01,\n",
       "       6.05602523e-01, 2.38742085e+00, 2.33590895e+00, 8.41579662e-01,\n",
       "       2.31717916e-02, 7.26214055e-01, 3.56797520e-01, 6.64357318e-01,\n",
       "       6.59628864e-01, 1.70005302e+00, 1.31012080e+00, 1.16744147e+00,\n",
       "       1.90260533e+00, 3.93723802e-01, 6.14816382e-01, 6.95634310e-01,\n",
       "       2.42348666e+00, 9.43711235e-01, 3.25879193e-01, 1.81084365e-01,\n",
       "       8.97304748e-02, 2.27991248e+00, 1.52211170e-01, 9.43758717e-01,\n",
       "       8.38476155e-01, 5.27515200e-01, 3.92130019e+00, 4.09823736e-01,\n",
       "       1.11342468e+00, 1.65805926e+00, 1.00167703e+00, 1.37426894e-01,\n",
       "       9.16374297e-01, 7.15796807e-01, 2.43070777e-01, 1.46132056e-02,\n",
       "       7.83941924e-01, 6.14754590e-01, 9.62955923e-01, 2.01005508e+00,\n",
       "       7.65059635e-01, 1.06364595e+00, 6.91291324e-01, 6.56809193e-02,\n",
       "       1.35891471e+00, 1.76714038e+00, 1.42707882e+00, 3.49978819e+00,\n",
       "       2.21396607e-02, 2.78179887e+00, 2.08841562e+00, 6.33664713e+00,\n",
       "       1.40575467e+00, 3.68220423e-01, 3.48702310e-01, 1.25097651e+00,\n",
       "       2.48701438e-01, 4.99484227e-01, 3.41723283e-02, 7.79265575e-01,\n",
       "       2.06471928e+00, 3.60940552e+00, 1.36690493e+00, 6.07894594e-01,\n",
       "       7.39297894e-01, 3.59842701e-01, 3.53254446e-01, 2.41157483e-01,\n",
       "       1.60915308e-01, 5.62362832e-01, 1.89393108e+00, 4.46389955e-02,\n",
       "       7.19451571e-02, 1.23806533e-04, 9.20757397e-01, 1.75478782e+00,\n",
       "       7.30172264e-01, 4.29539841e+00, 2.53693424e+00, 4.85018140e-01,\n",
       "       2.13830125e-01, 8.13856007e-01, 9.47159313e-02, 1.89297415e-01,\n",
       "       1.94390381e-01, 1.12110148e+00, 4.85986585e-01, 8.45214185e-02,\n",
       "       9.64050589e-01, 7.08393924e-01, 5.46319545e-01, 5.94090619e-02,\n",
       "       1.29141835e+00, 1.82773361e+00, 5.70614527e-01, 3.07026720e+00,\n",
       "       2.91905309e+00, 3.07033960e-01, 1.52526490e+00, 3.02942421e-01,\n",
       "       6.97634989e-01, 1.88082462e-01, 1.18647787e+00, 3.27195816e-01,\n",
       "       3.28880803e-01, 1.08875436e+00, 1.62220389e+00, 2.59062318e+00,\n",
       "       4.94309919e-02, 1.33236364e+00, 4.98898389e-01, 8.76265973e-01,\n",
       "       4.76346934e-01, 3.37186547e+00, 2.11060964e+00, 3.69035681e-01,\n",
       "       1.30335652e-01, 1.04189564e+00, 1.02599521e-01, 2.26360713e-01,\n",
       "       5.68114792e-01, 7.34975347e-03, 6.11060558e-01, 6.90809853e-03,\n",
       "       8.98686957e-01, 1.71131968e+00, 1.42352800e+00, 8.48901623e-03,\n",
       "       8.01768210e-01, 2.05526346e-01, 3.23692513e-01, 3.30438682e-01,\n",
       "       1.71290050e+00, 6.78070684e-01, 4.87415823e-01, 6.03348923e-01,\n",
       "       2.30852973e-01, 6.92078353e-01, 1.61873191e+00, 6.12944915e-02,\n",
       "       1.61698840e+00, 7.61581438e-01, 7.68466799e-02, 1.77256825e+00,\n",
       "       3.32089041e-01, 2.88970820e-01, 1.61900335e-02, 2.03991349e-01,\n",
       "       1.04402520e+00, 6.33223621e-01, 2.77413250e-01, 1.63060778e+00,\n",
       "       8.99967459e-01, 1.20443061e+00, 6.75589493e-02, 4.18458320e-01,\n",
       "       2.56446668e-02, 1.24770029e+00, 2.42180374e+00, 1.08413953e+00,\n",
       "       2.13539605e+00, 3.55488910e-01, 2.04875263e+00, 6.37682493e-01,\n",
       "       8.19089120e-01, 6.96654558e-01, 7.93304059e-02, 3.34992088e-01,\n",
       "       1.46050910e-01, 5.10661537e-01, 4.34122903e-01, 4.06877246e-01,\n",
       "       1.34364759e+00, 3.10114277e-01, 4.90318544e-01, 9.31433833e-01,\n",
       "       6.43411480e-01, 6.97845063e-01, 1.32477515e-01, 2.75937714e+00,\n",
       "       3.46658168e-02, 2.28281555e+00, 1.74408011e+00, 1.01564076e+00,\n",
       "       6.33179130e-01, 1.26711347e-01, 2.58582511e+00, 1.32492301e+00,\n",
       "       2.75788846e+00, 1.25391500e+00, 5.07812095e-01, 1.06762093e+00,\n",
       "       4.30994012e-01, 5.47400862e-01, 7.74040271e-01, 1.47380390e-01,\n",
       "       1.51746994e+00, 5.33870090e-01, 1.99767002e+00, 9.29874898e-01,\n",
       "       9.27874675e-01, 4.86577816e-01, 1.01922231e+00, 2.42803257e-01,\n",
       "       1.29973737e-01, 4.73306122e-01, 3.67121722e-01, 1.07840525e-01,\n",
       "       1.31275361e+00, 1.02169781e+00, 5.05299712e-01, 1.07657688e+00,\n",
       "       1.63214803e+00, 3.26458833e+00, 3.80555312e-01, 4.94041930e-01,\n",
       "       3.43006829e-01, 9.21558862e-03, 7.23928524e-01, 4.85924385e-01,\n",
       "       9.12019554e-01, 1.13798439e+00, 1.52168494e+00, 3.90515438e-01,\n",
       "       5.98720648e-01, 1.94140876e-01, 4.05441641e-01, 2.70356254e-01,\n",
       "       4.76180332e-03, 3.45425682e+00, 1.47374453e-01, 1.03830480e+00,\n",
       "       9.68323216e-01, 7.24682461e-02, 1.65134095e-01, 3.64060485e-01,\n",
       "       8.29101538e-02, 1.60604351e-01, 5.27232548e-02, 3.38422784e-01,\n",
       "       1.93747033e+00, 4.38129689e+00, 6.56022168e-02, 1.90297963e+00,\n",
       "       2.27509695e-01, 4.70211732e+00, 5.37946198e+00, 1.36777664e+00,\n",
       "       3.02021629e-01, 2.19938389e+00, 1.63614021e+00, 3.01590143e-01,\n",
       "       4.98072191e-01, 4.88425942e+00, 5.61606106e-01, 1.06671578e+00,\n",
       "       1.66033966e+00, 1.67707533e+00, 2.37685580e+00, 6.00392149e-01,\n",
       "       7.80828158e-01, 1.04887601e+00, 7.13153798e-01, 3.23579380e-01,\n",
       "       3.58527639e-01, 1.57700908e+00, 7.25039090e-02, 7.95782439e-01,\n",
       "       2.43941204e+00, 1.25695025e+00, 1.19781089e+00, 9.30919145e-01,\n",
       "       1.98040846e-01, 4.32694528e-01, 4.97666841e-01, 1.10936428e-01,\n",
       "       2.77715692e-01, 1.02802775e+00, 1.61042774e+00, 2.16079311e+00,\n",
       "       1.34624748e+00, 4.38518554e+00, 8.24395659e-01, 2.71932324e-02,\n",
       "       1.99224089e+00, 2.56876177e+00, 2.86244901e-01, 2.05902201e-01,\n",
       "       3.34560050e+00, 4.10280907e-01, 1.87248698e+00, 1.88806062e+00,\n",
       "       6.11123848e-01, 1.45888978e-02, 3.59091459e-01, 8.45670531e-01,\n",
       "       3.22482825e-01, 9.89491539e-01, 7.79967913e-01, 3.62924119e-01,\n",
       "       8.43396730e-01, 5.37890324e-01, 9.22030986e-02, 1.33686729e-01,\n",
       "       7.45875112e-01, 9.21644865e-01, 1.02900536e+00, 2.14647100e-01,\n",
       "       1.61851082e+00, 6.46003440e-01, 8.46003600e-01, 8.46132514e-01,\n",
       "       8.46267322e-01, 6.71432977e-02, 1.48845849e-01, 6.17918638e-01,\n",
       "       6.37459353e-02, 4.12278009e-01, 2.60612811e-01, 1.04234803e+00,\n",
       "       3.46273333e-01, 1.78422822e-01, 1.38269135e+00, 4.45559378e-01,\n",
       "       5.62938124e-01, 6.24485118e-02, 1.13652351e+00, 4.16983660e+00,\n",
       "       1.62970234e-01, 2.90029538e-01, 3.30695378e-01, 2.35871814e-01,\n",
       "       4.62126944e-01, 1.43803417e+00, 1.30014194e+00, 8.35064559e-01,\n",
       "       6.49657411e-01, 2.20500903e+00, 2.04564612e-01, 3.83333546e+00,\n",
       "       1.03532965e+00, 8.71678181e-01, 1.99197592e-01, 4.64519200e-01,\n",
       "       2.21477877e+00, 8.90111578e-02, 4.66411516e+00, 7.70947269e-01,\n",
       "       1.39153531e+00, 2.46889381e-01, 1.80254051e+00, 1.57490079e+00,\n",
       "       5.32686177e-01, 3.20592071e+00, 2.53296279e+00, 2.70012763e-01,\n",
       "       7.35561488e-02, 4.60245386e-01, 9.76195256e-01, 5.96481786e-02,\n",
       "       1.25823414e+00, 2.65843603e+00, 2.29564417e-01, 1.92239779e+00,\n",
       "       1.50039223e+00, 3.47574743e-01, 9.48250487e-01, 8.55569945e-02,\n",
       "       6.52227053e-02, 4.60935189e-01, 2.01596913e-01, 1.38363022e-01,\n",
       "       3.15819593e-01, 4.56435472e+00, 6.51593991e-01, 1.01959154e+00,\n",
       "       8.07458122e-01, 7.73023871e-01, 2.52115238e-01, 4.06961196e-01,\n",
       "       6.21310215e-01, 1.80286860e+00, 2.81409409e-01, 1.44042703e+00,\n",
       "       4.53224302e-01, 1.19941117e+00, 2.13317808e-01, 5.39960997e-01])"
      ]
     },
     "execution_count": 53,
     "metadata": {},
     "output_type": "execute_result"
    }
   ],
   "source": [
    "data_expo=expon.rvs(scale=1,loc=0,size=1000)\n",
    "data_expo"
   ]
  },
  {
   "cell_type": "code",
   "execution_count": 54,
   "metadata": {},
   "outputs": [
    {
     "name": "stderr",
     "output_type": "stream",
     "text": [
      "C:\\Users\\ASUS\\AppData\\Local\\Temp\\ipykernel_8312\\2344079716.py:1: UserWarning: \n",
      "\n",
      "`distplot` is a deprecated function and will be removed in seaborn v0.14.0.\n",
      "\n",
      "Please adapt your code to use either `displot` (a figure-level function with\n",
      "similar flexibility) or `histplot` (an axes-level function for histograms).\n",
      "\n",
      "For a guide to updating your code to use the new functions, please see\n",
      "https://gist.github.com/mwaskom/de44147ed2974457ad6372750bbe5751\n",
      "\n",
      "  ax = sns.distplot(data_expo,\n"
     ]
    },
    {
     "data": {
      "text/plain": [
       "[Text(0.5, 0, 'Exponential Distribution'), Text(0, 0.5, 'Frequency')]"
      ]
     },
     "execution_count": 54,
     "metadata": {},
     "output_type": "execute_result"
    },
    {
     "data": {
      "image/png": "[encoded data removed]",
      "text/plain": [
       "<Figure size 700x700 with 1 Axes>"
      ]
     },
     "metadata": {},
     "output_type": "display_data"
    }
   ],
   "source": [
    "ax = sns.distplot(data_expo,\n",
    "                  bins = 100,\n",
    "                  kde = True,\n",
    "                  color = 'purple',\n",
    "                  hist_kws = {\"linewidth\": 20, 'alpha':0.5}\n",
    ")\n",
    "ax.set(xlabel='Exponential Distribution', ylabel = 'Frequency')"
   ]
  },
  {
   "attachments": {},
   "cell_type": "markdown",
   "metadata": {},
   "source": [
    "#### Poison Distribution"
   ]
  },
  {
   "cell_type": "code",
   "execution_count": 55,
   "metadata": {},
   "outputs": [
    {
     "data": {
      "text/plain": [
       "array([ 3,  5,  1,  1,  2,  2,  4,  5,  4,  3,  1,  1,  1,  1,  3,  1,  2,\n",
       "        4,  2,  4,  1,  2,  6,  3,  2,  2,  3,  2,  1,  7,  2,  3,  5,  5,\n",
       "        6,  4,  2,  1,  3,  1,  2,  3,  0,  6,  2,  1,  3,  1,  1,  5,  1,\n",
       "        4,  2,  2,  5,  1,  1,  6,  3,  3,  2,  0,  3,  4,  4,  3,  3,  1,\n",
       "        2,  5,  1,  2,  2,  1,  1,  4,  2,  2,  3,  2,  3,  4,  5,  1,  6,\n",
       "        2,  4,  2,  2,  3,  5,  5,  5,  3,  3,  4,  4,  1,  4,  5,  1,  1,\n",
       "        1,  2,  4,  0,  1,  2,  3,  6,  2,  3,  3,  2,  5,  3,  5,  1,  2,\n",
       "        7,  8,  6,  3,  5,  4,  1,  2,  0,  6,  3,  5,  5,  3,  2,  3,  2,\n",
       "        7,  6,  4,  3,  2,  3,  5,  3,  6,  3,  4,  3,  3,  1,  2,  1,  2,\n",
       "        5,  7,  6,  3,  2,  4,  2,  2,  6,  1,  5,  5,  1,  1,  6,  4,  2,\n",
       "        2,  4,  5,  6,  0,  1,  4,  3,  2,  4,  6,  3,  3,  5,  2,  0,  3,\n",
       "        4,  5,  3,  2,  3,  2,  1,  2,  3,  7,  1,  2,  2,  3,  2,  6,  4,\n",
       "        1,  3,  3,  2,  4,  2,  3,  2,  2,  0,  4,  4,  3,  4,  4,  0,  5,\n",
       "        0,  2,  2,  4,  6,  4,  6,  5,  7,  0,  2,  5,  3,  1,  3,  5,  5,\n",
       "        2,  3,  1,  5,  7,  2,  2,  1,  6,  1,  2,  3,  3,  3,  2,  4,  4,\n",
       "        1,  2,  4,  5,  4,  1,  3,  4,  2,  2,  3,  3,  2,  3,  4,  1,  2,\n",
       "        6,  1,  4,  4,  4,  2,  1,  3,  3,  5,  3,  3,  3,  3,  7,  4,  3,\n",
       "        2,  4,  3,  4,  3,  6,  0,  3,  3,  3,  3,  2,  2,  1,  3,  8,  2,\n",
       "        1,  1,  9,  3,  0,  2,  4,  3,  5,  2,  3,  2,  3,  5,  4,  4,  2,\n",
       "        5,  2,  1,  4,  1,  5,  5,  3,  2,  6,  1,  2,  2,  2,  2,  2,  3,\n",
       "        2,  1,  3,  4,  3,  1,  2,  2,  4,  3,  1,  4,  4,  3,  3,  2,  2,\n",
       "        1,  3,  3,  2,  0,  4,  3,  2,  2,  3,  0,  7,  8,  8,  2,  4,  1,\n",
       "        3,  5,  5,  1,  1,  1,  0,  2,  5,  7,  4,  5,  1,  3,  5,  1,  1,\n",
       "        3,  5,  3,  7,  2,  0,  4,  0,  1,  5,  2,  5,  3,  8,  6,  2,  2,\n",
       "        3,  1,  3,  4,  2,  2,  5,  2,  3,  2,  3,  3,  4,  2,  4,  3,  3,\n",
       "        4,  3,  2,  1,  5,  8,  5,  6,  2,  5,  5,  3,  4,  4,  2,  3,  2,\n",
       "        2,  2,  6,  3,  1,  3,  3,  2,  0,  3,  4,  2,  3,  2,  1,  4,  1,\n",
       "        0,  4,  5,  2,  5,  4,  3,  4,  3,  3,  2,  2,  4,  2,  2,  1,  1,\n",
       "        0,  4,  0,  2,  7,  4,  1,  1,  0,  3,  2,  2,  6,  4,  2,  1,  6,\n",
       "        5,  3,  4,  1,  2,  7,  2,  2,  1,  3,  8,  3,  3,  1,  4,  4,  5,\n",
       "        4,  0,  1,  2,  2,  6,  2,  0,  2,  4,  5,  1,  0,  6,  2,  2,  5,\n",
       "        1,  2,  4,  3,  4,  2,  3,  3,  3,  5,  6,  3,  1,  3,  2,  4,  6,\n",
       "        3,  1,  4,  2,  3,  3,  4,  3,  3,  4,  4,  7,  2,  4,  5,  4,  1,\n",
       "        0,  2,  4,  4,  6,  5,  3,  2,  4,  2,  1,  3,  5,  5,  2,  3,  4,\n",
       "        2,  3,  7,  5,  5,  2,  6,  3,  5,  3,  2,  4,  6,  3,  2,  4,  3,\n",
       "        4,  4,  5,  4,  3,  3,  2,  3,  3,  2,  4,  2,  3,  3,  2,  1,  0,\n",
       "        3,  4,  1,  6,  5,  2,  4,  3,  2,  3,  3,  3,  0,  4,  1,  2,  5,\n",
       "        6,  0,  3,  2,  2,  0,  4,  4,  3,  2,  2,  5,  1,  4,  5,  5,  6,\n",
       "        2,  2,  3,  0,  2,  4,  3,  1,  3,  4,  1,  6,  3,  5,  2,  1,  2,\n",
       "        4,  3,  1,  5,  3,  5,  1,  5,  1,  4,  2,  2,  4,  1,  0,  3,  2,\n",
       "        3,  3,  4,  7,  1,  5,  3,  4,  3,  4,  4,  2,  0,  3,  5,  4,  3,\n",
       "        4,  4,  3,  2,  1,  0,  5,  3,  3,  2,  4,  3,  4,  2,  2,  3,  1,\n",
       "        0,  1,  2,  3,  6,  0,  2,  6,  1,  1,  3,  2,  3,  1,  0,  1,  1,\n",
       "        1,  2,  4,  5,  4,  6,  1,  2,  4,  3,  1,  2,  2,  1,  2,  2,  4,\n",
       "        3,  5,  5,  3,  5,  2,  3,  7,  2,  2,  2,  3,  2,  2,  3,  2,  2,\n",
       "        2,  2,  1,  3,  2,  1,  5,  2,  6,  3,  4,  7,  5,  1,  2,  5,  1,\n",
       "        2,  1,  9,  4,  2,  1,  1,  4,  3,  3,  3,  4,  4,  2,  4,  7,  1,\n",
       "        2,  1,  1,  3,  4,  0,  0,  6,  3,  3,  4,  2,  6,  0,  3,  4,  3,\n",
       "        5,  1,  3,  2,  2,  3,  1,  2,  3,  2,  3,  0,  3,  1,  3,  5,  2,\n",
       "        1,  4,  3,  1,  3,  2,  2,  2,  4,  2,  2,  2,  4,  4,  1,  4,  3,\n",
       "        3,  2,  1,  2,  3,  3,  4,  3,  3,  3,  7,  4,  2,  5,  2,  2,  3,\n",
       "        2,  1,  2,  2,  1,  2,  2,  0,  4,  1,  4,  1,  6,  3,  3,  4,  3,\n",
       "        1,  1,  1,  3,  2,  1,  4,  4,  3,  4,  5,  3,  4,  2,  2,  3,  1,\n",
       "        1,  0,  1,  3,  3,  2,  1,  4,  3,  4,  2,  1,  3,  5,  2,  1,  4,\n",
       "        6,  3,  4,  6,  1,  1,  3,  6,  5,  3,  6,  8,  2,  7,  1,  0,  3,\n",
       "        1,  2,  2,  8,  2,  3,  2,  2,  5,  2,  4,  0,  3,  4,  6,  1,  3,\n",
       "        1,  5,  3,  4,  5,  3,  2,  4,  5,  2,  2,  1,  3,  2,  2,  2,  3,\n",
       "        2,  2,  0,  1,  1,  4,  2,  3,  2, 10,  1,  1,  1,  4,  1,  4,  3,\n",
       "        2,  2,  3,  3,  2,  3,  2,  3,  4,  4,  2,  5,  5,  3],\n",
       "      dtype=int64)"
      ]
     },
     "execution_count": 55,
     "metadata": {},
     "output_type": "execute_result"
    }
   ],
   "source": [
    "data_poisson=poisson.rvs(mu=3,size=1000)\n",
    "data_poisson"
   ]
  },
  {
   "cell_type": "code",
   "execution_count": 56,
   "metadata": {},
   "outputs": [
    {
     "name": "stderr",
     "output_type": "stream",
     "text": [
      "C:\\Users\\ASUS\\AppData\\Local\\Temp\\ipykernel_8312\\211892266.py:1: UserWarning: \n",
      "\n",
      "`distplot` is a deprecated function and will be removed in seaborn v0.14.0.\n",
      "\n",
      "Please adapt your code to use either `displot` (a figure-level function with\n",
      "similar flexibility) or `histplot` (an axes-level function for histograms).\n",
      "\n",
      "For a guide to updating your code to use the new functions, please see\n",
      "https://gist.github.com/mwaskom/de44147ed2974457ad6372750bbe5751\n",
      "\n",
      "  ax = sns.distplot(data_poisson,\n"
     ]
    },
    {
     "data": {
      "text/plain": [
       "[Text(0.5, 0, 'Poisson Distribution'), Text(0, 0.5, 'Frequency')]"
      ]
     },
     "execution_count": 56,
     "metadata": {},
     "output_type": "execute_result"
    },
    {
     "data": {
      "image/png": "[encoded data removed]",
      "text/plain": [
       "<Figure size 700x700 with 1 Axes>"
      ]
     },
     "metadata": {},
     "output_type": "display_data"
    }
   ],
   "source": [
    "ax = sns.distplot(data_poisson,\n",
    "                  bins = 50,\n",
    "                  kde = False,\n",
    "                  color = 'black',\n",
    "                  hist_kws = {\"linewidth\": 20, 'alpha':0.5}\n",
    ")\n",
    "ax.set(xlabel='Poisson Distribution', ylabel = 'Frequency')"
   ]
  },
  {
   "attachments": {},
   "cell_type": "markdown",
   "metadata": {},
   "source": [
    "#### Binomial Distribution"
   ]
  },
  {
   "cell_type": "code",
   "execution_count": 57,
   "metadata": {},
   "outputs": [
    {
     "data": {
      "text/plain": [
       "array([ 7,  7,  9,  8,  8,  5,  8,  9,  9,  8,  8,  6,  7,  8,  8,  7,  9,\n",
       "        8,  9,  9, 10,  6,  8,  6,  9,  9,  6,  8,  7,  6,  6,  7,  7,  9,\n",
       "        8,  9,  8,  7,  9,  8,  9,  8,  8,  9, 10,  8,  5,  8,  8,  8,  9,\n",
       "        7,  8,  6,  8,  7,  9,  8,  8, 10,  6,  5,  8,  8,  9,  8,  9,  8,\n",
       "        8,  6,  8,  8,  6,  8,  8,  9,  8, 10,  8,  9,  7,  8,  9,  9,  9,\n",
       "        9,  9,  6,  6, 10, 10,  4,  8,  7, 10,  9,  9,  8,  8,  8,  7,  4,\n",
       "        5,  8,  8,  6,  8,  9,  8,  8,  8,  9,  7,  6,  7,  7,  7,  8,  8,\n",
       "        6,  9,  8,  7,  8,  9,  9,  9,  8,  9,  9,  9,  9,  8,  8,  8,  9,\n",
       "        8,  8,  8,  9,  9,  9,  7,  9,  5,  7,  8,  8,  7,  8,  7,  6,  9,\n",
       "        8,  8,  9,  6,  8,  8,  9,  8,  7,  8, 10,  7,  9,  8,  9,  8,  8,\n",
       "        8,  8,  7,  7,  8,  7,  9,  8, 10,  8, 10,  6, 10,  7,  9,  9,  7,\n",
       "        8,  8,  7,  7,  7, 10,  7,  8,  9,  8,  9,  6,  8,  8, 10,  8,  7,\n",
       "        7,  8,  9, 10,  9,  9,  5,  8,  9,  7, 10,  9,  6,  7,  5,  7,  7,\n",
       "        5,  6,  8,  9, 10,  7,  6,  9,  8, 10, 10,  7,  9,  7,  8, 10,  8,\n",
       "        6,  8,  7,  9, 10,  9,  6,  7, 10,  6,  8,  7,  7,  7,  7,  9,  8,\n",
       "        5,  7,  9,  8, 10,  7,  8,  5,  8,  9,  8,  9,  8,  6,  9,  6,  8,\n",
       "        9,  9,  6,  5,  9,  8,  8, 10,  8,  7, 10,  5, 10,  9,  7, 10,  7,\n",
       "        9,  8,  8,  7,  6,  9,  9,  8,  9,  7,  8, 10,  8,  9,  9,  7, 10,\n",
       "        6,  8,  8, 10,  5,  8,  9,  7,  6,  7,  7, 10,  6,  6,  8,  9,  9,\n",
       "        8,  8,  7,  8, 10,  8,  8,  7,  6,  7,  8,  9,  9,  8,  6,  5,  8,\n",
       "        8,  7,  8,  8,  8,  9,  9,  7,  8,  8,  8, 10,  9,  6,  5, 10,  6,\n",
       "        9,  6,  6,  7,  7,  8,  7,  7,  9,  8,  7,  8,  9,  9,  7,  7,  7,\n",
       "        9,  7,  7,  8,  9,  7,  7,  9,  9,  8,  9,  8,  9, 10,  9,  7,  8,\n",
       "        7,  8,  7,  7,  9,  9,  6,  5,  8, 10,  7,  5,  7,  9,  8,  8,  9,\n",
       "        9,  8,  6,  7,  7,  8,  9,  6,  8,  8,  7,  6,  6,  8,  6,  8,  9,\n",
       "        6,  9,  7,  9,  7,  6,  8,  8,  9,  9,  6, 10, 10,  9,  5,  8,  7,\n",
       "        8,  7,  7,  8,  8, 10,  5, 10,  9,  7,  5,  9, 10, 10,  8,  8,  9,\n",
       "       10,  7,  9,  7,  7,  9,  9,  8,  6,  8,  8,  9,  7,  8,  7,  7, 10,\n",
       "        7,  4,  9,  8,  9,  7,  8,  8, 10,  9,  6,  7,  8,  7,  6,  8, 10,\n",
       "        7,  8,  6,  6,  8,  9,  9,  9, 10,  7,  8,  8,  8,  7,  9, 10, 10,\n",
       "        9,  9,  9,  9,  9,  8, 10,  9,  8,  8, 10, 10,  8,  9,  8,  9,  7,\n",
       "        8,  8, 10,  7,  8,  8,  8,  8,  8,  6,  8,  8,  8,  7,  7,  8,  7,\n",
       "       10,  8,  9,  9,  8,  9,  7,  7,  9,  6,  8,  7,  7,  8,  7,  7,  8,\n",
       "        7,  9, 10,  7,  7,  7,  8,  5,  9,  6,  8,  6,  5,  7,  8,  6,  7,\n",
       "        8,  7,  9,  9, 10,  7,  7,  8,  8,  7, 10,  7,  9,  8,  6,  6,  9,\n",
       "        8,  7,  9,  9,  9,  8,  8, 10,  8,  6,  9,  7,  7,  7,  9,  8, 10,\n",
       "        8,  8,  8,  8,  9,  8, 10,  8,  6, 10,  7,  8,  7,  8, 10,  9,  8,\n",
       "       10, 10, 10,  5,  6,  8,  7,  7,  6,  7,  7,  8,  9,  7,  6,  8,  9,\n",
       "       10,  8,  9,  9,  9,  9,  6,  8, 10,  5,  8,  6,  9,  6,  9,  7,  7,\n",
       "        8,  9,  7,  8,  7,  7,  8,  8,  7,  7,  9,  5,  9,  9,  8,  6,  7,\n",
       "        6,  9,  8,  9,  9,  8,  9,  7,  7,  7, 10,  8,  9,  7, 10, 10,  8,\n",
       "        9,  9,  8,  6,  7,  8,  8,  9,  7,  9,  8,  9,  8,  6,  7,  8, 10,\n",
       "        8,  7,  6,  9,  5,  9,  7,  7,  6,  8,  7,  9,  6,  9,  8,  8,  7,\n",
       "        9,  8,  7, 10,  6,  9,  6,  7,  8,  8,  8,  9,  6,  7,  4, 10,  8,\n",
       "        8,  7,  9,  8,  9,  5,  7,  9,  7,  9,  9,  8,  9,  8,  6,  7,  7,\n",
       "        8,  7,  9,  8,  7, 10,  7, 10,  9,  9,  8,  9,  8,  6,  8,  7,  8,\n",
       "        9,  8,  8,  7,  7,  8,  8,  8,  7,  6, 10,  7,  8,  8,  7,  9,  9,\n",
       "       10,  6,  5,  6,  9,  9, 10,  7,  8, 10,  9,  9,  6,  7,  6, 10,  8,\n",
       "        7,  9,  8,  9, 10,  9,  6,  9,  9,  8, 10,  8,  6,  9,  7,  6,  6,\n",
       "        7,  5,  6,  9,  7,  5,  9,  8,  3,  8,  7,  8,  9,  8,  7,  8,  9,\n",
       "        6,  9,  9, 10,  9,  9,  9,  7,  8,  9,  9,  9,  9,  5,  9,  7,  4,\n",
       "        9,  8,  7,  5,  9,  8,  9,  8,  6,  9, 10,  6,  5,  8,  8,  9,  6,\n",
       "        7,  9,  9,  8,  5,  8,  8,  8,  8,  9,  8,  8,  7,  9,  7,  7,  9,\n",
       "        9,  9,  8,  7,  8,  9,  8,  9,  7,  7,  8,  8,  8,  8,  7,  8,  6,\n",
       "       10,  6,  6,  8,  7,  6,  8,  8,  9, 10,  9,  7,  9,  8,  7,  8,  8,\n",
       "       10,  7,  8,  9, 10,  8,  8,  9,  7,  9,  9,  9,  8,  7,  8,  8,  8,\n",
       "        7,  8,  7,  7, 10,  8, 10,  9,  6,  7,  7,  9,  7,  8,  8,  8,  9,\n",
       "        7,  5, 10,  7,  7,  8,  8,  8, 10,  9,  7,  6,  5,  9,  7,  7,  6,\n",
       "        7,  7,  7,  7,  7,  9,  7,  7, 10,  7,  7,  8, 10, 10],\n",
       "      dtype=int64)"
      ]
     },
     "execution_count": 57,
     "metadata": {},
     "output_type": "execute_result"
    }
   ],
   "source": [
    "data_binom=binom.rvs(n=10,p=0.8,size=1000)\n",
    "data_binom"
   ]
  },
  {
   "cell_type": "code",
   "execution_count": 58,
   "metadata": {},
   "outputs": [
    {
     "name": "stderr",
     "output_type": "stream",
     "text": [
      "C:\\Users\\ASUS\\AppData\\Local\\Temp\\ipykernel_8312\\1716176285.py:1: UserWarning: \n",
      "\n",
      "`distplot` is a deprecated function and will be removed in seaborn v0.14.0.\n",
      "\n",
      "Please adapt your code to use either `displot` (a figure-level function with\n",
      "similar flexibility) or `histplot` (an axes-level function for histograms).\n",
      "\n",
      "For a guide to updating your code to use the new functions, please see\n",
      "https://gist.github.com/mwaskom/de44147ed2974457ad6372750bbe5751\n",
      "\n",
      "  ax = sns.distplot(data_binom,\n"
     ]
    },
    {
     "data": {
      "text/plain": [
       "[Text(0.5, 0, 'Binomial Distribution'), Text(0, 0.5, 'Frequency')]"
      ]
     },
     "execution_count": 58,
     "metadata": {},
     "output_type": "execute_result"
    },
    {
     "data": {
      "image/png": "[encoded data removed]",
      "text/plain": [
       "<Figure size 700x700 with 1 Axes>"
      ]
     },
     "metadata": {},
     "output_type": "display_data"
    }
   ],
   "source": [
    "ax = sns.distplot(data_binom,\n",
    "                  kde = False,\n",
    "                  color = 'Pink',\n",
    "                  hist_kws = {\"linewidth\": 15, 'alpha':0.5}\n",
    ")\n",
    "ax.set(xlabel='Binomial Distribution', ylabel = 'Frequency')"
   ]
  },
  {
   "attachments": {},
   "cell_type": "markdown",
   "metadata": {},
   "source": [
    "#### Bernoulli Distribution"
   ]
  },
  {
   "cell_type": "code",
   "execution_count": 59,
   "metadata": {},
   "outputs": [
    {
     "data": {
      "text/plain": [
       "array([0, 0, 1, 0, 1, 1, 0, 0, 0, 0, 1, 0, 0, 0, 1, 1, 0, 0, 1, 0, 0, 0,\n",
       "       1, 0, 1, 1, 0, 0, 1, 1, 1, 0, 0, 1, 0, 0, 1, 0, 1, 1, 1, 1, 0, 1,\n",
       "       1, 0, 0, 0, 1, 0, 1, 0, 0, 1, 1, 1, 1, 1, 1, 1, 1, 1, 1, 0, 1, 0,\n",
       "       1, 1, 1, 0, 1, 0, 0, 0, 0, 0, 1, 0, 0, 0, 0, 0, 1, 0, 0, 0, 1, 1,\n",
       "       1, 1, 0, 1, 1, 1, 0, 0, 0, 1, 1, 0, 1, 0, 0, 1, 0, 0, 1, 0, 1, 1,\n",
       "       1, 1, 0, 0, 0, 0, 1, 0, 1, 0, 0, 0, 0, 1, 1, 0, 1, 1, 0, 0, 1, 1,\n",
       "       0, 0, 1, 0, 1, 0, 1, 1, 0, 0, 1, 0, 0, 1, 1, 0, 1, 0, 1, 1, 0, 1,\n",
       "       0, 1, 1, 1, 0, 1, 0, 1, 0, 0, 0, 0, 0, 1, 0, 1, 1, 1, 1, 1, 0, 0,\n",
       "       1, 0, 0, 1, 1, 1, 0, 1, 1, 0, 1, 1, 1, 0, 1, 1, 1, 0, 1, 1, 0, 1,\n",
       "       0, 0, 0, 0, 0, 1, 1, 1, 0, 1, 1, 0, 0, 1, 1, 1, 0, 0, 1, 1, 1, 1,\n",
       "       1, 1, 1, 1, 1, 0, 0, 1, 0, 0, 1, 1, 0, 0, 1, 1, 1, 0, 0, 0, 1, 1,\n",
       "       1, 0, 1, 1, 1, 1, 1, 1, 0, 1, 1, 0, 1, 0, 1, 1, 1, 1, 1, 1, 1, 0,\n",
       "       1, 1, 0, 1, 1, 0, 0, 0, 0, 1, 0, 0, 0, 1, 1, 0, 1, 0, 0, 1, 1, 0,\n",
       "       0, 1, 1, 1, 0, 1, 0, 1, 1, 1, 1, 1, 1, 1, 1, 1, 0, 1, 0, 1, 1, 1,\n",
       "       0, 1, 1, 1, 0, 0, 1, 1, 1, 0, 1, 0, 1, 0, 1, 1, 0, 0, 1, 0, 0, 1,\n",
       "       1, 1, 1, 0, 1, 1, 0, 1, 0, 0, 1, 0, 1, 1, 1, 1, 0, 1, 1, 1, 1, 1,\n",
       "       0, 0, 1, 0, 1, 1, 0, 1, 0, 1, 0, 0, 0, 1, 1, 0, 1, 0, 0, 1, 1, 1,\n",
       "       1, 0, 0, 0, 0, 1, 1, 1, 1, 1, 0, 0, 0, 1, 1, 0, 1, 1, 0, 0, 1, 1,\n",
       "       1, 0, 1, 1, 1, 1, 1, 1, 1, 1, 1, 0, 1, 0, 1, 0, 0, 0, 0, 0, 1, 0,\n",
       "       0, 1, 1, 1, 1, 1, 1, 0, 1, 0, 0, 1, 1, 0, 0, 0, 0, 1, 1, 1, 0, 1,\n",
       "       1, 1, 0, 0, 1, 1, 1, 1, 1, 1, 0, 0, 0, 1, 1, 1, 1, 1, 1, 1, 1, 1,\n",
       "       1, 1, 1, 0, 1, 1, 1, 0, 0, 1, 0, 0, 1, 0, 1, 1, 1, 1, 1, 1, 0, 1,\n",
       "       1, 1, 1, 0, 0, 1, 1, 0, 1, 0, 1, 1, 0, 1, 1, 0, 1, 0, 0, 1, 1, 1,\n",
       "       0, 1, 1, 1, 1, 1, 1, 0, 0, 0, 1, 0, 1, 1, 1, 0, 1, 1, 1, 1, 1, 0,\n",
       "       0, 1, 1, 1, 0, 1, 1, 1, 1, 1, 1, 1, 1, 0, 0, 1, 1, 1, 0, 1, 1, 1,\n",
       "       1, 1, 0, 0, 1, 0, 0, 0, 1, 1, 0, 1, 0, 1, 1, 0, 0, 1, 0, 1, 1, 0,\n",
       "       1, 1, 1, 1, 0, 0, 1, 0, 1, 1, 1, 1, 1, 0, 1, 1, 0, 0, 0, 0, 0, 0,\n",
       "       1, 1, 1, 1, 0, 1, 1, 1, 1, 0, 1, 1, 0, 1, 1, 1, 1, 1, 1, 0, 0, 1,\n",
       "       0, 1, 1, 0, 1, 1, 0, 1, 0, 1, 1, 1, 1, 1, 1, 0, 1, 1, 0, 0, 1, 0,\n",
       "       1, 0, 0, 1, 1, 1, 1, 1, 0, 1, 1, 0, 1, 1, 0, 1, 1, 1, 1, 1, 1, 0,\n",
       "       1, 1, 1, 1, 1, 1, 0, 1, 0, 0, 1, 1, 0, 0, 1, 0, 0, 0, 1, 1, 1, 1,\n",
       "       1, 1, 1, 1, 0, 0, 0, 1, 0, 1, 1, 1, 1, 1, 1, 1, 0, 0, 1, 1, 1, 0,\n",
       "       1, 1, 1, 1, 1, 0, 1, 1, 1, 0, 1, 1, 1, 0, 1, 1, 0, 1, 1, 1, 0, 0,\n",
       "       0, 1, 1, 0, 1, 1, 0, 0, 1, 1, 0, 1, 0, 1, 1, 0, 0, 1, 1, 0, 1, 0,\n",
       "       1, 0, 1, 1, 0, 0, 1, 1, 1, 0, 1, 1, 1, 1, 1, 1, 1, 1, 1, 1, 1, 1,\n",
       "       1, 1, 0, 0, 0, 0, 0, 0, 0, 1, 0, 1, 0, 0, 0, 0, 0, 1, 1, 0, 1, 0,\n",
       "       1, 1, 0, 0, 1, 1, 0, 1, 1, 1, 1, 1, 1, 1, 1, 1, 0, 1, 1, 1, 1, 1,\n",
       "       1, 1, 0, 0, 1, 1, 0, 1, 0, 0, 0, 0, 0, 0, 0, 0, 1, 0, 0, 1, 0, 0,\n",
       "       0, 0, 0, 1, 0, 0, 0, 1, 1, 1, 0, 0, 1, 1, 0, 1, 1, 0, 1, 1, 0, 0,\n",
       "       1, 0, 0, 1, 1, 0, 0, 1, 0, 1, 1, 1, 1, 0, 1, 0, 0, 1, 0, 0, 1, 1,\n",
       "       1, 0, 1, 1, 0, 1, 1, 1, 0, 0, 0, 1, 1, 1, 1, 0, 1, 1, 0, 0, 1, 1,\n",
       "       0, 0, 0, 1, 1, 0, 1, 0, 1, 1, 1, 0, 0, 1, 1, 0, 0, 1, 0, 1, 1, 1,\n",
       "       1, 0, 0, 0, 0, 0, 1, 0, 0, 1, 1, 1, 1, 0, 1, 0, 1, 1, 0, 0, 0, 1,\n",
       "       0, 1, 1, 1, 1, 1, 1, 0, 0, 0, 1, 1, 1, 0, 1, 1, 0, 1, 1, 1, 0, 0,\n",
       "       1, 1, 1, 0, 0, 1, 0, 1, 0, 1, 1, 0, 1, 1, 1, 0, 1, 1, 0, 0, 0, 1,\n",
       "       1, 1, 1, 1, 1, 0, 1, 0, 1, 0], dtype=int64)"
      ]
     },
     "execution_count": 59,
     "metadata": {},
     "output_type": "execute_result"
    }
   ],
   "source": [
    "data_bern=bernoulli.rvs(size=1000, p=0.6)\n",
    "data_bern"
   ]
  },
  {
   "cell_type": "code",
   "execution_count": 60,
   "metadata": {},
   "outputs": [
    {
     "name": "stderr",
     "output_type": "stream",
     "text": [
      "C:\\Users\\ASUS\\AppData\\Local\\Temp\\ipykernel_8312\\2653186633.py:1: UserWarning: \n",
      "\n",
      "`distplot` is a deprecated function and will be removed in seaborn v0.14.0.\n",
      "\n",
      "Please adapt your code to use either `displot` (a figure-level function with\n",
      "similar flexibility) or `histplot` (an axes-level function for histograms).\n",
      "\n",
      "For a guide to updating your code to use the new functions, please see\n",
      "https://gist.github.com/mwaskom/de44147ed2974457ad6372750bbe5751\n",
      "\n",
      "  ax = sns.distplot(data_bern,\n"
     ]
    },
    {
     "data": {
      "text/plain": [
       "[Text(0.5, 0, 'Bernoulli Distribution'), Text(0, 0.5, 'Frequency')]"
      ]
     },
     "execution_count": 60,
     "metadata": {},
     "output_type": "execute_result"
    },
    {
     "data": {
      "image/png": "[encoded data removed]",
      "text/plain": [
       "<Figure size 700x700 with 1 Axes>"
      ]
     },
     "metadata": {},
     "output_type": "display_data"
    }
   ],
   "source": [
    "ax = sns.distplot(data_bern,\n",
    "                  kde = False,\n",
    "                  color = 'Yellow',\n",
    "                  hist_kws = {\"linewidth\": 15, 'alpha':0.5}\n",
    ")\n",
    "ax.set(xlabel='Bernoulli Distribution', ylabel = 'Frequency')"
   ]
  },
  {
   "attachments": {},
   "cell_type": "markdown",
   "metadata": {},
   "source": [
    "### Confident Interval"
   ]
  },
  {
   "cell_type": "code",
   "execution_count": 61,
   "metadata": {},
   "outputs": [
    {
     "data": {
      "text/plain": [
       "754.2336328626444"
      ]
     },
     "execution_count": 61,
     "metadata": {},
     "output_type": "execute_result"
    }
   ],
   "source": [
    "mean_confiden = chelsea_['BLOCK'].mean()\n",
    "n_confiden = chelsea_['BLOCK'].count()\n",
    "sd_confiden = statistics.stdev(chelsea_['BLOCK'])\n",
    "z = 1.96 \n",
    "mean_confiden"
   ]
  },
  {
   "cell_type": "code",
   "execution_count": 62,
   "metadata": {},
   "outputs": [
    {
     "data": {
      "text/plain": [
       "779"
      ]
     },
     "execution_count": 62,
     "metadata": {},
     "output_type": "execute_result"
    }
   ],
   "source": [
    "n_confiden"
   ]
  },
  {
   "cell_type": "code",
   "execution_count": 63,
   "metadata": {},
   "outputs": [
    {
     "data": {
      "text/plain": [
       "37.418248143276614"
      ]
     },
     "execution_count": 63,
     "metadata": {},
     "output_type": "execute_result"
    }
   ],
   "source": [
    "sd_confiden"
   ]
  },
  {
   "cell_type": "code",
   "execution_count": 64,
   "metadata": {},
   "outputs": [
    {
     "name": "stdout",
     "output_type": "stream",
     "text": [
      "751.6059630412153 756.8613026840735\n"
     ]
    }
   ],
   "source": [
    "lcb = mean_confiden - z * (sd_confiden/np.sqrt(n_confiden))\n",
    "ucb = mean_confiden + z * (sd_confiden/np.sqrt(n_confiden))\n",
    "print(lcb,ucb)"
   ]
  },
  {
   "cell_type": "code",
   "execution_count": 65,
   "metadata": {},
   "outputs": [
    {
     "data": {
      "text/plain": [
       "1551.6059050064184"
      ]
     },
     "execution_count": 65,
     "metadata": {},
     "output_type": "execute_result"
    }
   ],
   "source": [
    "mean_confi = chelsea_['YEAR BUILT'].mean()\n",
    "n_confi = chelsea_['YEAR BUILT'].count()\n",
    "sd_confi = statistics.stdev(chelsea_['YEAR BUILT'])\n",
    "z = 1.96 \n",
    "mean_confi"
   ]
  },
  {
   "cell_type": "code",
   "execution_count": 66,
   "metadata": {},
   "outputs": [
    {
     "data": {
      "text/plain": [
       "779"
      ]
     },
     "execution_count": 66,
     "metadata": {},
     "output_type": "execute_result"
    }
   ],
   "source": [
    "n_confi"
   ]
  },
  {
   "cell_type": "code",
   "execution_count": 67,
   "metadata": {},
   "outputs": [
    {
     "data": {
      "text/plain": [
       "790.8799970174424"
      ]
     },
     "execution_count": 67,
     "metadata": {},
     "output_type": "execute_result"
    }
   ],
   "source": [
    "sd_confi"
   ]
  },
  {
   "cell_type": "code",
   "execution_count": 68,
   "metadata": {},
   "outputs": [
    {
     "name": "stdout",
     "output_type": "stream",
     "text": [
      "1496.0669205895842 1607.1448894232526\n"
     ]
    }
   ],
   "source": [
    "lcb = mean_confi - z * (sd_confi/np.sqrt(n_confi))\n",
    "ucb = mean_confi + z * (sd_confi/np.sqrt(n_confi))\n",
    "print(lcb,ucb)"
   ]
  },
  {
   "attachments": {},
   "cell_type": "markdown",
   "metadata": {},
   "source": [
    "### Hypothesis Testing\n",
    "\n",
    "- if p-value>alpha: fail to reject the null hypothesis (i.e not significant result)\n",
    "- if p-value<=alpha: reject the null hypothesis (i.e significant result)"
   ]
  },
  {
   "cell_type": "code",
   "execution_count": 69,
   "metadata": {},
   "outputs": [
    {
     "name": "stdout",
     "output_type": "stream",
     "text": [
      "stat=-0.096, p=0.007\n",
      "Probably Dependent\n"
     ]
    }
   ],
   "source": [
    "stat, p = pearsonr(yearbuilt_, blok)\n",
    "print('stat=%.3f, p=%.3f' % (stat, p))\n",
    "if p > 0.05:\n",
    "    print('Probably Independent')\n",
    "else :\n",
    "    print('Probably Dependent')\n"
   ]
  },
  {
   "attachments": {},
   "cell_type": "markdown",
   "metadata": {},
   "source": [
    "Karena nilai p-value<=alpha(0.05) maka H0 ditolak yang berarti bahwa tahun pembangunan dan block berpengaruh secara signifikan terhadap variabel dependen"
   ]
  }
 ],
 "metadata": {
  "kernelspec": {
   "display_name": "Python 3",
   "language": "python",
   "name": "python3"
  },
  "language_info": {
   "codemirror_mode": {
    "name": "ipython",
    "version": 3
   },
   "file_extension": ".py",
   "mimetype": "text/x-python",
   "name": "python",
   "nbconvert_exporter": "python",
   "pygments_lexer": "ipython3",
   "version": "3.11.2"
  },
  "orig_nbformat": 4,
  "vscode": {
   "interpreter": {
    "hash": "318f2c383d48220c821fefd227250c35bb828f95042f5889a5ad1704b1baf79c"
   }
  }
 },
 "nbformat": 4,
 "nbformat_minor": 2
}
